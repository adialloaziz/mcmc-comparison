{
 "cells": [
  {
   "cell_type": "code",
   "execution_count": null,
   "metadata": {},
   "outputs": [],
   "source": [
    "from models.models import model1, bcm_sir #All the models we design for the test\n",
    "# Import nevergrad\n",
    "import nevergrad as ng\n",
    "import pandas as pd \n",
    "import numpy as np\n",
    "# Import our convenience wrapper\n",
    "from estival.wrappers.nevergrad import optimize_model\n",
    "import matplotlib.pyplot as plt\n",
    "\n",
    "import pymc as pm\n",
    "import arviz as az\n",
    "import Calibrate as cal #Runing the calibration process and gathering results\n"
   ]
  },
  {
   "cell_type": "code",
   "execution_count": null,
   "metadata": {},
   "outputs": [],
   "source": [
    "bcm_model_1 = bcm_sir()\n",
    "model_1 = model1()"
   ]
  },
  {
   "cell_type": "code",
   "execution_count": null,
   "metadata": {},
   "outputs": [],
   "source": [
    "\n",
    "#Adding some noise\n",
    "clean_target = bcm_model_1.targets[\"active_cases\"].data\n",
    "bcm_model_1.targets[\"active_cases\"].data = clean_target * np.exp(np.random.normal(0.1,0.001,len(clean_target)))\n",
    "# bcm_model_1.targets[\"active_cases\"].data.plot(style='.', label=\"Noisy data\")\n",
    "clean_target.plot(style = '.',color = \"red\",label=\"actives_cases\")\n",
    "plt.legend()\n",
    "plt.show()\n"
   ]
  },
  {
   "cell_type": "code",
   "execution_count": null,
   "metadata": {},
   "outputs": [],
   "source": [
    "# TwoPointsDE is a good suggested default for some of our typical use cases\n",
    "opt_class = ng.optimizers.TwoPointsDE\n",
    "orunner = optimize_model(bcm_model_1, opt_class=opt_class)"
   ]
  },
  {
   "cell_type": "code",
   "execution_count": null,
   "metadata": {},
   "outputs": [],
   "source": [
    "# Here we run the optimizer in a loop, inspecting the current best point at each iteration\n",
    "# Using the loss information at each step can provide the basis for stopping conditions\n",
    "\n",
    "for i in range(8):\n",
    "    # Run the minimizer for a specified 'budget' (ie number of evaluations)\n",
    "    rec = orunner.minimize(1000)\n",
    "    # Print the loss (objective function value) of the current recommended parameters\n",
    "    print(rec.loss)"
   ]
  },
  {
   "cell_type": "code",
   "execution_count": null,
   "metadata": {},
   "outputs": [],
   "source": [
    "mle_params = rec.value[1]\n",
    "print(mle_params)"
   ]
  },
  {
   "cell_type": "code",
   "execution_count": null,
   "metadata": {},
   "outputs": [],
   "source": [
    "# Run the model against the parameter estimates\n",
    "res_opt = bcm_model_1.run(mle_params)"
   ]
  },
  {
   "cell_type": "code",
   "execution_count": null,
   "metadata": {},
   "outputs": [],
   "source": [
    "target = \"active_cases\"\n",
    "pd.options.plotting.backend = \"matplotlib\" #To allow plotly graphic. Swich to \"matplotlib\" if facing some troubles while ploting\n",
    "\n",
    "# You can access the targets from the BCM\n",
    "bcm_model_1.targets[target].data.plot(style='.')\n",
    "res_opt.derived_outputs[target].plot()"
   ]
  },
  {
   "cell_type": "markdown",
   "metadata": {},
   "source": [
    "## MCMC Calibration"
   ]
  },
  {
   "cell_type": "code",
   "execution_count": null,
   "metadata": {},
   "outputs": [],
   "source": [
    "sampler = pm.DEMetropolisZ\n",
    "res_DEMz = cal.Single_analysis(sampler= sampler,\n",
    "                               chains=4,\n",
    "                               draws=5000,\n",
    "                               tune=1000,\n",
    "                               cores=4,\n",
    "                               bcm_model=bcm_model_1,\n",
    "                               )"
   ]
  },
  {
   "cell_type": "code",
   "execution_count": null,
   "metadata": {},
   "outputs": [],
   "source": [
    "idata = res_DEMz[\"Trace\"][0]"
   ]
  },
  {
   "cell_type": "code",
   "execution_count": null,
   "metadata": {},
   "outputs": [],
   "source": [
    "az.plot_posterior(idata,point_estimate='mode' )"
   ]
  },
  {
   "cell_type": "code",
   "execution_count": null,
   "metadata": {},
   "outputs": [],
   "source": [
    "def fitting_test(idata, bcm, model):\n",
    "    from estival.sampling.tools import likelihood_extras_for_samples\n",
    "    likelihood_df = likelihood_extras_for_samples(idata.posterior, bcm)\n",
    "    # likelihood_df = likelihood_extras_for_idata(idata, bcm)\n",
    "    ldf_sorted = likelihood_df.sort_values(by=\"logposterior\",ascending=False)\n",
    "\n",
    "    # Extract the parameters from the calibration samples\n",
    "    map_params = idata.posterior.to_dataframe().loc[ldf_sorted.index[0]].to_dict()\n",
    "    bcm.loglikelihood(**map_params), ldf_sorted.iloc[0][\"loglikelihood\"]\n",
    "    # Run the model with these parameters\n",
    "    model.run(map_params)\n",
    "    # ...and plot some results\n",
    "    return model.derived_outputs\n"
   ]
  },
  {
   "cell_type": "code",
   "execution_count": null,
   "metadata": {},
   "outputs": [],
   "source": [
    "res = fitting_test(idata, bcm_model_1, model_1)"
   ]
  },
  {
   "cell_type": "code",
   "execution_count": null,
   "metadata": {},
   "outputs": [],
   "source": [
    "df = pd.DataFrame({\"DEMZ\": res['active_cases']})\n",
    "df.plot()\n",
    "res_opt.derived_outputs[target].plot(label='Optimization')\n",
    "bcm_model_1.targets[\"active_cases\"].data.plot(style='.', label=\"target data\")\n",
    "plt.legend()\n",
    "plt.show()\n"
   ]
  }
 ],
 "metadata": {
  "kernelspec": {
   "display_name": "emulearn",
   "language": "python",
   "name": "python3"
  },
  "language_info": {
   "codemirror_mode": {
    "name": "ipython",
    "version": 3
   },
   "file_extension": ".py",
   "mimetype": "text/x-python",
   "name": "python",
   "nbconvert_exporter": "python",
   "pygments_lexer": "ipython3",
   "version": "3.10.14"
  }
 },
 "nbformat": 4,
 "nbformat_minor": 2
}
