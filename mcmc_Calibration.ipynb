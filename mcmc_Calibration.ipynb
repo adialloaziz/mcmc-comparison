{
 "cells": [
  {
   "cell_type": "markdown",
   "metadata": {},
   "source": [
    "# MCMC CALIBRATION TECHNICS IN CONTEXT OF  INFECTIOUS DISEASE MODELING"
   ]
  },
  {
   "cell_type": "markdown",
   "metadata": {},
   "source": [
    "## Prerequies"
   ]
  },
  {
   "cell_type": "code",
   "execution_count": null,
   "metadata": {},
   "outputs": [],
   "source": [
    "# pip install multiprocess\n",
    "# %pip install --upgrade --force-reinstall multiprocess\n",
    "\n",
    "#Compatible with latest jax version  \n",
    "# %pip install summerepi2==1.3.6\n",
    "# %pip install jinja2"
   ]
  },
  {
   "cell_type": "code",
   "execution_count": 1,
   "metadata": {},
   "outputs": [],
   "source": [
    "import multiprocess as mp\n",
    "import platform\n",
    "\n",
    "# This is required for pymc parallel evaluation in notebooks \n",
    "# But has to be change while using a python script \n",
    "# Use this following instruction instead\n",
    "# if __name__ == \"__main__\":\n",
    "#     if platform.system() != \"Windows\":\n",
    "#         mp.set_start_method('spawn')\n",
    "    \n",
    "    # rest of your code body here inside the if __name__\n",
    "if platform.system() != \"Windows\":\n",
    "    \n",
    "    mp.set_start_method('forkserver')"
   ]
  },
  {
   "cell_type": "code",
   "execution_count": 2,
   "metadata": {},
   "outputs": [
    {
     "name": "stderr",
     "output_type": "stream",
     "text": [
      "WARNING (pytensor.tensor.blas): Using NumPy C-API based implementation for BLAS functions.\n"
     ]
    }
   ],
   "source": [
    "import Calibrate as cal #Runing the calibration process and gathering results\n",
    "from calibs_utilities import get_all_priors, get_targets, load_data\n",
    "from models.models import model1, model2, bcm_seir_age_strat, bcm_sir #All the models we design for the test\n",
    "from Calibrate import plot_comparison_bars\n",
    "\n",
    "# Combining tagets and prior with our summer2 model in a BayesianCompartmentalModel (bcm_model_1)\n",
    "from estival.model import BayesianCompartmentalModel\n",
    "from estival.sampling.tools import likelihood_extras_for_idata\n",
    "from estival.sampling.tools import likelihood_extras_for_samples\n",
    "\n",
    "\n",
    "import pandas as pd\n",
    "import numpy as np\n",
    "# import plotly.express as px\n",
    "import matplotlib.pyplot as plt\n",
    "from typing import List\n",
    "\n",
    "import pymc as pm\n",
    "\n",
    "# We use estivals parallel tools to run the model evaluations\n",
    "from estival.utils.parallel import map_parallel\n",
    "\n",
    "import numpyro\n",
    "from numpyro import distributions as dist\n",
    "from numpyro import infer\n",
    "import arviz as az\n",
    "import pickle\n",
    "from datetime import datetime\n",
    "from plotly import graph_objects as go\n",
    "# import jax\n",
    "from jax import numpy as jnp\n",
    "pd.options.plotting.backend = \"plotly\" #To allow plotly graphic. Swich to \"matplotlib\" if facing some troubles while ploting\n",
    "# pd.options.plotting.backend = \"matplotlib\"\n",
    "import pytensor"
   ]
  },
  {
   "cell_type": "code",
   "execution_count": null,
   "metadata": {},
   "outputs": [],
   "source": [
    "# %pip install pytensor==2.20\n",
    "# 5.11\n",
    "# pm.__version__\n",
    "# %pip install pymc==5.11\n",
    "\n"
   ]
  },
  {
   "cell_type": "markdown",
   "metadata": {},
   "source": [
    "# Application 1: The basic SIR model"
   ]
  },
  {
   "cell_type": "markdown",
   "metadata": {},
   "source": [
    "## Model Definition and Configuration\n",
    "\n",
    "A mechanistic model (ODE-Based) model discribing Infectious Disease transmission."
   ]
  },
  {
   "cell_type": "code",
   "execution_count": null,
   "metadata": {},
   "outputs": [],
   "source": [
    "model_1 = model1() "
   ]
  },
  {
   "cell_type": "code",
   "execution_count": null,
   "metadata": {},
   "outputs": [],
   "source": [
    "#Defining  a Bayesian Compartmental Model\n",
    "#Targets and priors are already defined with the data \n",
    "#See models.py for the costumization\n",
    "bcm_model_1 = bcm_sir()\n",
    "# bcm_model_1 = BayesianCompartmentalModel(model_1, parameters, priors, targets)\n"
   ]
  },
  {
   "cell_type": "markdown",
   "metadata": {},
   "source": [
    "### Trial run "
   ]
  },
  {
   "cell_type": "code",
   "execution_count": null,
   "metadata": {},
   "outputs": [],
   "source": [
    "pd.options.plotting.backend = \"plotly\" #To allow plotly graphic. Swich to \"matplotlib\" if facing some troubles while ploting\n",
    "output_labels = {\"index\": \"time\", \"value\": \"number infectious\"}\n",
    "\n",
    "model_1.run(bcm_model_1.parameters)\n",
    "plt.rcParams[\"figure.figsize\"] = (5, 5)\n",
    "\n",
    "\n",
    "df = pd.DataFrame(\n",
    "    {\n",
    "        \"modelled\": model_1.get_outputs_df()[\"I\"],\n",
    "        \"observed\": bcm_model_1.targets[\"active_cases\"].data,\n",
    "    }\n",
    ")\n",
    "df.plot(kind=\"scatter\", labels=output_labels) #,figsize=(3,3));"
   ]
  },
  {
   "cell_type": "markdown",
   "metadata": {},
   "source": [
    "### Sampling "
   ]
  },
  {
   "cell_type": "code",
   "execution_count": null,
   "metadata": {},
   "outputs": [],
   "source": [
    "##____Uniform Initialisation_________\n",
    "def init_uniform(num_chains, parameters):\n",
    "    init_vals = []\n",
    "    for c in range(num_chains):\n",
    "        init_vals.append({param: np.random.uniform(0.0,1.0) for param in parameters.keys()})\n",
    "    \n",
    "    return init_vals\n",
    "\n",
    "\n",
    "init_vals_nuts = {param: jnp.array(np.random.uniform(0.0,1.0, 4)) for param in bcm_model_1.parameters.keys()}\n",
    "\n",
    "init_vals_4 = init_uniform(4,bcm_model_1.parameters)\n",
    "init_vals_6 = init_uniform(6,bcm_model_1.parameters)\n",
    "\n"
   ]
  },
  {
   "cell_type": "code",
   "execution_count": null,
   "metadata": {},
   "outputs": [],
   "source": [
    "#Defining the Numpyro model using our likelihood from the BaysianCompartmentalModel\n",
    "def nmodel():\n",
    "    sampled = {k:numpyro.sample(k, dist.Uniform(0.0,1.0)) for k in bcm_model_1.parameters}\n",
    "    ll = numpyro.factor(\"ll\", bcm_model_1.loglikelihood(**sampled))"
   ]
  },
  {
   "cell_type": "markdown",
   "metadata": {},
   "source": [
    "#### Simple Run"
   ]
  },
  {
   "cell_type": "code",
   "execution_count": null,
   "metadata": {},
   "outputs": [],
   "source": [
    "%%time\n",
    "D = 2 # Dimension of the parameter's space\n",
    "samplers =  [infer.NUTS] + [pm.sample_smc] + [pm.Metropolis] + [pm.DEMetropolisZ] + [pm.DEMetropolis]*2\n",
    "Draws = [2000] + [2000] + [10000] + [8000]*3\n",
    "# Tunes = [0] + [100, 1000]*5\n",
    "Init = [init_vals_nuts] + [init_vals_4]*4 + [init_vals_6]\n",
    "Chains = [4]*5 + [6]\n",
    "results_df = pd.DataFrame()\n",
    "\n",
    "for sampler, draws, chains, init in zip(samplers, Draws, Chains, Init):\n",
    "    # if sampler.__name__ == \"NUTS\":\n",
    "    #     init = init_vals_nuts\n",
    "    # else:\n",
    "    #     init = init_vals_4\n",
    "    results = cal.Single_analysis(sampler = sampler, \n",
    "            draws = draws,\n",
    "            chains=chains,\n",
    "            cores = chains,\n",
    "            tune = 1000,\n",
    "            bcm_model = bcm_model_1,\n",
    "            # n_iterations = 1,\n",
    "            nmodel=nmodel,\n",
    "            # n_jobs = 1,\n",
    "            initial_params = init\n",
    "\n",
    "    )\n",
    "            \n",
    "    results_df = pd.concat([results_df,results])\n",
    "\n",
    "\n",
    "\n",
    "results_df = results_df.reset_index(drop=True)\n"
   ]
  },
  {
   "cell_type": "code",
   "execution_count": null,
   "metadata": {},
   "outputs": [],
   "source": [
    "results_df\n",
    "results_df.style.set_caption(\"MCMC COMPARISON\") \n"
   ]
  },
  {
   "cell_type": "code",
   "execution_count": null,
   "metadata": {},
   "outputs": [],
   "source": [
    "\n",
    "#Storing results on a pickle file\n",
    "with open('./Results/Model_1/Simple_run_results_3.pkl', 'wb') as fp:\n",
    "    pickle.dump(results_df, fp)"
   ]
  },
  {
   "cell_type": "markdown",
   "metadata": {},
   "source": [
    "#### Multiple runs"
   ]
  },
  {
   "cell_type": "code",
   "execution_count": null,
   "metadata": {},
   "outputs": [],
   "source": [
    "all_results = dict()"
   ]
  },
  {
   "cell_type": "code",
   "execution_count": null,
   "metadata": {},
   "outputs": [],
   "source": [
    "sampler = pm.sample_smc\n",
    "all_results[sampler.__name__] = cal.multirun(\n",
    "    sampler, \n",
    "    draws = 10000,\n",
    "    tune = 1000,\n",
    "    chains=4,\n",
    "    cores=4, \n",
    "    bcm_model = bcm_model_1,\n",
    "    n_iterations = 100,\n",
    "    n_jobs = 3,    \n",
    "    )"
   ]
  },
  {
   "cell_type": "code",
   "execution_count": null,
   "metadata": {},
   "outputs": [],
   "source": [
    "sampler = pm.DEMetropolisZ\n",
    "all_results[sampler.__name__] = cal.multirun(\n",
    "    sampler, \n",
    "    draws = 10000,\n",
    "    chains=4,\n",
    "    cores=4,\n",
    "    tune = 1000, \n",
    "    bcm_model = bcm_model_1,\n",
    "    n_iterations = 100,\n",
    "    n_jobs = 3,\n",
    "    )"
   ]
  },
  {
   "cell_type": "code",
   "execution_count": null,
   "metadata": {},
   "outputs": [],
   "source": [
    "sampler = pm.Metropolis\n",
    "all_results[sampler.__name__] = cal.multirun(\n",
    "    sampler, \n",
    "    draws = 10000,\n",
    "    tune = 1000, \n",
    "    chains=4,\n",
    "    cores=4,\n",
    "    bcm_model = bcm_model_1,\n",
    "    n_iterations = 100,\n",
    "    n_jobs = 3,\n",
    "    )"
   ]
  },
  {
   "cell_type": "code",
   "execution_count": null,
   "metadata": {},
   "outputs": [],
   "source": [
    "sampler = infer.NUTS\n",
    "all_results[sampler.__name__] = cal.multirun(\n",
    "    sampler, \n",
    "    draws = 10000,\n",
    "    tune = 1000,\n",
    "    chains=4,\n",
    "    cores=4, \n",
    "    bcm_model = bcm_model_1,\n",
    "    nmodel=nmodel,\n",
    "    n_iterations = 100,\n",
    "    n_jobs = 2,\n",
    "    )"
   ]
  },
  {
   "cell_type": "code",
   "execution_count": null,
   "metadata": {},
   "outputs": [],
   "source": [
    "sampler = pm.DEMetropolis\n",
    "all_results[sampler.__name__] = cal.multirun(\n",
    "    sampler, \n",
    "    draws = 1000,\n",
    "    tune = 1000,\n",
    "    chains=6,\n",
    "    cores=4, \n",
    "    bcm_model = bcm_model_1,\n",
    "    n_iterations = 100,\n",
    "    n_jobs = 3,\n",
    "    )"
   ]
  },
  {
   "cell_type": "code",
   "execution_count": null,
   "metadata": {},
   "outputs": [],
   "source": [
    "all_results[\"DEMetropolis\"]"
   ]
  },
  {
   "cell_type": "code",
   "execution_count": null,
   "metadata": {},
   "outputs": [],
   "source": [
    "#Storing the results for later analysis\n",
    "\n",
    "with open('./Results/Model_1/Multi_run_results_without_init_1.pkl', 'wb') as fp:\n",
    "    pickle.dump(all_results, fp)\n"
   ]
  },
  {
   "cell_type": "markdown",
   "metadata": {},
   "source": [
    "#### Summarizing the 100 results\n",
    "\n",
    "We call the function group_summary from the calibrate modules. This will help to figure out the average performance\n",
    "of sampler over 100 runs"
   ]
  },
  {
   "cell_type": "code",
   "execution_count": null,
   "metadata": {},
   "outputs": [],
   "source": [
    "#Loading a pickle file\n",
    "with open('./Results/Model_1/Multi_run_results_3.pkl', 'rb') as fp:\n",
    "    multi_res = pickle.load(fp) #It's a dict\n",
    "df = pd.concat(multi_res) #converting to dataframe"
   ]
  },
  {
   "cell_type": "markdown",
   "metadata": {},
   "source": [
    "Here best results refers to the run with the min 'Max_rhat' for each sampler over the  runs"
   ]
  },
  {
   "cell_type": "code",
   "execution_count": null,
   "metadata": {},
   "outputs": [],
   "source": [
    "best_results = pd.DataFrame()\n",
    "for sampler in multi_res.keys():\n",
    "    temp = multi_res[sampler].round(3)\n",
    "    temp\n",
    "    best_rhat = temp.loc[[temp[\"Rhat_max\"].idxmin()]]\n",
    "    best_results = pd.concat([best_results,best_rhat])"
   ]
  },
  {
   "cell_type": "code",
   "execution_count": null,
   "metadata": {},
   "outputs": [],
   "source": [
    "best_results = best_results.reset_index(drop=True)\n",
    "#Computing the Relative ESS\n",
    "best_results[\"Rel_Ess\"] = best_results['Min_Ess'].astype(float)/(best_results[\"Draws\"].astype(float)*best_results['Chains'].astype(float))\n"
   ]
  },
  {
   "cell_type": "code",
   "execution_count": null,
   "metadata": {},
   "outputs": [],
   "source": [
    "summaries_mean, prcnt_succ = cal.group_summary(df)"
   ]
  },
  {
   "cell_type": "code",
   "execution_count": null,
   "metadata": {},
   "outputs": [],
   "source": [
    "summaries_mean.round(2).to_latex(column_format=\"|c|c|c|c|c|c|c|c|c|c|c|\")"
   ]
  },
  {
   "cell_type": "code",
   "execution_count": null,
   "metadata": {},
   "outputs": [],
   "source": [
    "prcnt_succ = prcnt_succ.round(2)"
   ]
  },
  {
   "cell_type": "code",
   "execution_count": null,
   "metadata": {},
   "outputs": [],
   "source": [
    "prcnt_succ#.to_latex(column_format='|c|c|')"
   ]
  },
  {
   "cell_type": "markdown",
   "metadata": {},
   "source": [
    "#### Using arviz for trace visualization"
   ]
  },
  {
   "cell_type": "code",
   "execution_count": null,
   "metadata": {},
   "outputs": [],
   "source": [
    "for idata, sampler in zip(best_results.Trace, best_results.Sampler):\n",
    "    print(sampler)\n",
    "    az.plot_rank(idata,figsize=(9,4))\n",
    "    plt.show()"
   ]
  },
  {
   "cell_type": "markdown",
   "metadata": {},
   "source": [
    "#### Bar Ploting Comparison"
   ]
  },
  {
   "cell_type": "code",
   "execution_count": null,
   "metadata": {},
   "outputs": [],
   "source": [
    "# plot_comparison_Bars(results_df=res)\n",
    "best_results[\"Run\"] = best_results.Sampler + \"\\nDraws=\" + best_results.Draws.astype(str) + \"\\nTune=\" + best_results.Tune.astype(str) +\"\\nChains=\" + best_results.Chains.astype(str)\n",
    "plot_comparison_bars(best_results.round(2))"
   ]
  },
  {
   "cell_type": "markdown",
   "metadata": {},
   "source": [
    "### Fitting test\n",
    "\n",
    "Here we test if the model is well fitted to the data, we will use the results from the single run"
   ]
  },
  {
   "cell_type": "code",
   "execution_count": null,
   "metadata": {},
   "outputs": [],
   "source": [
    "IDATA = best_results[\"Trace\"]"
   ]
  },
  {
   "cell_type": "code",
   "execution_count": null,
   "metadata": {},
   "outputs": [],
   "source": [
    "map_res = dict()\n",
    "for idata, sampler in zip(IDATA,best_results[\"Sampler\"]):\n",
    "    map_res[sampler] = cal.fitting_test(idata, bcm_model_1, model_1)"
   ]
  },
  {
   "cell_type": "code",
   "execution_count": null,
   "metadata": {},
   "outputs": [],
   "source": [
    "pd.options.plotting.backend = \"plotly\" #To allow plotly graphic. Swich to \"matplotlib\" if facing some troubles while ploting\n",
    "\n",
    "NUTS = map_res[\"NUTS\"][\"I\"]\n",
    "SMC = map_res[\"sample_smc\"][\"I\"]\n",
    "DEM = map_res[\"DEMetropolis\"][\"I\"]\n",
    "MH = map_res[\"Metropolis\"][\"I\"]\n",
    "DEMZ = map_res[\"DEMetropolisZ\"][\"I\"]\n",
    "\n",
    "\n",
    "\n",
    "df = pd.DataFrame(\n",
    "    {   \n",
    "        \"MH\": MH,\n",
    "        \"NUTS\": NUTS,\n",
    "        \"SMC\": SMC,\n",
    "        \"DEM\": DEM,\n",
    "        \"DEMZ\": DEMZ,\n",
    "        \"observed\": bcm_model_1.targets[\"active_cases\"].data,\n",
    "    }\n",
    ")\n",
    "df.plot(kind=\"scatter\", labels=output_labels, title=\"Model fitting\")#"
   ]
  },
  {
   "cell_type": "markdown",
   "metadata": {},
   "source": [
    "## Uncertainty sampling"
   ]
  },
  {
   "cell_type": "code",
   "execution_count": null,
   "metadata": {},
   "outputs": [],
   "source": [
    "# Wrapper function captures our bcm from the main namespace to pass into map_parallel\n",
    "# Using this idiom in closures/factory functions is typical\n",
    "def run_sample(idx_sample):\n",
    "    idx, params = idx_sample\n",
    "    return idx, bcm_model_1.run(params)\n",
    "\n",
    "# Run the samples through our BCM using the above function\n",
    "# map_parallel takes a function and an iterable as input\n",
    "\n",
    "# We use 4 workers here, default is cpu_count/2 (assumes hyperthreading)\n",
    "sample_res = dict()\n",
    "for idata,sampler in zip(IDATA,best_results[\"Sampler\"]):\n",
    "    sample_idata = az.extract(idata, num_samples=4000)\n",
    "    samples_df = sample_idata.to_dataframe().drop(columns=[\"chain\",\"draw\"])\n",
    "    sample_res[sampler] = map_parallel(run_sample, samples_df.iterrows(), n_workers=4)"
   ]
  },
  {
   "cell_type": "code",
   "execution_count": null,
   "metadata": {},
   "outputs": [],
   "source": [
    "# We'll use xarray for this step; aside from computing things very quickly, it's useful\n",
    "# to persist the run results to netcdf/zarr etc\n",
    "\n",
    "import xarray as xr"
   ]
  },
  {
   "cell_type": "code",
   "execution_count": null,
   "metadata": {},
   "outputs": [],
   "source": [
    "# Build a DataArray out of our results, then assign coords for indexing\n",
    "xres = xr.DataArray(np.stack([r.derived_outputs for idx, r in sample_res[\"NUTS\"]]), \n",
    "                    dims=[\"sample\",\"time\",\"variable\"])\n",
    "xres = xres.assign_coords(sample=sample_idata.coords[\"sample\"], \n",
    "                          time=map_res[\"NUTS\"].index, variable=pd.DataFrame(map_res[\"NUTS\"][\"I\"]).columns)"
   ]
  },
  {
   "cell_type": "code",
   "execution_count": null,
   "metadata": {},
   "outputs": [],
   "source": [
    "# Set some quantiles to calculate\n",
    "quantiles = (0.5,0.75,0.95)\n",
    "\n",
    "# Generate a new DataArray containing the quantiles\n",
    "xquantiles = xres.quantile(quantiles,dim=[\"sample\"])"
   ]
  },
  {
   "cell_type": "code",
   "execution_count": null,
   "metadata": {},
   "outputs": [],
   "source": [
    "# Extract these values to a pandas DataFrame for ease of plotting\n",
    "\n",
    "uncertainty_df = xquantiles.to_dataframe(name=\"value\").reset_index().set_index(\"time\").pivot(columns=(\"variable\",\"quantile\"))[\"value\"]"
   ]
  },
  {
   "cell_type": "code",
   "execution_count": null,
   "metadata": {},
   "outputs": [],
   "source": [
    "variable = \"active_cases\"\n",
    "pd.options.plotting.backend = \"matplotlib\" #To allow plotly graphic. Swich to \"matplotlib\" if facing some troubles while ploting\n",
    "\n",
    "fig = uncertainty_df[\"I\"].plot.area(title=variable,alpha=0.7)\n",
    "pd.Series(map_res[\"NUTS\"][\"I\"]).plot(label = \"modelled\",style='--')\n",
    "bcm_model_1.targets[variable].data.plot(label = \"observed\",style='.',color=\"black\", ms=5, alpha=0.8)\n",
    "plt.legend()"
   ]
  },
  {
   "cell_type": "markdown",
   "metadata": {},
   "source": [
    "# Application 2: The SEIR age-stratified model"
   ]
  },
  {
   "cell_type": "markdown",
   "metadata": {},
   "source": [
    "## Data for fitting\n",
    "Here we will define a target for each age category"
   ]
  },
  {
   "cell_type": "code",
   "execution_count": 3,
   "metadata": {},
   "outputs": [],
   "source": [
    "pd.options.plotting.backend = \"plotly\" #To allow plotly graphic. Swich to \"matplotlib\" if facing some troubles while ploting\n",
    "\n",
    "df = pd.DataFrame()\n",
    "df = pd.read_csv(\"./data/new_cases_England_2020.csv\")\n",
    "df[\"date\"] = pd.to_datetime(df.date)\n",
    "df.set_index([\"age\",\"date\"], inplace=True)\n",
    "\n"
   ]
  },
  {
   "cell_type": "code",
   "execution_count": 4,
   "metadata": {},
   "outputs": [],
   "source": [
    "total_cases = df.groupby(\"date\").sum()\n",
    "#Rolling by 14 days to discard fluctuations\n",
    "total_cases = total_cases.rolling(14).mean().iloc[14:]\n",
    "# D = total_cases[\"Jun 2020\":\"Nov 2020\"].iloc[::5]"
   ]
  },
  {
   "cell_type": "code",
   "execution_count": null,
   "metadata": {},
   "outputs": [],
   "source": [
    "df.loc[\"05_09\"].rolling(14).mean().iloc[14:].plot()\n",
    "df.loc[\"10_14\"].rolling(14).mean().iloc[14:].plot()"
   ]
  },
  {
   "cell_type": "markdown",
   "metadata": {},
   "source": [
    "## Model Definition\n"
   ]
  },
  {
   "cell_type": "code",
   "execution_count": 5,
   "metadata": {},
   "outputs": [],
   "source": [
    "model_config = {\"compartments\": (\"S\", \"E\",\"I\",\"R\"), # \"Ip\",\"Ic\", \"Is\", \"R\"),\n",
    "        \"population\": 56490045, #England population size 2021\n",
    "        \"start_time\": datetime(2020, 8, 1),\n",
    "        \"end_time\": datetime(2020, 11, 30)\n",
    "}\n",
    "bcm_model_2 = bcm_seir_age_strat(model_config)\n",
    "model_2 = model2(model_config)"
   ]
  },
  {
   "cell_type": "code",
   "execution_count": null,
   "metadata": {},
   "outputs": [],
   "source": [
    "model_2.get_default_parameters()"
   ]
  },
  {
   "cell_type": "markdown",
   "metadata": {},
   "source": [
    "## Trial run"
   ]
  },
  {
   "cell_type": "code",
   "execution_count": null,
   "metadata": {},
   "outputs": [],
   "source": [
    "disp_params = {k:v.ppf(0.5) for k,v in bcm_model_2.priors.items() if \"_disp\" in k} #Mandatory if you tempt to calibrate your target dispersion\n",
    "\n",
    "res = bcm_model_2.run(bcm_model_2.parameters | disp_params).derived_outputs\n",
    "\n",
    "# res = model_2.get_outputs_df()\n",
    "Infec = [f\"IXage_{i}\" for i in range(0,65,5)] #Selecting the Infectious compartments\n",
    "#Summing over the infectious compartments \n",
    "total_cases_pred = pd.DataFrame(res[Infec].sum(axis=1))"
   ]
  },
  {
   "cell_type": "code",
   "execution_count": null,
   "metadata": {},
   "outputs": [],
   "source": [
    "\n",
    "plot_start_date = datetime(2020, 8, 1)\n",
    "analysis_end_date = datetime(2020, 11, 30)\n",
    "\n",
    "# plot = model_2.get_outputs_df()[\"IXage_60\"].plot()\n",
    "plot = pd.DataFrame(total_cases_pred).plot()\n",
    "plot.update_xaxes(range=(plot_start_date, analysis_end_date))\n",
    "plot.add_trace(go.Scatter(x=total_cases.index, y=total_cases[\"cases\"], mode='markers', name='total_cases'))\n",
    "#pd.options.plotting.backend = \"plotly\" #To allow plotly graphic. Swich to \"matplotlib\" if facing some troubles while ploting\n",
    "#pivot_df[\"total_cases\"].plot.area()"
   ]
  },
  {
   "cell_type": "markdown",
   "metadata": {},
   "source": [
    "## Testing by optimization"
   ]
  },
  {
   "cell_type": "code",
   "execution_count": null,
   "metadata": {},
   "outputs": [],
   "source": [
    "import nevergrad as ng\n",
    "import pandas as pd \n",
    "import numpy as np\n",
    "# Import our convenience wrapper\n",
    "from estival.wrappers.nevergrad import optimize_model"
   ]
  },
  {
   "cell_type": "code",
   "execution_count": null,
   "metadata": {},
   "outputs": [],
   "source": [
    "# TwoPointsDE is a good suggested default for some of our typical use cases\n",
    "opt_class = ng.optimizers.TwoPointsDE\n",
    "orunner = optimize_model(bcm_model_2, opt_class=opt_class)\n",
    "# Here we run the optimizer in a loop, inspecting the current best point at each iteration\n",
    "# Using the loss information at each step can provide the basis for stopping conditions\n",
    "\n",
    "# for i in range(8):\n",
    "    # Run the minimizer for a specified 'budget' (ie number of evaluations)\n",
    "rec = orunner.minimize(1000)\n",
    "    # Print the loss (objective function value) of the current recommended parameters\n",
    "# print(rec.loss)\n",
    "mle_params = rec.value[1]\n",
    "res_opt = bcm_model_2.run(mle_params)"
   ]
  },
  {
   "cell_type": "code",
   "execution_count": null,
   "metadata": {},
   "outputs": [],
   "source": [
    "total_cases_pred_opt = pd.DataFrame(res_opt.derived_outputs[Infec].sum(axis=1))"
   ]
  },
  {
   "cell_type": "code",
   "execution_count": null,
   "metadata": {},
   "outputs": [],
   "source": [
    "D = total_cases[\"Aug 2020\":\"Nov 2020\"]"
   ]
  },
  {
   "cell_type": "code",
   "execution_count": null,
   "metadata": {},
   "outputs": [],
   "source": [
    "plot_start_date = datetime(2020, 8, 1)\n",
    "analysis_end_date = datetime(2020, 11, 30)\n",
    "\n",
    "# plot = model_2.get_outputs_df()[\"IXage_60\"].plot()\n",
    "plot = pd.DataFrame(total_cases_pred_opt).plot()\n",
    "plot.update_xaxes(range=(plot_start_date, analysis_end_date))\n",
    "plot.add_trace(go.Scatter(x=D.index, y=D[\"cases\"], mode='markers', name='total_cases'))"
   ]
  },
  {
   "cell_type": "markdown",
   "metadata": {},
   "source": [
    "## Calibration"
   ]
  },
  {
   "cell_type": "code",
   "execution_count": null,
   "metadata": {},
   "outputs": [],
   "source": [
    "##____Uniform Initialisation for each chain_________\n",
    "chains = 4\n",
    "init_vals = []\n",
    "for c in range(chains):\n",
    "    temp = {param: np.random.uniform(0.0,1.0) for param in list(bcm_model_2.parameters.keys())[:-3]}\n",
    "    temp[\"seed\"] = np.random.uniform(1,1200)\n",
    "    # temp[\"incubation_period\"] = np.random.uniform(1.,15.) \n",
    "    # temp[\"infectious_period\"] = np.random.uniform(1.,15.)\n",
    "    init_vals.append(temp)\n",
    "\n",
    "\n",
    "init_vals_nuts = {param: jnp.array(np.random.uniform(0.0,1.0, 4)) for param in list(bcm_model_2.parameters)[:-3]}\n",
    "init_vals_nuts[\"seed\"] = jnp.array(np.random.uniform(1.,1200, 4))\n",
    "# init_vals_nuts[\"infectious_period\"] = jnp.array(np.random.uniform(1.,15.0, 4))"
   ]
  },
  {
   "cell_type": "code",
   "execution_count": 6,
   "metadata": {},
   "outputs": [],
   "source": [
    "def nmodel_2():\n",
    "    unif_priors = list(bcm_model_2.parameters)[:-3]\n",
    "    sampled = {k:numpyro.sample(k, dist.Uniform(0.0,1.0)) for k in unif_priors}\n",
    "    sampled[\"seed\"] = numpyro.sample(\"seed\", dist.Uniform(1.0,1000))\n",
    "    #Adding the normal priors for the incubation and infectious periods\n",
    "\n",
    "    # sampled[\"incubation_period\"] = numpyro.sample(\"incubation_period\", dist.TruncatedNormal(7.3, 2.0, low=1., high=14.))\n",
    "    # sampled[\"infectious_period\"] = numpyro.sample(\"infectious_period\", dist.TruncatedNormal(5.4, 3.0, low=1., high=14.))\n",
    "    # Log-likelihood\n",
    "    disp_params = {k:v.ppf(0.5) for k,v in bcm_model_2.priors.items() if \"_disp\" in k}\n",
    "\n",
    "    log_likelihood = bcm_model_2.loglikelihood(**sampled | disp_params)\n",
    "\n",
    "    numpyro.factor(\"ll\",log_likelihood)"
   ]
  },
  {
   "cell_type": "markdown",
   "metadata": {},
   "source": [
    "### Performing a Single run for each algorithm"
   ]
  },
  {
   "cell_type": "code",
   "execution_count": 10,
   "metadata": {},
   "outputs": [
    {
     "name": "stderr",
     "output_type": "stream",
     "text": [
      "Initializing SMC sampler...\n",
      "Sampling 4 chains in 4 jobs\n"
     ]
    },
    {
     "name": "stdout",
     "output_type": "stream",
     "text": [
      "█\r"
     ]
    },
    {
     "name": "stderr",
     "output_type": "stream",
     "text": [
      "c:\\Users\\abdou\\anaconda3\\envs\\emulearn\\lib\\site-packages\\arviz\\data\\base.py:221: UserWarning: More chains (4) than draws (2). Passed array should have shape (chains, draws, *shape)\n",
      "  warnings.warn(\n",
      "Multiprocess sampling (4 chains in 4 jobs)\n",
      "CompoundStep\n",
      ">Metropolis: [seed]\n",
      ">Metropolis: [age_transmission_rate_0]\n",
      ">Metropolis: [age_transmission_rate_5]\n",
      ">Metropolis: [age_transmission_rate_10]\n",
      ">Metropolis: [age_transmission_rate_15]\n",
      ">Metropolis: [age_transmission_rate_20]\n",
      ">Metropolis: [age_transmission_rate_25]\n",
      ">Metropolis: [age_transmission_rate_30]\n",
      ">Metropolis: [age_transmission_rate_35]\n",
      ">Metropolis: [age_transmission_rate_40]\n",
      ">Metropolis: [age_transmission_rate_45]\n",
      ">Metropolis: [age_transmission_rate_50]\n",
      ">Metropolis: [age_transmission_rate_55]\n",
      ">Metropolis: [age_transmission_rate_60]\n",
      "Sampling 4 chains for 5_000 tune and 20_000 draw iterations (20_000 + 80_000 draws total) took 736 seconds.\n",
      "Multiprocess sampling (4 chains in 4 jobs)\n",
      "DEMetropolisZ: [seed, age_transmission_rate_0, age_transmission_rate_5, age_transmission_rate_10, age_transmission_rate_15, age_transmission_rate_20, age_transmission_rate_25, age_transmission_rate_30, age_transmission_rate_35, age_transmission_rate_40, age_transmission_rate_45, age_transmission_rate_50, age_transmission_rate_55, age_transmission_rate_60]\n",
      "Sampling 4 chains for 5_000 tune and 20_000 draw iterations (20_000 + 80_000 draws total) took 87 seconds.\n",
      "The rhat statistic is larger than 1.01 for some parameters. This indicates problems during sampling. See https://arxiv.org/abs/1903.08008 for details\n",
      "The effective sample size per chain is smaller than 100 for some parameters.  A higher number is needed for reliable rhat and ess computation. See https://arxiv.org/abs/1903.08008 for details\n",
      "Population sampling (4 chains)\n",
      "DEMetropolis: [seed, age_transmission_rate_0, age_transmission_rate_5, age_transmission_rate_10, age_transmission_rate_15, age_transmission_rate_20, age_transmission_rate_25, age_transmission_rate_30, age_transmission_rate_35, age_transmission_rate_40, age_transmission_rate_45, age_transmission_rate_50, age_transmission_rate_55, age_transmission_rate_60]\n",
      "c:\\Users\\abdou\\anaconda3\\envs\\emulearn\\lib\\site-packages\\pymc\\sampling\\population.py:85: UserWarning: DEMetropolis should be used with more chains than dimensions! (The model has 14 dimensions.)\n",
      "  warn_population_size(\n",
      "Attempting to parallelize chains to all cores. You can turn this off with `pm.sample(cores=1)`.\n",
      "Sampling 4 chains for 5_000 tune and 20_000 draw iterations (20_000 + 80_000 draws total) took 132 seconds.\n",
      "The rhat statistic is larger than 1.01 for some parameters. This indicates problems during sampling. See https://arxiv.org/abs/1903.08008 for details\n",
      "The effective sample size per chain is smaller than 100 for some parameters.  A higher number is needed for reliable rhat and ess computation. See https://arxiv.org/abs/1903.08008 for details\n"
     ]
    }
   ],
   "source": [
    "\n",
    "samplers = [pm.sample_smc,pm.Metropolis,pm.DEMetropolisZ,pm.DEMetropolis] #, infer.NUTS]\n",
    "Draws = [20000]*4\n",
    "# Init = [init_vals_4]*4\n",
    "results_df = pd.DataFrame()\n",
    "\n",
    "for sampler, draws in zip(samplers, Draws):#, Init):\n",
    "    results = cal.Single_analysis(sampler = sampler, \n",
    "            draws = draws,\n",
    "            chains= 4,\n",
    "            cores = 4,\n",
    "            tune = 5000,\n",
    "            bcm_model = bcm_model_2,\n",
    "            # initial_params = init_vals,\n",
    "            nmodel=nmodel_2,\n",
    "            # n_iterations=1,\n",
    "            # n_jobs=2,\n",
    "            )\n",
    "            \n",
    "    results_df = pd.concat([results_df,results])\n",
    "\n",
    "\n",
    "\n",
    "results_df = results_df.reset_index(drop=True)"
   ]
  },
  {
   "cell_type": "code",
   "execution_count": 11,
   "metadata": {},
   "outputs": [],
   "source": [
    "#Storing results on a pickle file\n",
    "with open('./Results/Model_2/Simple_run_results.pkl', 'wb') as fp:\n",
    "    pickle.dump(results_df, fp)"
   ]
  },
  {
   "cell_type": "code",
   "execution_count": null,
   "metadata": {},
   "outputs": [],
   "source": [
    "Trace = results_df[\"Trace\"]"
   ]
  },
  {
   "cell_type": "code",
   "execution_count": null,
   "metadata": {},
   "outputs": [],
   "source": [
    "idata = Trace[0]"
   ]
  },
  {
   "cell_type": "code",
   "execution_count": null,
   "metadata": {},
   "outputs": [],
   "source": [
    "az.summary(idata)"
   ]
  },
  {
   "cell_type": "code",
   "execution_count": 14,
   "metadata": {},
   "outputs": [],
   "source": [
    "#Probabily the nuts will take a while to finish--We need to reduce the number of iterations and or warmup\n",
    "res_nuts = cal.Single_analysis(sampler = infer.NUTS, \n",
    "            draws = 10000,\n",
    "            tune = 1000,\n",
    "            chains = 4,\n",
    "            cores=4,\n",
    "            bcm_model = bcm_model_2,\n",
    "            nmodel=nmodel_2,\n",
    "            # initial_params = init_vals_nuts)\n",
    ")\n",
    "\n",
    "results_df = pd.concat([results_df,res_nuts])\n"
   ]
  },
  {
   "cell_type": "code",
   "execution_count": 29,
   "metadata": {},
   "outputs": [
    {
     "data": {
      "text/html": [
       "<div>\n",
       "<style scoped>\n",
       "    .dataframe tbody tr th:only-of-type {\n",
       "        vertical-align: middle;\n",
       "    }\n",
       "\n",
       "    .dataframe tbody tr th {\n",
       "        vertical-align: top;\n",
       "    }\n",
       "\n",
       "    .dataframe thead th {\n",
       "        text-align: right;\n",
       "    }\n",
       "</style>\n",
       "<table border=\"1\" class=\"dataframe\">\n",
       "  <thead>\n",
       "    <tr style=\"text-align: right;\">\n",
       "      <th></th>\n",
       "      <th>Sampler</th>\n",
       "      <th>Draws</th>\n",
       "      <th>Chains</th>\n",
       "      <th>Tune</th>\n",
       "      <th>Time</th>\n",
       "      <th>Mean_ESS</th>\n",
       "      <th>Min_Ess</th>\n",
       "      <th>Ess_per_sec</th>\n",
       "      <th>Mean_Rhat</th>\n",
       "      <th>Rhat_max</th>\n",
       "      <th>Trace</th>\n",
       "      <th>Run</th>\n",
       "    </tr>\n",
       "  </thead>\n",
       "  <tbody>\n",
       "    <tr>\n",
       "      <th>0</th>\n",
       "      <td>sample_smc</td>\n",
       "      <td>20000</td>\n",
       "      <td>4</td>\n",
       "      <td>5000</td>\n",
       "      <td>125.154090</td>\n",
       "      <td>14659.059689</td>\n",
       "      <td>9641.789905</td>\n",
       "      <td>117.128091</td>\n",
       "      <td>1.000270</td>\n",
       "      <td>1.000619</td>\n",
       "      <td>(posterior, sample_stats)</td>\n",
       "      <td>sample_smc\\nDraws=20000\\nTune=5000\\nChains=4</td>\n",
       "    </tr>\n",
       "    <tr>\n",
       "      <th>1</th>\n",
       "      <td>Metropolis</td>\n",
       "      <td>20000</td>\n",
       "      <td>4</td>\n",
       "      <td>5000</td>\n",
       "      <td>775.881797</td>\n",
       "      <td>8239.111571</td>\n",
       "      <td>3304.558787</td>\n",
       "      <td>10.619029</td>\n",
       "      <td>1.000568</td>\n",
       "      <td>1.001775</td>\n",
       "      <td>(posterior, sample_stats)</td>\n",
       "      <td>Metropolis\\nDraws=20000\\nTune=5000\\nChains=4</td>\n",
       "    </tr>\n",
       "    <tr>\n",
       "      <th>2</th>\n",
       "      <td>DEMetropolisZ</td>\n",
       "      <td>20000</td>\n",
       "      <td>4</td>\n",
       "      <td>5000</td>\n",
       "      <td>105.000675</td>\n",
       "      <td>239.984603</td>\n",
       "      <td>24.349807</td>\n",
       "      <td>2.285553</td>\n",
       "      <td>1.048324</td>\n",
       "      <td>1.112197</td>\n",
       "      <td>(posterior, sample_stats)</td>\n",
       "      <td>DEMetropolisZ\\nDraws=20000\\nTune=5000\\nChains=4</td>\n",
       "    </tr>\n",
       "    <tr>\n",
       "      <th>3</th>\n",
       "      <td>DEMetropolis</td>\n",
       "      <td>20000</td>\n",
       "      <td>4</td>\n",
       "      <td>5000</td>\n",
       "      <td>149.753788</td>\n",
       "      <td>516.484206</td>\n",
       "      <td>310.195933</td>\n",
       "      <td>3.448889</td>\n",
       "      <td>1.006941</td>\n",
       "      <td>1.024682</td>\n",
       "      <td>(posterior, sample_stats)</td>\n",
       "      <td>DEMetropolis\\nDraws=20000\\nTune=5000\\nChains=4</td>\n",
       "    </tr>\n",
       "    <tr>\n",
       "      <th>0</th>\n",
       "      <td>NUTS</td>\n",
       "      <td>10000</td>\n",
       "      <td>4</td>\n",
       "      <td>1000</td>\n",
       "      <td>3778.305681</td>\n",
       "      <td>27826.438980</td>\n",
       "      <td>21931.361857</td>\n",
       "      <td>7.364793</td>\n",
       "      <td>1.000140</td>\n",
       "      <td>1.000347</td>\n",
       "      <td>(posterior, log_likelihood, sample_stats, obse...</td>\n",
       "      <td>NUTS\\nDraws=10000\\nTune=1000\\nChains=4</td>\n",
       "    </tr>\n",
       "  </tbody>\n",
       "</table>\n",
       "</div>"
      ],
      "text/plain": [
       "         Sampler  Draws  Chains  Tune         Time      Mean_ESS  \\\n",
       "0     sample_smc  20000       4  5000   125.154090  14659.059689   \n",
       "1     Metropolis  20000       4  5000   775.881797   8239.111571   \n",
       "2  DEMetropolisZ  20000       4  5000   105.000675    239.984603   \n",
       "3   DEMetropolis  20000       4  5000   149.753788    516.484206   \n",
       "0           NUTS  10000       4  1000  3778.305681  27826.438980   \n",
       "\n",
       "        Min_Ess  Ess_per_sec  Mean_Rhat  Rhat_max  \\\n",
       "0   9641.789905   117.128091   1.000270  1.000619   \n",
       "1   3304.558787    10.619029   1.000568  1.001775   \n",
       "2     24.349807     2.285553   1.048324  1.112197   \n",
       "3    310.195933     3.448889   1.006941  1.024682   \n",
       "0  21931.361857     7.364793   1.000140  1.000347   \n",
       "\n",
       "                                               Trace  \\\n",
       "0                          (posterior, sample_stats)   \n",
       "1                          (posterior, sample_stats)   \n",
       "2                          (posterior, sample_stats)   \n",
       "3                          (posterior, sample_stats)   \n",
       "0  (posterior, log_likelihood, sample_stats, obse...   \n",
       "\n",
       "                                               Run  \n",
       "0     sample_smc\\nDraws=20000\\nTune=5000\\nChains=4  \n",
       "1     Metropolis\\nDraws=20000\\nTune=5000\\nChains=4  \n",
       "2  DEMetropolisZ\\nDraws=20000\\nTune=5000\\nChains=4  \n",
       "3   DEMetropolis\\nDraws=20000\\nTune=5000\\nChains=4  \n",
       "0           NUTS\\nDraws=10000\\nTune=1000\\nChains=4  "
      ]
     },
     "execution_count": 29,
     "metadata": {},
     "output_type": "execute_result"
    }
   ],
   "source": [
    "results_df"
   ]
  },
  {
   "cell_type": "code",
   "execution_count": 30,
   "metadata": {},
   "outputs": [],
   "source": [
    "results_df = results_df.reset_index(drop=True)"
   ]
  },
  {
   "cell_type": "code",
   "execution_count": 15,
   "metadata": {},
   "outputs": [],
   "source": [
    "#Storing results on a pickle file\n",
    "with open('./Results/Model_2/Simple_run_results_with_NUTS.pkl', 'wb') as fp:\n",
    "    pickle.dump(results_df, fp)"
   ]
  },
  {
   "cell_type": "code",
   "execution_count": 34,
   "metadata": {},
   "outputs": [],
   "source": [
    "def fitting_test(sampler,idata, bcm, model):\n",
    "    from estival.sampling.tools import likelihood_extras_for_samples,likelihood_extras_for_idata\n",
    "    if sampler in [\"DEMetropolis\", \"DEMetropolisZ\"]:\n",
    "        likelihood_df = likelihood_extras_for_idata(idata, bcm) #More faster\n",
    "    else :\n",
    "        likelihood_df = likelihood_extras_for_samples(idata.posterior, bcm)\n",
    "\n",
    "    ldf_sorted = likelihood_df.sort_values(by=\"logposterior\",ascending=False)\n",
    "\n",
    "    # Extract the parameters from the calibration samples\n",
    "    map_params = idata.posterior.to_dataframe().loc[ldf_sorted.index[0]].to_dict()\n",
    "    map_params['incubation_period']= 5.4\n",
    "    map_params['infectious_period'] = 7.3\n",
    "    print(map_params)\n",
    "    bcm.loglikelihood(**map_params), ldf_sorted.iloc[0][\"loglikelihood\"]\n",
    "    # Run the model with these parameters\n",
    "    model.run(map_params)\n",
    "    # ...and plot some results\n",
    "    return model.get_outputs_df()"
   ]
  },
  {
   "cell_type": "code",
   "execution_count": 31,
   "metadata": {},
   "outputs": [
    {
     "data": {
      "text/html": [
       "<div>\n",
       "<style scoped>\n",
       "    .dataframe tbody tr th:only-of-type {\n",
       "        vertical-align: middle;\n",
       "    }\n",
       "\n",
       "    .dataframe tbody tr th {\n",
       "        vertical-align: top;\n",
       "    }\n",
       "\n",
       "    .dataframe thead th {\n",
       "        text-align: right;\n",
       "    }\n",
       "</style>\n",
       "<table border=\"1\" class=\"dataframe\">\n",
       "  <thead>\n",
       "    <tr style=\"text-align: right;\">\n",
       "      <th></th>\n",
       "      <th>mean</th>\n",
       "      <th>sd</th>\n",
       "      <th>hdi_3%</th>\n",
       "      <th>hdi_97%</th>\n",
       "      <th>mcse_mean</th>\n",
       "      <th>mcse_sd</th>\n",
       "      <th>ess_bulk</th>\n",
       "      <th>ess_tail</th>\n",
       "      <th>r_hat</th>\n",
       "    </tr>\n",
       "  </thead>\n",
       "  <tbody>\n",
       "    <tr>\n",
       "      <th>seed</th>\n",
       "      <td>337.993</td>\n",
       "      <td>330.626</td>\n",
       "      <td>1.007</td>\n",
       "      <td>995.775</td>\n",
       "      <td>2.263</td>\n",
       "      <td>1.601</td>\n",
       "      <td>18330.0</td>\n",
       "      <td>13097.0</td>\n",
       "      <td>1.0</td>\n",
       "    </tr>\n",
       "    <tr>\n",
       "      <th>age_transmission_rate_0</th>\n",
       "      <td>0.275</td>\n",
       "      <td>0.206</td>\n",
       "      <td>0.000</td>\n",
       "      <td>0.658</td>\n",
       "      <td>0.002</td>\n",
       "      <td>0.001</td>\n",
       "      <td>13223.0</td>\n",
       "      <td>6349.0</td>\n",
       "      <td>1.0</td>\n",
       "    </tr>\n",
       "    <tr>\n",
       "      <th>age_transmission_rate_5</th>\n",
       "      <td>0.264</td>\n",
       "      <td>0.204</td>\n",
       "      <td>0.000</td>\n",
       "      <td>0.649</td>\n",
       "      <td>0.002</td>\n",
       "      <td>0.001</td>\n",
       "      <td>12506.0</td>\n",
       "      <td>9528.0</td>\n",
       "      <td>1.0</td>\n",
       "    </tr>\n",
       "    <tr>\n",
       "      <th>age_transmission_rate_10</th>\n",
       "      <td>0.275</td>\n",
       "      <td>0.207</td>\n",
       "      <td>0.000</td>\n",
       "      <td>0.665</td>\n",
       "      <td>0.001</td>\n",
       "      <td>0.001</td>\n",
       "      <td>17369.0</td>\n",
       "      <td>16182.0</td>\n",
       "      <td>1.0</td>\n",
       "    </tr>\n",
       "    <tr>\n",
       "      <th>age_transmission_rate_15</th>\n",
       "      <td>0.294</td>\n",
       "      <td>0.210</td>\n",
       "      <td>0.000</td>\n",
       "      <td>0.679</td>\n",
       "      <td>0.001</td>\n",
       "      <td>0.001</td>\n",
       "      <td>17391.0</td>\n",
       "      <td>17952.0</td>\n",
       "      <td>1.0</td>\n",
       "    </tr>\n",
       "    <tr>\n",
       "      <th>age_transmission_rate_20</th>\n",
       "      <td>0.294</td>\n",
       "      <td>0.212</td>\n",
       "      <td>0.000</td>\n",
       "      <td>0.684</td>\n",
       "      <td>0.002</td>\n",
       "      <td>0.001</td>\n",
       "      <td>13392.0</td>\n",
       "      <td>10302.0</td>\n",
       "      <td>1.0</td>\n",
       "    </tr>\n",
       "    <tr>\n",
       "      <th>age_transmission_rate_25</th>\n",
       "      <td>0.283</td>\n",
       "      <td>0.208</td>\n",
       "      <td>0.000</td>\n",
       "      <td>0.672</td>\n",
       "      <td>0.002</td>\n",
       "      <td>0.001</td>\n",
       "      <td>13896.0</td>\n",
       "      <td>11699.0</td>\n",
       "      <td>1.0</td>\n",
       "    </tr>\n",
       "    <tr>\n",
       "      <th>age_transmission_rate_30</th>\n",
       "      <td>0.272</td>\n",
       "      <td>0.201</td>\n",
       "      <td>0.000</td>\n",
       "      <td>0.648</td>\n",
       "      <td>0.001</td>\n",
       "      <td>0.001</td>\n",
       "      <td>15571.0</td>\n",
       "      <td>11370.0</td>\n",
       "      <td>1.0</td>\n",
       "    </tr>\n",
       "    <tr>\n",
       "      <th>age_transmission_rate_35</th>\n",
       "      <td>0.291</td>\n",
       "      <td>0.212</td>\n",
       "      <td>0.000</td>\n",
       "      <td>0.679</td>\n",
       "      <td>0.002</td>\n",
       "      <td>0.001</td>\n",
       "      <td>12098.0</td>\n",
       "      <td>8868.0</td>\n",
       "      <td>1.0</td>\n",
       "    </tr>\n",
       "    <tr>\n",
       "      <th>age_transmission_rate_40</th>\n",
       "      <td>0.278</td>\n",
       "      <td>0.206</td>\n",
       "      <td>0.000</td>\n",
       "      <td>0.661</td>\n",
       "      <td>0.002</td>\n",
       "      <td>0.001</td>\n",
       "      <td>9888.0</td>\n",
       "      <td>5886.0</td>\n",
       "      <td>1.0</td>\n",
       "    </tr>\n",
       "    <tr>\n",
       "      <th>age_transmission_rate_45</th>\n",
       "      <td>0.280</td>\n",
       "      <td>0.206</td>\n",
       "      <td>0.000</td>\n",
       "      <td>0.659</td>\n",
       "      <td>0.001</td>\n",
       "      <td>0.001</td>\n",
       "      <td>18684.0</td>\n",
       "      <td>17446.0</td>\n",
       "      <td>1.0</td>\n",
       "    </tr>\n",
       "    <tr>\n",
       "      <th>age_transmission_rate_50</th>\n",
       "      <td>0.273</td>\n",
       "      <td>0.203</td>\n",
       "      <td>0.000</td>\n",
       "      <td>0.652</td>\n",
       "      <td>0.001</td>\n",
       "      <td>0.001</td>\n",
       "      <td>16879.0</td>\n",
       "      <td>14969.0</td>\n",
       "      <td>1.0</td>\n",
       "    </tr>\n",
       "    <tr>\n",
       "      <th>age_transmission_rate_55</th>\n",
       "      <td>0.273</td>\n",
       "      <td>0.204</td>\n",
       "      <td>0.000</td>\n",
       "      <td>0.653</td>\n",
       "      <td>0.001</td>\n",
       "      <td>0.001</td>\n",
       "      <td>16358.0</td>\n",
       "      <td>13642.0</td>\n",
       "      <td>1.0</td>\n",
       "    </tr>\n",
       "    <tr>\n",
       "      <th>age_transmission_rate_60</th>\n",
       "      <td>0.125</td>\n",
       "      <td>0.097</td>\n",
       "      <td>0.000</td>\n",
       "      <td>0.299</td>\n",
       "      <td>0.001</td>\n",
       "      <td>0.001</td>\n",
       "      <td>9642.0</td>\n",
       "      <td>7906.0</td>\n",
       "      <td>1.0</td>\n",
       "    </tr>\n",
       "  </tbody>\n",
       "</table>\n",
       "</div>"
      ],
      "text/plain": [
       "                             mean       sd  hdi_3%  hdi_97%  mcse_mean  \\\n",
       "seed                      337.993  330.626   1.007  995.775      2.263   \n",
       "age_transmission_rate_0     0.275    0.206   0.000    0.658      0.002   \n",
       "age_transmission_rate_5     0.264    0.204   0.000    0.649      0.002   \n",
       "age_transmission_rate_10    0.275    0.207   0.000    0.665      0.001   \n",
       "age_transmission_rate_15    0.294    0.210   0.000    0.679      0.001   \n",
       "age_transmission_rate_20    0.294    0.212   0.000    0.684      0.002   \n",
       "age_transmission_rate_25    0.283    0.208   0.000    0.672      0.002   \n",
       "age_transmission_rate_30    0.272    0.201   0.000    0.648      0.001   \n",
       "age_transmission_rate_35    0.291    0.212   0.000    0.679      0.002   \n",
       "age_transmission_rate_40    0.278    0.206   0.000    0.661      0.002   \n",
       "age_transmission_rate_45    0.280    0.206   0.000    0.659      0.001   \n",
       "age_transmission_rate_50    0.273    0.203   0.000    0.652      0.001   \n",
       "age_transmission_rate_55    0.273    0.204   0.000    0.653      0.001   \n",
       "age_transmission_rate_60    0.125    0.097   0.000    0.299      0.001   \n",
       "\n",
       "                          mcse_sd  ess_bulk  ess_tail  r_hat  \n",
       "seed                        1.601   18330.0   13097.0    1.0  \n",
       "age_transmission_rate_0     0.001   13223.0    6349.0    1.0  \n",
       "age_transmission_rate_5     0.001   12506.0    9528.0    1.0  \n",
       "age_transmission_rate_10    0.001   17369.0   16182.0    1.0  \n",
       "age_transmission_rate_15    0.001   17391.0   17952.0    1.0  \n",
       "age_transmission_rate_20    0.001   13392.0   10302.0    1.0  \n",
       "age_transmission_rate_25    0.001   13896.0   11699.0    1.0  \n",
       "age_transmission_rate_30    0.001   15571.0   11370.0    1.0  \n",
       "age_transmission_rate_35    0.001   12098.0    8868.0    1.0  \n",
       "age_transmission_rate_40    0.001    9888.0    5886.0    1.0  \n",
       "age_transmission_rate_45    0.001   18684.0   17446.0    1.0  \n",
       "age_transmission_rate_50    0.001   16879.0   14969.0    1.0  \n",
       "age_transmission_rate_55    0.001   16358.0   13642.0    1.0  \n",
       "age_transmission_rate_60    0.001    9642.0    7906.0    1.0  "
      ]
     },
     "execution_count": 31,
     "metadata": {},
     "output_type": "execute_result"
    }
   ],
   "source": [
    "trace = results_df.Trace.loc[0]\n",
    "az.summary(trace)"
   ]
  },
  {
   "cell_type": "code",
   "execution_count": 35,
   "metadata": {},
   "outputs": [
    {
     "name": "stdout",
     "output_type": "stream",
     "text": [
      "{'seed': 539.2389387130777, 'age_transmission_rate_0': 0.015467143650231486, 'age_transmission_rate_5': 0.03276435051090649, 'age_transmission_rate_10': 0.08613424950645021, 'age_transmission_rate_15': 0.26488851518984957, 'age_transmission_rate_20': 0.37165195426142345, 'age_transmission_rate_25': 0.3697583303443199, 'age_transmission_rate_30': 0.15543790393804446, 'age_transmission_rate_35': 0.2899538272375832, 'age_transmission_rate_40': 0.00046120626812804497, 'age_transmission_rate_45': 0.1196386607946489, 'age_transmission_rate_50': 0.360847897208016, 'age_transmission_rate_55': 0.32477525242134986, 'age_transmission_rate_60': 0.3046208927082216, 'incubation_period': 5.4, 'infectious_period': 7.3}\n",
      "{'seed': 1146.0761132244909, 'age_transmission_rate_0': 0.029057189104429955, 'age_transmission_rate_5': 0.021899528743239218, 'age_transmission_rate_10': 0.09906803819266106, 'age_transmission_rate_15': 0.18318457961581724, 'age_transmission_rate_20': 0.31136775324034843, 'age_transmission_rate_25': 0.2164782040853706, 'age_transmission_rate_30': 0.24465238926223354, 'age_transmission_rate_35': 0.23368336007944734, 'age_transmission_rate_40': 0.11319694145272417, 'age_transmission_rate_45': 0.20044761073859862, 'age_transmission_rate_50': 0.4732435410753902, 'age_transmission_rate_55': 0.20119950900578554, 'age_transmission_rate_60': 0.25277139849043323, 'incubation_period': 5.4, 'infectious_period': 7.3}\n",
      "{'seed': 737.8351851156198, 'age_transmission_rate_0': 0.005748200831073296, 'age_transmission_rate_5': 0.002125276984314101, 'age_transmission_rate_10': 0.012283957329623318, 'age_transmission_rate_15': 0.28044069231375346, 'age_transmission_rate_20': 0.1635040254497786, 'age_transmission_rate_25': 0.4440302587942281, 'age_transmission_rate_30': 0.344902741528238, 'age_transmission_rate_35': 0.36666635653772645, 'age_transmission_rate_40': 0.1951797720185409, 'age_transmission_rate_45': 0.2813771477790979, 'age_transmission_rate_50': 0.2998889259623433, 'age_transmission_rate_55': 0.11310119637218947, 'age_transmission_rate_60': 0.26616513146459564, 'incubation_period': 5.4, 'infectious_period': 7.3}\n",
      "{'seed': 569.3289333661925, 'age_transmission_rate_0': 0.08848608486432526, 'age_transmission_rate_5': 0.03718579687258949, 'age_transmission_rate_10': 0.02341189844055642, 'age_transmission_rate_15': 0.18428572469016213, 'age_transmission_rate_20': 0.4315234335671583, 'age_transmission_rate_25': 0.2662633052913372, 'age_transmission_rate_30': 0.15699562933223365, 'age_transmission_rate_35': 0.15156443136208286, 'age_transmission_rate_40': 0.329080777317896, 'age_transmission_rate_45': 0.25399081704238835, 'age_transmission_rate_50': 0.23565856313718944, 'age_transmission_rate_55': 0.1768109031919722, 'age_transmission_rate_60': 0.32631544701209847, 'incubation_period': 5.4, 'infectious_period': 7.3}\n",
      "{'age_transmission_rate_0': 0.04824111514966805, 'age_transmission_rate_10': 0.05246681798350639, 'age_transmission_rate_15': 0.25534189918772193, 'age_transmission_rate_20': 0.5033705061489184, 'age_transmission_rate_25': 0.3575984389894895, 'age_transmission_rate_30': 0.4494389069922813, 'age_transmission_rate_35': 0.01491539786595375, 'age_transmission_rate_40': 0.11341583217025224, 'age_transmission_rate_45': 0.4211545523347463, 'age_transmission_rate_5': 0.08123980708961236, 'age_transmission_rate_50': 0.11527856700214348, 'age_transmission_rate_55': 0.09720420860277336, 'age_transmission_rate_60': 0.24796993010907342, 'seed': 968.7900546134347, 'incubation_period': 5.4, 'infectious_period': 7.3}\n"
     ]
    }
   ],
   "source": [
    "Map_res = dict()\n",
    "for row in results_df.index:\n",
    "    idata = results_df.Trace.loc[row]\n",
    "    sampler =  results_df.at[row, \"Sampler\"]\n",
    "    Map_res[sampler] = fitting_test(sampler,idata, bcm_model_2,model_2)    "
   ]
  },
  {
   "cell_type": "code",
   "execution_count": 39,
   "metadata": {},
   "outputs": [],
   "source": [
    "T = [{'seed': 539.2389387130777, 'age_transmission_rate_0': 0.015467143650231486, 'age_transmission_rate_5': 0.03276435051090649, 'age_transmission_rate_10': 0.08613424950645021, 'age_transmission_rate_15': 0.26488851518984957, 'age_transmission_rate_20': 0.37165195426142345, 'age_transmission_rate_25': 0.3697583303443199, 'age_transmission_rate_30': 0.15543790393804446, 'age_transmission_rate_35': 0.2899538272375832, 'age_transmission_rate_40': 0.00046120626812804497, 'age_transmission_rate_45': 0.1196386607946489, 'age_transmission_rate_50': 0.360847897208016, 'age_transmission_rate_55': 0.32477525242134986, 'age_transmission_rate_60': 0.3046208927082216, 'incubation_period': 5.4, 'infectious_period': 7.3},\n",
    "{'seed': 1146.0761132244909, 'age_transmission_rate_0': 0.029057189104429955, 'age_transmission_rate_5': 0.021899528743239218, 'age_transmission_rate_10': 0.09906803819266106, 'age_transmission_rate_15': 0.18318457961581724, 'age_transmission_rate_20': 0.31136775324034843, 'age_transmission_rate_25': 0.2164782040853706, 'age_transmission_rate_30': 0.24465238926223354, 'age_transmission_rate_35': 0.23368336007944734, 'age_transmission_rate_40': 0.11319694145272417, 'age_transmission_rate_45': 0.20044761073859862, 'age_transmission_rate_50': 0.4732435410753902, 'age_transmission_rate_55': 0.20119950900578554, 'age_transmission_rate_60': 0.25277139849043323, 'incubation_period': 5.4, 'infectious_period': 7.3},\n",
    "{'seed': 737.8351851156198, 'age_transmission_rate_0': 0.005748200831073296, 'age_transmission_rate_5': 0.002125276984314101, 'age_transmission_rate_10': 0.012283957329623318, 'age_transmission_rate_15': 0.28044069231375346, 'age_transmission_rate_20': 0.1635040254497786, 'age_transmission_rate_25': 0.4440302587942281, 'age_transmission_rate_30': 0.344902741528238, 'age_transmission_rate_35': 0.36666635653772645, 'age_transmission_rate_40': 0.1951797720185409, 'age_transmission_rate_45': 0.2813771477790979, 'age_transmission_rate_50': 0.2998889259623433, 'age_transmission_rate_55': 0.11310119637218947, 'age_transmission_rate_60': 0.26616513146459564, 'incubation_period': 5.4, 'infectious_period': 7.3},\n",
    "{'seed': 569.3289333661925, 'age_transmission_rate_0': 0.08848608486432526, 'age_transmission_rate_5': 0.03718579687258949, 'age_transmission_rate_10': 0.02341189844055642, 'age_transmission_rate_15': 0.18428572469016213, 'age_transmission_rate_20': 0.4315234335671583, 'age_transmission_rate_25': 0.2662633052913372, 'age_transmission_rate_30': 0.15699562933223365, 'age_transmission_rate_35': 0.15156443136208286, 'age_transmission_rate_40': 0.329080777317896, 'age_transmission_rate_45': 0.25399081704238835, 'age_transmission_rate_50': 0.23565856313718944, 'age_transmission_rate_55': 0.1768109031919722, 'age_transmission_rate_60': 0.32631544701209847, 'incubation_period': 5.4, 'infectious_period': 7.3},\n",
    "{'age_transmission_rate_0': 0.04824111514966805, 'age_transmission_rate_10': 0.05246681798350639, 'age_transmission_rate_15': 0.25534189918772193, 'age_transmission_rate_20': 0.5033705061489184, 'age_transmission_rate_25': 0.3575984389894895, 'age_transmission_rate_30': 0.4494389069922813, 'age_transmission_rate_35': 0.01491539786595375, 'age_transmission_rate_40': 0.11341583217025224, 'age_transmission_rate_45': 0.4211545523347463, 'age_transmission_rate_5': 0.08123980708961236, 'age_transmission_rate_50': 0.11527856700214348, 'age_transmission_rate_55': 0.09720420860277336, 'age_transmission_rate_60': 0.24796993010907342, 'seed': 968.7900546134347, 'incubation_period': 5.4, 'infectious_period': 7.3}]\n",
    "Map_params = dict()\n",
    "i=0\n",
    "for sampler in Map_res.keys():\n",
    "    Map_params[sampler] = T[i]\n",
    "    i=i+1"
   ]
  },
  {
   "cell_type": "code",
   "execution_count": 42,
   "metadata": {},
   "outputs": [
    {
     "data": {
      "text/plain": [
       "{'sample_smc': {'seed': 539.2389387130777,\n",
       "  'age_transmission_rate_0': 0.015467143650231486,\n",
       "  'age_transmission_rate_5': 0.03276435051090649,\n",
       "  'age_transmission_rate_10': 0.08613424950645021,\n",
       "  'age_transmission_rate_15': 0.26488851518984957,\n",
       "  'age_transmission_rate_20': 0.37165195426142345,\n",
       "  'age_transmission_rate_25': 0.3697583303443199,\n",
       "  'age_transmission_rate_30': 0.15543790393804446,\n",
       "  'age_transmission_rate_35': 0.2899538272375832,\n",
       "  'age_transmission_rate_40': 0.00046120626812804497,\n",
       "  'age_transmission_rate_45': 0.1196386607946489,\n",
       "  'age_transmission_rate_50': 0.360847897208016,\n",
       "  'age_transmission_rate_55': 0.32477525242134986,\n",
       "  'age_transmission_rate_60': 0.3046208927082216,\n",
       "  'incubation_period': 5.4,\n",
       "  'infectious_period': 7.3},\n",
       " 'Metropolis': {'seed': 1146.0761132244909,\n",
       "  'age_transmission_rate_0': 0.029057189104429955,\n",
       "  'age_transmission_rate_5': 0.021899528743239218,\n",
       "  'age_transmission_rate_10': 0.09906803819266106,\n",
       "  'age_transmission_rate_15': 0.18318457961581724,\n",
       "  'age_transmission_rate_20': 0.31136775324034843,\n",
       "  'age_transmission_rate_25': 0.2164782040853706,\n",
       "  'age_transmission_rate_30': 0.24465238926223354,\n",
       "  'age_transmission_rate_35': 0.23368336007944734,\n",
       "  'age_transmission_rate_40': 0.11319694145272417,\n",
       "  'age_transmission_rate_45': 0.20044761073859862,\n",
       "  'age_transmission_rate_50': 0.4732435410753902,\n",
       "  'age_transmission_rate_55': 0.20119950900578554,\n",
       "  'age_transmission_rate_60': 0.25277139849043323,\n",
       "  'incubation_period': 5.4,\n",
       "  'infectious_period': 7.3},\n",
       " 'DEMetropolisZ': {'seed': 737.8351851156198,\n",
       "  'age_transmission_rate_0': 0.005748200831073296,\n",
       "  'age_transmission_rate_5': 0.002125276984314101,\n",
       "  'age_transmission_rate_10': 0.012283957329623318,\n",
       "  'age_transmission_rate_15': 0.28044069231375346,\n",
       "  'age_transmission_rate_20': 0.1635040254497786,\n",
       "  'age_transmission_rate_25': 0.4440302587942281,\n",
       "  'age_transmission_rate_30': 0.344902741528238,\n",
       "  'age_transmission_rate_35': 0.36666635653772645,\n",
       "  'age_transmission_rate_40': 0.1951797720185409,\n",
       "  'age_transmission_rate_45': 0.2813771477790979,\n",
       "  'age_transmission_rate_50': 0.2998889259623433,\n",
       "  'age_transmission_rate_55': 0.11310119637218947,\n",
       "  'age_transmission_rate_60': 0.26616513146459564,\n",
       "  'incubation_period': 5.4,\n",
       "  'infectious_period': 7.3},\n",
       " 'DEMetropolis': {'seed': 569.3289333661925,\n",
       "  'age_transmission_rate_0': 0.08848608486432526,\n",
       "  'age_transmission_rate_5': 0.03718579687258949,\n",
       "  'age_transmission_rate_10': 0.02341189844055642,\n",
       "  'age_transmission_rate_15': 0.18428572469016213,\n",
       "  'age_transmission_rate_20': 0.4315234335671583,\n",
       "  'age_transmission_rate_25': 0.2662633052913372,\n",
       "  'age_transmission_rate_30': 0.15699562933223365,\n",
       "  'age_transmission_rate_35': 0.15156443136208286,\n",
       "  'age_transmission_rate_40': 0.329080777317896,\n",
       "  'age_transmission_rate_45': 0.25399081704238835,\n",
       "  'age_transmission_rate_50': 0.23565856313718944,\n",
       "  'age_transmission_rate_55': 0.1768109031919722,\n",
       "  'age_transmission_rate_60': 0.32631544701209847,\n",
       "  'incubation_period': 5.4,\n",
       "  'infectious_period': 7.3},\n",
       " 'NUTS': {'age_transmission_rate_0': 0.04824111514966805,\n",
       "  'age_transmission_rate_10': 0.05246681798350639,\n",
       "  'age_transmission_rate_15': 0.25534189918772193,\n",
       "  'age_transmission_rate_20': 0.5033705061489184,\n",
       "  'age_transmission_rate_25': 0.3575984389894895,\n",
       "  'age_transmission_rate_30': 0.4494389069922813,\n",
       "  'age_transmission_rate_35': 0.01491539786595375,\n",
       "  'age_transmission_rate_40': 0.11341583217025224,\n",
       "  'age_transmission_rate_45': 0.4211545523347463,\n",
       "  'age_transmission_rate_5': 0.08123980708961236,\n",
       "  'age_transmission_rate_50': 0.11527856700214348,\n",
       "  'age_transmission_rate_55': 0.09720420860277336,\n",
       "  'age_transmission_rate_60': 0.24796993010907342,\n",
       "  'seed': 968.7900546134347,\n",
       "  'incubation_period': 5.4,\n",
       "  'infectious_period': 7.3}}"
      ]
     },
     "execution_count": 42,
     "metadata": {},
     "output_type": "execute_result"
    }
   ],
   "source": [
    "Map_params.to_dataframe"
   ]
  },
  {
   "cell_type": "code",
   "execution_count": null,
   "metadata": {},
   "outputs": [],
   "source": [
    "model_2.run(map_params)\n",
    "\n",
    "map_res_smc = model_2.get_outputs_df()\n"
   ]
  },
  {
   "cell_type": "code",
   "execution_count": null,
   "metadata": {},
   "outputs": [],
   "source": [
    "Infec = [f\"IXage_{i}\" for i in range(0,65,5)]\n"
   ]
  },
  {
   "cell_type": "code",
   "execution_count": null,
   "metadata": {},
   "outputs": [],
   "source": [
    "# total_cases_pred_DEM = map_res_smc[Infec].sum(axis=1)\n",
    "total_cases_pred_SMC = map_res_smc[Infec].sum(axis=1)"
   ]
  },
  {
   "cell_type": "code",
   "execution_count": null,
   "metadata": {},
   "outputs": [],
   "source": [
    "total_cases = total_cases[\"Aug 2020\":\"Nov 2020\"].iloc[::14]"
   ]
  },
  {
   "cell_type": "code",
   "execution_count": null,
   "metadata": {},
   "outputs": [],
   "source": [
    "plot_start_date = datetime(2020, 8, 1)\n",
    "analysis_end_date = datetime(2020, 11, 30)\n",
    "\n",
    "#plot= map_res[\"IXage_5\"].plot()\n",
    "plot = total_cases_pred_SMC.plot()\n",
    "plot.update_xaxes(range=(plot_start_date, analysis_end_date))\n",
    "# plot.add_trace(go.Scatter(x=df.loc[\"05_09\"].index, y=df.loc[\"05_09\"][\"cases\"], mode='markers', name='observed'))\n",
    "plot.add_trace(go.Scatter(x=total_cases.index, y=total_cases[\"cases\"], mode='markers', name='total_cases'))\n",
    "# plot.add_trace(go.Scatter(x=total_cases.index, y=total_cases_pred_DEM, name='DEM'))\n",
    "\n"
   ]
  },
  {
   "cell_type": "code",
   "execution_count": null,
   "metadata": {},
   "outputs": [],
   "source": []
  }
 ],
 "metadata": {
  "kernelspec": {
   "display_name": "emulearn",
   "language": "python",
   "name": "python3"
  },
  "language_info": {
   "codemirror_mode": {
    "name": "ipython",
    "version": 3
   },
   "file_extension": ".py",
   "mimetype": "text/x-python",
   "name": "python",
   "nbconvert_exporter": "python",
   "pygments_lexer": "ipython3",
   "version": "3.10.14"
  }
 },
 "nbformat": 4,
 "nbformat_minor": 2
}
