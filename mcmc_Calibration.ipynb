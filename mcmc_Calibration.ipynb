{
 "cells": [
  {
   "cell_type": "markdown",
   "metadata": {},
   "source": [
    "# MCMC CALIBRATION TECHNICS IN CONTEXT OF  INFECTIOUS DISEASE MODELING"
   ]
  },
  {
   "cell_type": "markdown",
   "metadata": {},
   "source": [
    "## Prerequies"
   ]
  },
  {
   "cell_type": "code",
   "execution_count": null,
   "metadata": {},
   "outputs": [],
   "source": [
    "# pip install multiprocess\n",
    "# %pip install --upgrade --force-reinstall multiprocess\n",
    "\n",
    "#Compatible with latest jax version  \n",
    "# %pip install summerepi2==1.3.6\n",
    "# %pip install jinja2"
   ]
  },
  {
   "cell_type": "code",
   "execution_count": null,
   "metadata": {},
   "outputs": [],
   "source": [
    "import multiprocess as mp\n",
    "import platform\n",
    "\n",
    "# This is required for pymc parallel evaluation in notebooks \n",
    "# But has to be change while using a python script \n",
    "# Use this following instruction instead\n",
    "# if __name__ == \"__main__\":\n",
    "#     if platform.system() != \"Windows\":\n",
    "#         mp.set_start_method('spawn')\n",
    "    \n",
    "    # rest of your code body here inside the if __name__\n",
    "if platform.system() != \"Windows\":\n",
    "    \n",
    "    mp.set_start_method('forkserver')"
   ]
  },
  {
   "cell_type": "code",
   "execution_count": null,
   "metadata": {},
   "outputs": [],
   "source": [
    "import Calibrate as cal #Runing the calibration process and gathering results\n",
    "from calibs_utilities import get_all_priors, get_targets, load_data\n",
    "from models.models import model1, model2 #All the models we design for the test\n",
    "from Calibrate import plot_comparison_bars\n",
    "\n",
    "# Combining tagets and prior with our summer2 model in a BayesianCompartmentalModel (bcm_model_1)\n",
    "from estival.model import BayesianCompartmentalModel\n",
    "from estival.sampling.tools import likelihood_extras_for_idata\n",
    "from estival.sampling.tools import likelihood_extras_for_samples\n",
    "\n",
    "\n",
    "import pandas as pd\n",
    "import numpy as np\n",
    "# import plotly.express as px\n",
    "import matplotlib.pyplot as plt\n",
    "from typing import List\n",
    "\n",
    "import pymc as pm\n",
    "\n",
    "# We use estivals parallel tools to run the model evaluations\n",
    "from estival.utils.parallel import map_parallel\n",
    "\n",
    "# import numpyro\n",
    "# from numpyro import distributions as dist\n",
    "from numpyro import infer\n",
    "import arviz as az\n",
    "import pickle\n",
    "from datetime import datetime\n",
    "from plotly import graph_objects as go\n",
    "# import jax\n",
    "from jax import numpy as jnp\n",
    "pd.options.plotting.backend = \"plotly\" #To allow plotly graphic. Swich to \"matplotlib\" if facing some troubles while ploting\n"
   ]
  },
  {
   "cell_type": "markdown",
   "metadata": {},
   "source": [
    "# Application 1: The basic SIR model"
   ]
  },
  {
   "cell_type": "markdown",
   "metadata": {},
   "source": [
    "## Calibration Data\n",
    "If data are needed to define a target, we just need to import it from our file data which we will design correctly.\n",
    "In this example we import data from a YAML file."
   ]
  },
  {
   "cell_type": "code",
   "execution_count": null,
   "metadata": {},
   "outputs": [],
   "source": [
    "#An example of data for the calibration \n",
    "\n",
    "output_labels = {\"index\": \"time\", \"value\": \"number infectious\"}\n",
    "\n",
    "targets_yml = './data/target_yml.yml'\n",
    "targets = load_data(targets_yml)\n",
    "targets_data = targets['active_cases']\n",
    "\n",
    "# targets_data.plot(kind=\"scatter\",labels=output_labels)\n",
    "\n"
   ]
  },
  {
   "cell_type": "code",
   "execution_count": null,
   "metadata": {},
   "outputs": [],
   "source": [
    "#Names of parameters and their ranges\n",
    "params = {\n",
    "    \"contact_rate\": (0.0,1.0),\n",
    "    \"recovery_rate\": (0.0,1.0)\n",
    "\n",
    "}\n",
    "targets = get_targets(targets_yml)\n",
    "priors = get_all_priors(params)"
   ]
  },
  {
   "cell_type": "markdown",
   "metadata": {},
   "source": [
    "## Model Definition and Configuration\n",
    "\n",
    "A mechanistic model (ODE-Based) model discribing Infectious Disease transmission."
   ]
  },
  {
   "cell_type": "code",
   "execution_count": null,
   "metadata": {},
   "outputs": [],
   "source": [
    "model_1 = model1() "
   ]
  },
  {
   "cell_type": "markdown",
   "metadata": {},
   "source": [
    "### Trial run "
   ]
  },
  {
   "cell_type": "code",
   "execution_count": null,
   "metadata": {},
   "outputs": [],
   "source": [
    "pd.options.plotting.backend = \"plotly\" #To allow plotly graphic. Swich to \"matplotlib\" if facing some troubles while ploting\n",
    "\n",
    "parameters = {\n",
    "    \"contact_rate\": 0.2,\n",
    "    \"recovery_rate\": 0.1,\n",
    "    #\"active_cases_dispersion\": 0.5,\n",
    "}\n",
    "\n",
    "model_1.run(parameters)\n",
    "#plt.rcParams[\"figure.figsize\"] = (5, 5)\n",
    "\n",
    "\n",
    "df = pd.DataFrame(\n",
    "    {\n",
    "        \"modelled\": model_1.get_outputs_df()[\"I\"],\n",
    "        \"observed\": targets_data,\n",
    "    }\n",
    ")\n",
    "df.plot(kind=\"scatter\", labels=output_labels) #,figsize=(3,3));"
   ]
  },
  {
   "cell_type": "markdown",
   "metadata": {},
   "source": [
    "### Sampling "
   ]
  },
  {
   "cell_type": "code",
   "execution_count": null,
   "metadata": {},
   "outputs": [],
   "source": [
    "#Defining  a Bayesian Compartmental Model\n",
    "\n",
    "bcm_model_1 = BayesianCompartmentalModel(model_1, parameters, priors, targets)\n",
    "bcm_model_1.targets[\"active_cases\"]\n"
   ]
  },
  {
   "cell_type": "code",
   "execution_count": null,
   "metadata": {},
   "outputs": [],
   "source": [
    "##____Uniform Initialisation_________\n",
    "init_vals = []\n",
    "for c in range(4):\n",
    "    init_vals.append({param: np.random.uniform(0.0,1.0) for param in parameters.keys()})\n",
    "\n",
    " \n",
    "init_vals\n",
    "\n",
    "init_vals_nuts = {param: jnp.array(np.random.uniform(0.0,1.0, 4)) for param in parameters.keys()}\n"
   ]
  },
  {
   "cell_type": "markdown",
   "metadata": {},
   "source": [
    "#### Simple Run"
   ]
  },
  {
   "cell_type": "code",
   "execution_count": null,
   "metadata": {},
   "outputs": [],
   "source": [
    "%%time\n",
    "D = 2 # Dimension of the parameter's space\n",
    "samplers = [pm.sample_smc] + [infer.NUTS]*2 + [pm.DEMetropolisZ]*2 + [pm.DEMetropolis]*2 + [pm.Metropolis]*4\n",
    "Draws = [2000] + [2000]*2 + [4000]*6 + [8000]*2\n",
    "Tunes = [0] + [100, 1000]*5\n",
    "chains = 2*D\n",
    "results_df = pd.DataFrame()\n",
    "\n",
    "for sampler, draws, tune in zip (samplers, Draws, Tunes):\n",
    "    if sampler.__name__ == \"NUTS\":\n",
    "        init = init_vals_nuts\n",
    "    else:\n",
    "        init = init_vals\n",
    "    results = cal.multirun(sampler = sampler, \n",
    "            draws = draws,\n",
    "            chains=chains,\n",
    "            cores = chains,\n",
    "            tune = tune,\n",
    "            bcm_model = bcm_model_1,\n",
    "            n_iterations = 1,\n",
    "            n_jobs = 1,\n",
    "            initial_params = init\n",
    "\n",
    "    )\n",
    "            \n",
    "    results_df = pd.concat([results_df,results])\n",
    "\n",
    "\n",
    "\n",
    "results_df = results_df.reset_index(drop=True)\n"
   ]
  },
  {
   "cell_type": "code",
   "execution_count": null,
   "metadata": {},
   "outputs": [],
   "source": [
    "results_df"
   ]
  },
  {
   "cell_type": "code",
   "execution_count": 35,
   "metadata": {},
   "outputs": [
    {
     "data": {
      "text/html": [
       "<style type=\"text/css\">\n",
       "</style>\n",
       "<table id=\"T_0b594\">\n",
       "  <caption>MCMC COMPARISON</caption>\n",
       "  <thead>\n",
       "    <tr>\n",
       "      <th class=\"blank level0\" >&nbsp;</th>\n",
       "      <th id=\"T_0b594_level0_col0\" class=\"col_heading level0 col0\" >Sampler</th>\n",
       "      <th id=\"T_0b594_level0_col1\" class=\"col_heading level0 col1\" >Draws</th>\n",
       "      <th id=\"T_0b594_level0_col2\" class=\"col_heading level0 col2\" >Chains</th>\n",
       "      <th id=\"T_0b594_level0_col3\" class=\"col_heading level0 col3\" >Tune</th>\n",
       "      <th id=\"T_0b594_level0_col4\" class=\"col_heading level0 col4\" >Time</th>\n",
       "      <th id=\"T_0b594_level0_col5\" class=\"col_heading level0 col5\" >Mean_ESS</th>\n",
       "      <th id=\"T_0b594_level0_col6\" class=\"col_heading level0 col6\" >Min_Ess</th>\n",
       "      <th id=\"T_0b594_level0_col7\" class=\"col_heading level0 col7\" >Ess_per_sec</th>\n",
       "      <th id=\"T_0b594_level0_col8\" class=\"col_heading level0 col8\" >Mean_Rhat</th>\n",
       "      <th id=\"T_0b594_level0_col9\" class=\"col_heading level0 col9\" >Rhat_max</th>\n",
       "      <th id=\"T_0b594_level0_col10\" class=\"col_heading level0 col10\" >Trace</th>\n",
       "      <th id=\"T_0b594_level0_col11\" class=\"col_heading level0 col11\" >Run</th>\n",
       "    </tr>\n",
       "  </thead>\n",
       "  <tbody>\n",
       "    <tr>\n",
       "      <th id=\"T_0b594_level0_row0\" class=\"row_heading level0 row0\" >0</th>\n",
       "      <td id=\"T_0b594_row0_col0\" class=\"data row0 col0\" >sample_smc</td>\n",
       "      <td id=\"T_0b594_row0_col1\" class=\"data row0 col1\" >2000</td>\n",
       "      <td id=\"T_0b594_row0_col2\" class=\"data row0 col2\" >4</td>\n",
       "      <td id=\"T_0b594_row0_col3\" class=\"data row0 col3\" >0</td>\n",
       "      <td id=\"T_0b594_row0_col4\" class=\"data row0 col4\" >13.005662</td>\n",
       "      <td id=\"T_0b594_row0_col5\" class=\"data row0 col5\" >59.675913</td>\n",
       "      <td id=\"T_0b594_row0_col6\" class=\"data row0 col6\" >31.681385</td>\n",
       "      <td id=\"T_0b594_row0_col7\" class=\"data row0 col7\" >4.588457</td>\n",
       "      <td id=\"T_0b594_row0_col8\" class=\"data row0 col8\" >1.071367</td>\n",
       "      <td id=\"T_0b594_row0_col9\" class=\"data row0 col9\" >1.081730</td>\n",
       "      <td id=\"T_0b594_row0_col10\" class=\"data row0 col10\" >Inference data with groups:\n",
       "\t> posterior\n",
       "\t> sample_stats</td>\n",
       "      <td id=\"T_0b594_row0_col11\" class=\"data row0 col11\" >sample_smc\n",
       "Draws=2000\n",
       "Tune=0</td>\n",
       "    </tr>\n",
       "    <tr>\n",
       "      <th id=\"T_0b594_level0_row1\" class=\"row_heading level0 row1\" >1</th>\n",
       "      <td id=\"T_0b594_row1_col0\" class=\"data row1 col0\" >NUTS</td>\n",
       "      <td id=\"T_0b594_row1_col1\" class=\"data row1 col1\" >2000</td>\n",
       "      <td id=\"T_0b594_row1_col2\" class=\"data row1 col2\" >4</td>\n",
       "      <td id=\"T_0b594_row1_col3\" class=\"data row1 col3\" >100</td>\n",
       "      <td id=\"T_0b594_row1_col4\" class=\"data row1 col4\" >31.524645</td>\n",
       "      <td id=\"T_0b594_row1_col5\" class=\"data row1 col5\" >1140.985578</td>\n",
       "      <td id=\"T_0b594_row1_col6\" class=\"data row1 col6\" >1134.640436</td>\n",
       "      <td id=\"T_0b594_row1_col7\" class=\"data row1 col7\" >36.193447</td>\n",
       "      <td id=\"T_0b594_row1_col8\" class=\"data row1 col8\" >1.003326</td>\n",
       "      <td id=\"T_0b594_row1_col9\" class=\"data row1 col9\" >1.003330</td>\n",
       "      <td id=\"T_0b594_row1_col10\" class=\"data row1 col10\" >Inference data with groups:\n",
       "\t> posterior\n",
       "\t> log_likelihood\n",
       "\t> sample_stats\n",
       "\t> observed_data</td>\n",
       "      <td id=\"T_0b594_row1_col11\" class=\"data row1 col11\" >NUTS\n",
       "Draws=2000\n",
       "Tune=100</td>\n",
       "    </tr>\n",
       "    <tr>\n",
       "      <th id=\"T_0b594_level0_row2\" class=\"row_heading level0 row2\" >2</th>\n",
       "      <td id=\"T_0b594_row2_col0\" class=\"data row2 col0\" >NUTS</td>\n",
       "      <td id=\"T_0b594_row2_col1\" class=\"data row2 col1\" >2000</td>\n",
       "      <td id=\"T_0b594_row2_col2\" class=\"data row2 col2\" >4</td>\n",
       "      <td id=\"T_0b594_row2_col3\" class=\"data row2 col3\" >1000</td>\n",
       "      <td id=\"T_0b594_row2_col4\" class=\"data row2 col4\" >33.486870</td>\n",
       "      <td id=\"T_0b594_row2_col5\" class=\"data row2 col5\" >1348.920851</td>\n",
       "      <td id=\"T_0b594_row2_col6\" class=\"data row2 col6\" >1336.663197</td>\n",
       "      <td id=\"T_0b594_row2_col7\" class=\"data row2 col7\" >40.282083</td>\n",
       "      <td id=\"T_0b594_row2_col8\" class=\"data row2 col8\" >1.004022</td>\n",
       "      <td id=\"T_0b594_row2_col9\" class=\"data row2 col9\" >1.004511</td>\n",
       "      <td id=\"T_0b594_row2_col10\" class=\"data row2 col10\" >Inference data with groups:\n",
       "\t> posterior\n",
       "\t> log_likelihood\n",
       "\t> sample_stats\n",
       "\t> observed_data</td>\n",
       "      <td id=\"T_0b594_row2_col11\" class=\"data row2 col11\" >NUTS\n",
       "Draws=2000\n",
       "Tune=1000</td>\n",
       "    </tr>\n",
       "    <tr>\n",
       "      <th id=\"T_0b594_level0_row3\" class=\"row_heading level0 row3\" >3</th>\n",
       "      <td id=\"T_0b594_row3_col0\" class=\"data row3 col0\" >DEMetropolisZ</td>\n",
       "      <td id=\"T_0b594_row3_col1\" class=\"data row3 col1\" >4000</td>\n",
       "      <td id=\"T_0b594_row3_col2\" class=\"data row3 col2\" >4</td>\n",
       "      <td id=\"T_0b594_row3_col3\" class=\"data row3 col3\" >100</td>\n",
       "      <td id=\"T_0b594_row3_col4\" class=\"data row3 col4\" >27.572801</td>\n",
       "      <td id=\"T_0b594_row3_col5\" class=\"data row3 col5\" >41.852000</td>\n",
       "      <td id=\"T_0b594_row3_col6\" class=\"data row3 col6\" >38.791414</td>\n",
       "      <td id=\"T_0b594_row3_col7\" class=\"data row3 col7\" >1.517873</td>\n",
       "      <td id=\"T_0b594_row3_col8\" class=\"data row3 col8\" >1.064401</td>\n",
       "      <td id=\"T_0b594_row3_col9\" class=\"data row3 col9\" >1.067646</td>\n",
       "      <td id=\"T_0b594_row3_col10\" class=\"data row3 col10\" >Inference data with groups:\n",
       "\t> posterior\n",
       "\t> sample_stats</td>\n",
       "      <td id=\"T_0b594_row3_col11\" class=\"data row3 col11\" >DEMetropolisZ\n",
       "Draws=4000\n",
       "Tune=100</td>\n",
       "    </tr>\n",
       "    <tr>\n",
       "      <th id=\"T_0b594_level0_row4\" class=\"row_heading level0 row4\" >4</th>\n",
       "      <td id=\"T_0b594_row4_col0\" class=\"data row4 col0\" >DEMetropolisZ</td>\n",
       "      <td id=\"T_0b594_row4_col1\" class=\"data row4 col1\" >4000</td>\n",
       "      <td id=\"T_0b594_row4_col2\" class=\"data row4 col2\" >4</td>\n",
       "      <td id=\"T_0b594_row4_col3\" class=\"data row4 col3\" >1000</td>\n",
       "      <td id=\"T_0b594_row4_col4\" class=\"data row4 col4\" >23.719712</td>\n",
       "      <td id=\"T_0b594_row4_col5\" class=\"data row4 col5\" >2062.357275</td>\n",
       "      <td id=\"T_0b594_row4_col6\" class=\"data row4 col6\" >2014.157163</td>\n",
       "      <td id=\"T_0b594_row4_col7\" class=\"data row4 col7\" >86.946976</td>\n",
       "      <td id=\"T_0b594_row4_col8\" class=\"data row4 col8\" >1.002529</td>\n",
       "      <td id=\"T_0b594_row4_col9\" class=\"data row4 col9\" >1.002771</td>\n",
       "      <td id=\"T_0b594_row4_col10\" class=\"data row4 col10\" >Inference data with groups:\n",
       "\t> posterior\n",
       "\t> sample_stats</td>\n",
       "      <td id=\"T_0b594_row4_col11\" class=\"data row4 col11\" >DEMetropolisZ\n",
       "Draws=4000\n",
       "Tune=1000</td>\n",
       "    </tr>\n",
       "    <tr>\n",
       "      <th id=\"T_0b594_level0_row5\" class=\"row_heading level0 row5\" >5</th>\n",
       "      <td id=\"T_0b594_row5_col0\" class=\"data row5 col0\" >DEMetropolis</td>\n",
       "      <td id=\"T_0b594_row5_col1\" class=\"data row5 col1\" >4000</td>\n",
       "      <td id=\"T_0b594_row5_col2\" class=\"data row5 col2\" >4</td>\n",
       "      <td id=\"T_0b594_row5_col3\" class=\"data row5 col3\" >100</td>\n",
       "      <td id=\"T_0b594_row5_col4\" class=\"data row5 col4\" >22.462599</td>\n",
       "      <td id=\"T_0b594_row5_col5\" class=\"data row5 col5\" >4.760280</td>\n",
       "      <td id=\"T_0b594_row5_col6\" class=\"data row5 col6\" >4.671975</td>\n",
       "      <td id=\"T_0b594_row5_col7\" class=\"data row5 col7\" >0.211920</td>\n",
       "      <td id=\"T_0b594_row5_col8\" class=\"data row5 col8\" >2.602557</td>\n",
       "      <td id=\"T_0b594_row5_col9\" class=\"data row5 col9\" >2.729054</td>\n",
       "      <td id=\"T_0b594_row5_col10\" class=\"data row5 col10\" >Inference data with groups:\n",
       "\t> posterior\n",
       "\t> sample_stats</td>\n",
       "      <td id=\"T_0b594_row5_col11\" class=\"data row5 col11\" >DEMetropolis\n",
       "Draws=4000\n",
       "Tune=100</td>\n",
       "    </tr>\n",
       "    <tr>\n",
       "      <th id=\"T_0b594_level0_row6\" class=\"row_heading level0 row6\" >6</th>\n",
       "      <td id=\"T_0b594_row6_col0\" class=\"data row6 col0\" >DEMetropolis</td>\n",
       "      <td id=\"T_0b594_row6_col1\" class=\"data row6 col1\" >4000</td>\n",
       "      <td id=\"T_0b594_row6_col2\" class=\"data row6 col2\" >4</td>\n",
       "      <td id=\"T_0b594_row6_col3\" class=\"data row6 col3\" >1000</td>\n",
       "      <td id=\"T_0b594_row6_col4\" class=\"data row6 col4\" >23.286239</td>\n",
       "      <td id=\"T_0b594_row6_col5\" class=\"data row6 col5\" >1208.920465</td>\n",
       "      <td id=\"T_0b594_row6_col6\" class=\"data row6 col6\" >1191.146933</td>\n",
       "      <td id=\"T_0b594_row6_col7\" class=\"data row6 col7\" >51.915661</td>\n",
       "      <td id=\"T_0b594_row6_col8\" class=\"data row6 col8\" >1.004659</td>\n",
       "      <td id=\"T_0b594_row6_col9\" class=\"data row6 col9\" >1.005069</td>\n",
       "      <td id=\"T_0b594_row6_col10\" class=\"data row6 col10\" >Inference data with groups:\n",
       "\t> posterior\n",
       "\t> sample_stats</td>\n",
       "      <td id=\"T_0b594_row6_col11\" class=\"data row6 col11\" >DEMetropolis\n",
       "Draws=4000\n",
       "Tune=1000</td>\n",
       "    </tr>\n",
       "    <tr>\n",
       "      <th id=\"T_0b594_level0_row7\" class=\"row_heading level0 row7\" >7</th>\n",
       "      <td id=\"T_0b594_row7_col0\" class=\"data row7 col0\" >Metropolis</td>\n",
       "      <td id=\"T_0b594_row7_col1\" class=\"data row7 col1\" >4000</td>\n",
       "      <td id=\"T_0b594_row7_col2\" class=\"data row7 col2\" >4</td>\n",
       "      <td id=\"T_0b594_row7_col3\" class=\"data row7 col3\" >100</td>\n",
       "      <td id=\"T_0b594_row7_col4\" class=\"data row7 col4\" >24.419664</td>\n",
       "      <td id=\"T_0b594_row7_col5\" class=\"data row7 col5\" >4.928864</td>\n",
       "      <td id=\"T_0b594_row7_col6\" class=\"data row7 col6\" >4.917964</td>\n",
       "      <td id=\"T_0b594_row7_col7\" class=\"data row7 col7\" >0.201840</td>\n",
       "      <td id=\"T_0b594_row7_col8\" class=\"data row7 col8\" >2.347803</td>\n",
       "      <td id=\"T_0b594_row7_col9\" class=\"data row7 col9\" >2.356810</td>\n",
       "      <td id=\"T_0b594_row7_col10\" class=\"data row7 col10\" >Inference data with groups:\n",
       "\t> posterior\n",
       "\t> sample_stats</td>\n",
       "      <td id=\"T_0b594_row7_col11\" class=\"data row7 col11\" >Metropolis\n",
       "Draws=4000\n",
       "Tune=100</td>\n",
       "    </tr>\n",
       "    <tr>\n",
       "      <th id=\"T_0b594_level0_row8\" class=\"row_heading level0 row8\" >8</th>\n",
       "      <td id=\"T_0b594_row8_col0\" class=\"data row8 col0\" >Metropolis</td>\n",
       "      <td id=\"T_0b594_row8_col1\" class=\"data row8 col1\" >4000</td>\n",
       "      <td id=\"T_0b594_row8_col2\" class=\"data row8 col2\" >4</td>\n",
       "      <td id=\"T_0b594_row8_col3\" class=\"data row8 col3\" >1000</td>\n",
       "      <td id=\"T_0b594_row8_col4\" class=\"data row8 col4\" >25.436725</td>\n",
       "      <td id=\"T_0b594_row8_col5\" class=\"data row8 col5\" >8.011946</td>\n",
       "      <td id=\"T_0b594_row8_col6\" class=\"data row8 col6\" >7.939630</td>\n",
       "      <td id=\"T_0b594_row8_col7\" class=\"data row8 col7\" >0.314976</td>\n",
       "      <td id=\"T_0b594_row8_col8\" class=\"data row8 col8\" >1.433841</td>\n",
       "      <td id=\"T_0b594_row8_col9\" class=\"data row8 col9\" >1.440277</td>\n",
       "      <td id=\"T_0b594_row8_col10\" class=\"data row8 col10\" >Inference data with groups:\n",
       "\t> posterior\n",
       "\t> sample_stats</td>\n",
       "      <td id=\"T_0b594_row8_col11\" class=\"data row8 col11\" >Metropolis\n",
       "Draws=4000\n",
       "Tune=1000</td>\n",
       "    </tr>\n",
       "    <tr>\n",
       "      <th id=\"T_0b594_level0_row9\" class=\"row_heading level0 row9\" >9</th>\n",
       "      <td id=\"T_0b594_row9_col0\" class=\"data row9 col0\" >Metropolis</td>\n",
       "      <td id=\"T_0b594_row9_col1\" class=\"data row9 col1\" >8000</td>\n",
       "      <td id=\"T_0b594_row9_col2\" class=\"data row9 col2\" >4</td>\n",
       "      <td id=\"T_0b594_row9_col3\" class=\"data row9 col3\" >100</td>\n",
       "      <td id=\"T_0b594_row9_col4\" class=\"data row9 col4\" >29.621529</td>\n",
       "      <td id=\"T_0b594_row9_col5\" class=\"data row9 col5\" >4.905816</td>\n",
       "      <td id=\"T_0b594_row9_col6\" class=\"data row9 col6\" >4.904458</td>\n",
       "      <td id=\"T_0b594_row9_col7\" class=\"data row9 col7\" >0.165617</td>\n",
       "      <td id=\"T_0b594_row9_col8\" class=\"data row9 col8\" >2.375201</td>\n",
       "      <td id=\"T_0b594_row9_col9\" class=\"data row9 col9\" >2.375917</td>\n",
       "      <td id=\"T_0b594_row9_col10\" class=\"data row9 col10\" >Inference data with groups:\n",
       "\t> posterior\n",
       "\t> sample_stats</td>\n",
       "      <td id=\"T_0b594_row9_col11\" class=\"data row9 col11\" >Metropolis\n",
       "Draws=8000\n",
       "Tune=100</td>\n",
       "    </tr>\n",
       "    <tr>\n",
       "      <th id=\"T_0b594_level0_row10\" class=\"row_heading level0 row10\" >10</th>\n",
       "      <td id=\"T_0b594_row10_col0\" class=\"data row10 col0\" >Metropolis</td>\n",
       "      <td id=\"T_0b594_row10_col1\" class=\"data row10 col1\" >8000</td>\n",
       "      <td id=\"T_0b594_row10_col2\" class=\"data row10 col2\" >4</td>\n",
       "      <td id=\"T_0b594_row10_col3\" class=\"data row10 col3\" >1000</td>\n",
       "      <td id=\"T_0b594_row10_col4\" class=\"data row10 col4\" >30.018327</td>\n",
       "      <td id=\"T_0b594_row10_col5\" class=\"data row10 col5\" >42.473777</td>\n",
       "      <td id=\"T_0b594_row10_col6\" class=\"data row10 col6\" >42.429248</td>\n",
       "      <td id=\"T_0b594_row10_col7\" class=\"data row10 col7\" >1.414928</td>\n",
       "      <td id=\"T_0b594_row10_col8\" class=\"data row10 col8\" >1.077711</td>\n",
       "      <td id=\"T_0b594_row10_col9\" class=\"data row10 col9\" >1.082445</td>\n",
       "      <td id=\"T_0b594_row10_col10\" class=\"data row10 col10\" >Inference data with groups:\n",
       "\t> posterior\n",
       "\t> sample_stats</td>\n",
       "      <td id=\"T_0b594_row10_col11\" class=\"data row10 col11\" >Metropolis\n",
       "Draws=8000\n",
       "Tune=1000</td>\n",
       "    </tr>\n",
       "  </tbody>\n",
       "</table>\n"
      ],
      "text/plain": [
       "<pandas.io.formats.style.Styler at 0x1e49700b4c0>"
      ]
     },
     "execution_count": 35,
     "metadata": {},
     "output_type": "execute_result"
    }
   ],
   "source": [
    "results_df.style.set_caption(\"MCMC COMPARISON\") \n",
    "\n",
    "#Storing results on a pickle file\n",
    "# with open('./Results/Model_1/Simple_run_results_2.pkl', 'wb') as fp:\n",
    "#     pickle.dump(results_df, fp)\n",
    "\n",
    "\n",
    "# #Loading a pickle file\n",
    "# with open('./Results/Model_1/Simple_run_results.pkl', 'rb') as fp:\n",
    "#     res = pickle.load(fp)"
   ]
  },
  {
   "cell_type": "code",
   "execution_count": null,
   "metadata": {},
   "outputs": [],
   "source": []
  },
  {
   "cell_type": "code",
   "execution_count": null,
   "metadata": {},
   "outputs": [],
   "source": []
  },
  {
   "cell_type": "code",
   "execution_count": null,
   "metadata": {},
   "outputs": [],
   "source": [
    "#Loading a pickle file\n",
    "with open('./Results/Model_1/Simple_run_results.pkl', 'rb') as fp:\n",
    "    res = pickle.load(fp)"
   ]
  },
  {
   "cell_type": "code",
   "execution_count": null,
   "metadata": {},
   "outputs": [],
   "source": [
    "def group_summary(results_df):\n",
    "    s = []\n",
    "    for row in results_df.index:\n",
    "        truncated_trace = results_df.Trace.loc[row].posterior\n",
    "        summary = az.summary(truncated_trace)\n",
    "        summary[\"Sampler\"] = results_df.at[row, \"Sampler\"]\n",
    "        s.append(summary)\n",
    "    summaries = pd.concat(s)\n",
    "\n",
    "    summaries[\"Variables\"] = summaries.index\n",
    "    summaries.set_index(\"Sampler\", inplace=True)\n",
    "\n",
    "    sum_dict = dict()\n",
    "    summary_means = pd.DataFrame()\n",
    "\n",
    "    for sampler in [\"sample_smc\",\"NUTS\", \"DEMetropolis\", \"DEMetropolisZ\", \"Metropolis\"]:\n",
    "        sum_dict[sampler] = summaries.loc[sampler].groupby(\"Variables\").mean().reset_index(drop=False)\n",
    "\n",
    "    summary_means = pd.concat(sum_dict)\n",
    "    #computing the pecentage of Mean rhat <= 1.01\n",
    "    prcnt_success= pd.DataFrame()\n",
    "    prcnt_success[\"Mean rhat <= 1.01(%)\"] = results_df.groupby('Sampler')['Mean_Rhat'].apply(lambda x: (x <= 1.01).mean() * 100)\n",
    "\n",
    "    return summary_means, prcnt_success"
   ]
  },
  {
   "cell_type": "code",
   "execution_count": null,
   "metadata": {},
   "outputs": [],
   "source": [
    "summaries_mean, prcnt_succ = group_summary(results_df)"
   ]
  },
  {
   "cell_type": "code",
   "execution_count": null,
   "metadata": {},
   "outputs": [],
   "source": [
    "summaries_mean"
   ]
  },
  {
   "cell_type": "code",
   "execution_count": 34,
   "metadata": {},
   "outputs": [
    {
     "data": {
      "text/html": [
       "<div>\n",
       "<style scoped>\n",
       "    .dataframe tbody tr th:only-of-type {\n",
       "        vertical-align: middle;\n",
       "    }\n",
       "\n",
       "    .dataframe tbody tr th {\n",
       "        vertical-align: top;\n",
       "    }\n",
       "\n",
       "    .dataframe thead th {\n",
       "        text-align: right;\n",
       "    }\n",
       "</style>\n",
       "<table border=\"1\" class=\"dataframe\">\n",
       "  <thead>\n",
       "    <tr style=\"text-align: right;\">\n",
       "      <th></th>\n",
       "      <th>Mean rhat &lt;= 1.01(%)</th>\n",
       "    </tr>\n",
       "    <tr>\n",
       "      <th>Sampler</th>\n",
       "      <th></th>\n",
       "    </tr>\n",
       "  </thead>\n",
       "  <tbody>\n",
       "    <tr>\n",
       "      <th>DEMetropolis</th>\n",
       "      <td>50.0</td>\n",
       "    </tr>\n",
       "    <tr>\n",
       "      <th>DEMetropolisZ</th>\n",
       "      <td>50.0</td>\n",
       "    </tr>\n",
       "    <tr>\n",
       "      <th>Metropolis</th>\n",
       "      <td>0.0</td>\n",
       "    </tr>\n",
       "    <tr>\n",
       "      <th>NUTS</th>\n",
       "      <td>100.0</td>\n",
       "    </tr>\n",
       "    <tr>\n",
       "      <th>sample_smc</th>\n",
       "      <td>0.0</td>\n",
       "    </tr>\n",
       "  </tbody>\n",
       "</table>\n",
       "</div>"
      ],
      "text/plain": [
       "               Mean rhat <= 1.01(%)\n",
       "Sampler                            \n",
       "DEMetropolis                   50.0\n",
       "DEMetropolisZ                  50.0\n",
       "Metropolis                      0.0\n",
       "NUTS                          100.0\n",
       "sample_smc                      0.0"
      ]
     },
     "execution_count": 34,
     "metadata": {},
     "output_type": "execute_result"
    }
   ],
   "source": [
    "prcnt_succ"
   ]
  },
  {
   "cell_type": "code",
   "execution_count": null,
   "metadata": {},
   "outputs": [],
   "source": [
    "AllTrace = res[\"Trace\"]"
   ]
  },
  {
   "cell_type": "code",
   "execution_count": null,
   "metadata": {},
   "outputs": [],
   "source": [
    "az.summary(AllTrace[6])"
   ]
  },
  {
   "cell_type": "code",
   "execution_count": null,
   "metadata": {},
   "outputs": [],
   "source": [
    "cols = res.columns\n",
    "res[cols[~cols.isin([\"Trace\", \"Run\"])]].round(2).style.set_caption(\n",
    "    \"Results of MCMC Sampling of 10-Dimensional Target Distribution\"\n",
    ")"
   ]
  },
  {
   "cell_type": "code",
   "execution_count": null,
   "metadata": {},
   "outputs": [],
   "source": [
    "# plot_comparison_Bars(results_df=res)\n",
    "plot_comparison_bars(results_df.round(2))"
   ]
  },
  {
   "cell_type": "markdown",
   "metadata": {},
   "source": [
    "### Multiple runs"
   ]
  },
  {
   "cell_type": "code",
   "execution_count": null,
   "metadata": {},
   "outputs": [],
   "source": [
    "all_results = dict()"
   ]
  },
  {
   "cell_type": "code",
   "execution_count": null,
   "metadata": {},
   "outputs": [],
   "source": [
    "sampler = infer.NUTS\n",
    "all_results[sampler.__name__] = cal.multirun(\n",
    "    sampler, \n",
    "    draws = 2000,\n",
    "    tune = 1000,\n",
    "    chains=4,\n",
    "    cores=4, \n",
    "    bcm_model = bcm_model_1,\n",
    "    n_iterations = 100,\n",
    "    n_jobs = 2,\n",
    "    initial_params = init_vals_nuts\n",
    "    )"
   ]
  },
  {
   "cell_type": "code",
   "execution_count": null,
   "metadata": {},
   "outputs": [],
   "source": [
    "df = pd.concat(all_results)\n",
    "df[\"Trace\"]"
   ]
  },
  {
   "cell_type": "code",
   "execution_count": 42,
   "metadata": {},
   "outputs": [],
   "source": [
    "summaries_mean, prcnt_succ = group_summary(df)"
   ]
  },
  {
   "cell_type": "code",
   "execution_count": 44,
   "metadata": {},
   "outputs": [
    {
     "data": {
      "text/html": [
       "<div>\n",
       "<style scoped>\n",
       "    .dataframe tbody tr th:only-of-type {\n",
       "        vertical-align: middle;\n",
       "    }\n",
       "\n",
       "    .dataframe tbody tr th {\n",
       "        vertical-align: top;\n",
       "    }\n",
       "\n",
       "    .dataframe thead th {\n",
       "        text-align: right;\n",
       "    }\n",
       "</style>\n",
       "<table border=\"1\" class=\"dataframe\">\n",
       "  <thead>\n",
       "    <tr style=\"text-align: right;\">\n",
       "      <th></th>\n",
       "      <th>Mean rhat &lt;= 1.01(%)</th>\n",
       "    </tr>\n",
       "    <tr>\n",
       "      <th>Sampler</th>\n",
       "      <th></th>\n",
       "    </tr>\n",
       "  </thead>\n",
       "  <tbody>\n",
       "    <tr>\n",
       "      <th>DEMetropolis</th>\n",
       "      <td>40.0</td>\n",
       "    </tr>\n",
       "    <tr>\n",
       "      <th>DEMetropolisZ</th>\n",
       "      <td>95.0</td>\n",
       "    </tr>\n",
       "    <tr>\n",
       "      <th>Metropolis</th>\n",
       "      <td>0.0</td>\n",
       "    </tr>\n",
       "    <tr>\n",
       "      <th>NUTS</th>\n",
       "      <td>100.0</td>\n",
       "    </tr>\n",
       "    <tr>\n",
       "      <th>sample_smc</th>\n",
       "      <td>37.0</td>\n",
       "    </tr>\n",
       "  </tbody>\n",
       "</table>\n",
       "</div>"
      ],
      "text/plain": [
       "               Mean rhat <= 1.01(%)\n",
       "Sampler                            \n",
       "DEMetropolis                   40.0\n",
       "DEMetropolisZ                  95.0\n",
       "Metropolis                      0.0\n",
       "NUTS                          100.0\n",
       "sample_smc                     37.0"
      ]
     },
     "execution_count": 44,
     "metadata": {},
     "output_type": "execute_result"
    }
   ],
   "source": [
    "prcnt_succ"
   ]
  },
  {
   "cell_type": "code",
   "execution_count": null,
   "metadata": {},
   "outputs": [],
   "source": [
    "sampler = pm.DEMetropolis\n",
    "all_results[sampler.__name__] = cal.multirun(\n",
    "    sampler, \n",
    "    draws = 8000,\n",
    "    tune = 1000,\n",
    "    chains=4,\n",
    "    cores=4, \n",
    "    bcm_model = bcm_model_1,\n",
    "    n_iterations = 100,\n",
    "    n_jobs = 2,\n",
    "    initial_params = init_vals\n",
    "    )"
   ]
  },
  {
   "cell_type": "code",
   "execution_count": null,
   "metadata": {},
   "outputs": [],
   "source": [
    "sampler = pm.DEMetropolisZ\n",
    "all_results[sampler.__name__] = cal.multirun(\n",
    "    sampler, \n",
    "    draws = 8000,\n",
    "    chains=4,\n",
    "    cores=4,\n",
    "    tune = 1000, \n",
    "    bcm_model = bcm_model_1,\n",
    "    n_iterations = 100,\n",
    "    n_jobs = 2,\n",
    "    initial_params = init_vals\n",
    "    )"
   ]
  },
  {
   "cell_type": "code",
   "execution_count": null,
   "metadata": {},
   "outputs": [],
   "source": [
    "sampler = pm.Metropolis\n",
    "all_results[sampler.__name__] = cal.multirun(\n",
    "    sampler, \n",
    "    draws = 8000,\n",
    "    tune = 1000, \n",
    "    chains=4,\n",
    "    cores=4,\n",
    "    bcm_model = bcm_model_1,\n",
    "    n_iterations = 100,\n",
    "    n_jobs = 2,\n",
    "    initial_params = init_vals\n",
    "    )"
   ]
  },
  {
   "cell_type": "code",
   "execution_count": null,
   "metadata": {},
   "outputs": [],
   "source": [
    "sampler = pm.sample_smc\n",
    "all_results[sampler.__name__] = cal.multirun(\n",
    "    sampler, \n",
    "    draws = 2000,\n",
    "    tune = 0,\n",
    "    chains=4,\n",
    "    cores=4, \n",
    "    bcm_model = bcm_model_1,\n",
    "    n_iterations = 100,\n",
    "    n_jobs = 2,\n",
    "    initial_params = None\n",
    "    )"
   ]
  },
  {
   "cell_type": "code",
   "execution_count": 75,
   "metadata": {},
   "outputs": [
    {
     "name": "stderr",
     "output_type": "stream",
     "text": [
      "Initializing SMC sampler...\n",
      "Sampling 4 chains in 4 jobs\n"
     ]
    },
    {
     "name": "stdout",
     "output_type": "stream",
     "text": [
      " |----------------------------------------| 0.00% [0/100 00:00<?]\r"
     ]
    }
   ],
   "source": [
    "import pymc as pm\n",
    "from estival.wrappers import pymc as epm\n",
    "with pm.Model() as model:\n",
    "    variables = epm.use_model(bcm_model_1)\n",
    "    idata_smc = pm.sample_smc(kernel=pm.smc.IMH, compute_convergence_checks=False, start = None, draws=15000,chains=4, threshold = 0.1,correlation_threshold=0.6)"
   ]
  },
  {
   "cell_type": "code",
   "execution_count": 76,
   "metadata": {},
   "outputs": [
    {
     "data": {
      "text/html": [
       "<div><svg style=\"position: absolute; width: 0; height: 0; overflow: hidden\">\n",
       "<defs>\n",
       "<symbol id=\"icon-database\" viewBox=\"0 0 32 32\">\n",
       "<path d=\"M16 0c-8.837 0-16 2.239-16 5v4c0 2.761 7.163 5 16 5s16-2.239 16-5v-4c0-2.761-7.163-5-16-5z\"></path>\n",
       "<path d=\"M16 17c-8.837 0-16-2.239-16-5v6c0 2.761 7.163 5 16 5s16-2.239 16-5v-6c0 2.761-7.163 5-16 5z\"></path>\n",
       "<path d=\"M16 26c-8.837 0-16-2.239-16-5v6c0 2.761 7.163 5 16 5s16-2.239 16-5v-6c0 2.761-7.163 5-16 5z\"></path>\n",
       "</symbol>\n",
       "<symbol id=\"icon-file-text2\" viewBox=\"0 0 32 32\">\n",
       "<path d=\"M28.681 7.159c-0.694-0.947-1.662-2.053-2.724-3.116s-2.169-2.030-3.116-2.724c-1.612-1.182-2.393-1.319-2.841-1.319h-15.5c-1.378 0-2.5 1.121-2.5 2.5v27c0 1.378 1.122 2.5 2.5 2.5h23c1.378 0 2.5-1.122 2.5-2.5v-19.5c0-0.448-0.137-1.23-1.319-2.841zM24.543 5.457c0.959 0.959 1.712 1.825 2.268 2.543h-4.811v-4.811c0.718 0.556 1.584 1.309 2.543 2.268zM28 29.5c0 0.271-0.229 0.5-0.5 0.5h-23c-0.271 0-0.5-0.229-0.5-0.5v-27c0-0.271 0.229-0.5 0.5-0.5 0 0 15.499-0 15.5 0v7c0 0.552 0.448 1 1 1h7v19.5z\"></path>\n",
       "<path d=\"M23 26h-14c-0.552 0-1-0.448-1-1s0.448-1 1-1h14c0.552 0 1 0.448 1 1s-0.448 1-1 1z\"></path>\n",
       "<path d=\"M23 22h-14c-0.552 0-1-0.448-1-1s0.448-1 1-1h14c0.552 0 1 0.448 1 1s-0.448 1-1 1z\"></path>\n",
       "<path d=\"M23 18h-14c-0.552 0-1-0.448-1-1s0.448-1 1-1h14c0.552 0 1 0.448 1 1s-0.448 1-1 1z\"></path>\n",
       "</symbol>\n",
       "</defs>\n",
       "</svg>\n",
       "<style>/* CSS stylesheet for displaying xarray objects in jupyterlab.\n",
       " *\n",
       " */\n",
       "\n",
       ":root {\n",
       "  --xr-font-color0: var(--jp-content-font-color0, rgba(0, 0, 0, 1));\n",
       "  --xr-font-color2: var(--jp-content-font-color2, rgba(0, 0, 0, 0.54));\n",
       "  --xr-font-color3: var(--jp-content-font-color3, rgba(0, 0, 0, 0.38));\n",
       "  --xr-border-color: var(--jp-border-color2, #e0e0e0);\n",
       "  --xr-disabled-color: var(--jp-layout-color3, #bdbdbd);\n",
       "  --xr-background-color: var(--jp-layout-color0, white);\n",
       "  --xr-background-color-row-even: var(--jp-layout-color1, white);\n",
       "  --xr-background-color-row-odd: var(--jp-layout-color2, #eeeeee);\n",
       "}\n",
       "\n",
       "html[theme=dark],\n",
       "body[data-theme=dark],\n",
       "body.vscode-dark {\n",
       "  --xr-font-color0: rgba(255, 255, 255, 1);\n",
       "  --xr-font-color2: rgba(255, 255, 255, 0.54);\n",
       "  --xr-font-color3: rgba(255, 255, 255, 0.38);\n",
       "  --xr-border-color: #1F1F1F;\n",
       "  --xr-disabled-color: #515151;\n",
       "  --xr-background-color: #111111;\n",
       "  --xr-background-color-row-even: #111111;\n",
       "  --xr-background-color-row-odd: #313131;\n",
       "}\n",
       "\n",
       ".xr-wrap {\n",
       "  display: block !important;\n",
       "  min-width: 300px;\n",
       "  max-width: 700px;\n",
       "}\n",
       "\n",
       ".xr-text-repr-fallback {\n",
       "  /* fallback to plain text repr when CSS is not injected (untrusted notebook) */\n",
       "  display: none;\n",
       "}\n",
       "\n",
       ".xr-header {\n",
       "  padding-top: 6px;\n",
       "  padding-bottom: 6px;\n",
       "  margin-bottom: 4px;\n",
       "  border-bottom: solid 1px var(--xr-border-color);\n",
       "}\n",
       "\n",
       ".xr-header > div,\n",
       ".xr-header > ul {\n",
       "  display: inline;\n",
       "  margin-top: 0;\n",
       "  margin-bottom: 0;\n",
       "}\n",
       "\n",
       ".xr-obj-type,\n",
       ".xr-array-name {\n",
       "  margin-left: 2px;\n",
       "  margin-right: 10px;\n",
       "}\n",
       "\n",
       ".xr-obj-type {\n",
       "  color: var(--xr-font-color2);\n",
       "}\n",
       "\n",
       ".xr-sections {\n",
       "  padding-left: 0 !important;\n",
       "  display: grid;\n",
       "  grid-template-columns: 150px auto auto 1fr 20px 20px;\n",
       "}\n",
       "\n",
       ".xr-section-item {\n",
       "  display: contents;\n",
       "}\n",
       "\n",
       ".xr-section-item input {\n",
       "  display: none;\n",
       "}\n",
       "\n",
       ".xr-section-item input + label {\n",
       "  color: var(--xr-disabled-color);\n",
       "}\n",
       "\n",
       ".xr-section-item input:enabled + label {\n",
       "  cursor: pointer;\n",
       "  color: var(--xr-font-color2);\n",
       "}\n",
       "\n",
       ".xr-section-item input:enabled + label:hover {\n",
       "  color: var(--xr-font-color0);\n",
       "}\n",
       "\n",
       ".xr-section-summary {\n",
       "  grid-column: 1;\n",
       "  color: var(--xr-font-color2);\n",
       "  font-weight: 500;\n",
       "}\n",
       "\n",
       ".xr-section-summary > span {\n",
       "  display: inline-block;\n",
       "  padding-left: 0.5em;\n",
       "}\n",
       "\n",
       ".xr-section-summary-in:disabled + label {\n",
       "  color: var(--xr-font-color2);\n",
       "}\n",
       "\n",
       ".xr-section-summary-in + label:before {\n",
       "  display: inline-block;\n",
       "  content: '►';\n",
       "  font-size: 11px;\n",
       "  width: 15px;\n",
       "  text-align: center;\n",
       "}\n",
       "\n",
       ".xr-section-summary-in:disabled + label:before {\n",
       "  color: var(--xr-disabled-color);\n",
       "}\n",
       "\n",
       ".xr-section-summary-in:checked + label:before {\n",
       "  content: '▼';\n",
       "}\n",
       "\n",
       ".xr-section-summary-in:checked + label > span {\n",
       "  display: none;\n",
       "}\n",
       "\n",
       ".xr-section-summary,\n",
       ".xr-section-inline-details {\n",
       "  padding-top: 4px;\n",
       "  padding-bottom: 4px;\n",
       "}\n",
       "\n",
       ".xr-section-inline-details {\n",
       "  grid-column: 2 / -1;\n",
       "}\n",
       "\n",
       ".xr-section-details {\n",
       "  display: none;\n",
       "  grid-column: 1 / -1;\n",
       "  margin-bottom: 5px;\n",
       "}\n",
       "\n",
       ".xr-section-summary-in:checked ~ .xr-section-details {\n",
       "  display: contents;\n",
       "}\n",
       "\n",
       ".xr-array-wrap {\n",
       "  grid-column: 1 / -1;\n",
       "  display: grid;\n",
       "  grid-template-columns: 20px auto;\n",
       "}\n",
       "\n",
       ".xr-array-wrap > label {\n",
       "  grid-column: 1;\n",
       "  vertical-align: top;\n",
       "}\n",
       "\n",
       ".xr-preview {\n",
       "  color: var(--xr-font-color3);\n",
       "}\n",
       "\n",
       ".xr-array-preview,\n",
       ".xr-array-data {\n",
       "  padding: 0 5px !important;\n",
       "  grid-column: 2;\n",
       "}\n",
       "\n",
       ".xr-array-data,\n",
       ".xr-array-in:checked ~ .xr-array-preview {\n",
       "  display: none;\n",
       "}\n",
       "\n",
       ".xr-array-in:checked ~ .xr-array-data,\n",
       ".xr-array-preview {\n",
       "  display: inline-block;\n",
       "}\n",
       "\n",
       ".xr-dim-list {\n",
       "  display: inline-block !important;\n",
       "  list-style: none;\n",
       "  padding: 0 !important;\n",
       "  margin: 0;\n",
       "}\n",
       "\n",
       ".xr-dim-list li {\n",
       "  display: inline-block;\n",
       "  padding: 0;\n",
       "  margin: 0;\n",
       "}\n",
       "\n",
       ".xr-dim-list:before {\n",
       "  content: '(';\n",
       "}\n",
       "\n",
       ".xr-dim-list:after {\n",
       "  content: ')';\n",
       "}\n",
       "\n",
       ".xr-dim-list li:not(:last-child):after {\n",
       "  content: ',';\n",
       "  padding-right: 5px;\n",
       "}\n",
       "\n",
       ".xr-has-index {\n",
       "  font-weight: bold;\n",
       "}\n",
       "\n",
       ".xr-var-list,\n",
       ".xr-var-item {\n",
       "  display: contents;\n",
       "}\n",
       "\n",
       ".xr-var-item > div,\n",
       ".xr-var-item label,\n",
       ".xr-var-item > .xr-var-name span {\n",
       "  background-color: var(--xr-background-color-row-even);\n",
       "  margin-bottom: 0;\n",
       "}\n",
       "\n",
       ".xr-var-item > .xr-var-name:hover span {\n",
       "  padding-right: 5px;\n",
       "}\n",
       "\n",
       ".xr-var-list > li:nth-child(odd) > div,\n",
       ".xr-var-list > li:nth-child(odd) > label,\n",
       ".xr-var-list > li:nth-child(odd) > .xr-var-name span {\n",
       "  background-color: var(--xr-background-color-row-odd);\n",
       "}\n",
       "\n",
       ".xr-var-name {\n",
       "  grid-column: 1;\n",
       "}\n",
       "\n",
       ".xr-var-dims {\n",
       "  grid-column: 2;\n",
       "}\n",
       "\n",
       ".xr-var-dtype {\n",
       "  grid-column: 3;\n",
       "  text-align: right;\n",
       "  color: var(--xr-font-color2);\n",
       "}\n",
       "\n",
       ".xr-var-preview {\n",
       "  grid-column: 4;\n",
       "}\n",
       "\n",
       ".xr-index-preview {\n",
       "  grid-column: 2 / 5;\n",
       "  color: var(--xr-font-color2);\n",
       "}\n",
       "\n",
       ".xr-var-name,\n",
       ".xr-var-dims,\n",
       ".xr-var-dtype,\n",
       ".xr-preview,\n",
       ".xr-attrs dt {\n",
       "  white-space: nowrap;\n",
       "  overflow: hidden;\n",
       "  text-overflow: ellipsis;\n",
       "  padding-right: 10px;\n",
       "}\n",
       "\n",
       ".xr-var-name:hover,\n",
       ".xr-var-dims:hover,\n",
       ".xr-var-dtype:hover,\n",
       ".xr-attrs dt:hover {\n",
       "  overflow: visible;\n",
       "  width: auto;\n",
       "  z-index: 1;\n",
       "}\n",
       "\n",
       ".xr-var-attrs,\n",
       ".xr-var-data,\n",
       ".xr-index-data {\n",
       "  display: none;\n",
       "  background-color: var(--xr-background-color) !important;\n",
       "  padding-bottom: 5px !important;\n",
       "}\n",
       "\n",
       ".xr-var-attrs-in:checked ~ .xr-var-attrs,\n",
       ".xr-var-data-in:checked ~ .xr-var-data,\n",
       ".xr-index-data-in:checked ~ .xr-index-data {\n",
       "  display: block;\n",
       "}\n",
       "\n",
       ".xr-var-data > table {\n",
       "  float: right;\n",
       "}\n",
       "\n",
       ".xr-var-name span,\n",
       ".xr-var-data,\n",
       ".xr-index-name div,\n",
       ".xr-index-data,\n",
       ".xr-attrs {\n",
       "  padding-left: 25px !important;\n",
       "}\n",
       "\n",
       ".xr-attrs,\n",
       ".xr-var-attrs,\n",
       ".xr-var-data,\n",
       ".xr-index-data {\n",
       "  grid-column: 1 / -1;\n",
       "}\n",
       "\n",
       "dl.xr-attrs {\n",
       "  padding: 0;\n",
       "  margin: 0;\n",
       "  display: grid;\n",
       "  grid-template-columns: 125px auto;\n",
       "}\n",
       "\n",
       ".xr-attrs dt,\n",
       ".xr-attrs dd {\n",
       "  padding: 0;\n",
       "  margin: 0;\n",
       "  float: left;\n",
       "  padding-right: 10px;\n",
       "  width: auto;\n",
       "}\n",
       "\n",
       ".xr-attrs dt {\n",
       "  font-weight: normal;\n",
       "  grid-column: 1;\n",
       "}\n",
       "\n",
       ".xr-attrs dt:hover span {\n",
       "  display: inline-block;\n",
       "  background: var(--xr-background-color);\n",
       "  padding-right: 10px;\n",
       "}\n",
       "\n",
       ".xr-attrs dd {\n",
       "  grid-column: 2;\n",
       "  white-space: pre-wrap;\n",
       "  word-break: break-all;\n",
       "}\n",
       "\n",
       ".xr-icon-database,\n",
       ".xr-icon-file-text2,\n",
       ".xr-no-icon {\n",
       "  display: inline-block;\n",
       "  vertical-align: middle;\n",
       "  width: 1em;\n",
       "  height: 1.5em !important;\n",
       "  stroke-width: 0;\n",
       "  stroke: currentColor;\n",
       "  fill: currentColor;\n",
       "}\n",
       "</style><pre class='xr-text-repr-fallback'>&lt;xarray.Dataset&gt; Size: 16B\n",
       "Dimensions:        ()\n",
       "Data variables:\n",
       "    contact_rate   float64 8B 1.011\n",
       "    recovery_rate  float64 8B 1.006</pre><div class='xr-wrap' style='display:none'><div class='xr-header'><div class='xr-obj-type'>xarray.Dataset</div></div><ul class='xr-sections'><li class='xr-section-item'><input id='section-f0bc01b5-1ceb-4cf2-9fca-2346a3055bbd' class='xr-section-summary-in' type='checkbox' disabled ><label for='section-f0bc01b5-1ceb-4cf2-9fca-2346a3055bbd' class='xr-section-summary'  title='Expand/collapse section'>Dimensions:</label><div class='xr-section-inline-details'></div><div class='xr-section-details'></div></li><li class='xr-section-item'><input id='section-514a21c1-8624-48da-b64a-b3f616b9cc2b' class='xr-section-summary-in' type='checkbox' disabled ><label for='section-514a21c1-8624-48da-b64a-b3f616b9cc2b' class='xr-section-summary'  title='Expand/collapse section'>Coordinates: <span>(0)</span></label><div class='xr-section-inline-details'></div><div class='xr-section-details'><ul class='xr-var-list'></ul></div></li><li class='xr-section-item'><input id='section-ecb710cc-efb7-4858-92b0-e89ed69cc71c' class='xr-section-summary-in' type='checkbox'  checked><label for='section-ecb710cc-efb7-4858-92b0-e89ed69cc71c' class='xr-section-summary' >Data variables: <span>(2)</span></label><div class='xr-section-inline-details'></div><div class='xr-section-details'><ul class='xr-var-list'><li class='xr-var-item'><div class='xr-var-name'><span>contact_rate</span></div><div class='xr-var-dims'>()</div><div class='xr-var-dtype'>float64</div><div class='xr-var-preview xr-preview'>1.011</div><input id='attrs-41065850-5beb-4beb-8e73-1e0bad5ad0dd' class='xr-var-attrs-in' type='checkbox' disabled><label for='attrs-41065850-5beb-4beb-8e73-1e0bad5ad0dd' title='Show/Hide attributes'><svg class='icon xr-icon-file-text2'><use xlink:href='#icon-file-text2'></use></svg></label><input id='data-b6432b0b-319e-4e42-bfba-d9030f7f12cb' class='xr-var-data-in' type='checkbox'><label for='data-b6432b0b-319e-4e42-bfba-d9030f7f12cb' title='Show/Hide data repr'><svg class='icon xr-icon-database'><use xlink:href='#icon-database'></use></svg></label><div class='xr-var-attrs'><dl class='xr-attrs'></dl></div><div class='xr-var-data'><pre>array(1.01083769)</pre></div></li><li class='xr-var-item'><div class='xr-var-name'><span>recovery_rate</span></div><div class='xr-var-dims'>()</div><div class='xr-var-dtype'>float64</div><div class='xr-var-preview xr-preview'>1.006</div><input id='attrs-f161a80a-3a4c-4ad3-b995-b7832d229fad' class='xr-var-attrs-in' type='checkbox' disabled><label for='attrs-f161a80a-3a4c-4ad3-b995-b7832d229fad' title='Show/Hide attributes'><svg class='icon xr-icon-file-text2'><use xlink:href='#icon-file-text2'></use></svg></label><input id='data-fe1a0991-fd82-4f60-b501-8e850228f90e' class='xr-var-data-in' type='checkbox'><label for='data-fe1a0991-fd82-4f60-b501-8e850228f90e' title='Show/Hide data repr'><svg class='icon xr-icon-database'><use xlink:href='#icon-database'></use></svg></label><div class='xr-var-attrs'><dl class='xr-attrs'></dl></div><div class='xr-var-data'><pre>array(1.00617808)</pre></div></li></ul></div></li><li class='xr-section-item'><input id='section-1a723e58-9dc3-40ce-8148-18d503bad625' class='xr-section-summary-in' type='checkbox' disabled ><label for='section-1a723e58-9dc3-40ce-8148-18d503bad625' class='xr-section-summary'  title='Expand/collapse section'>Indexes: <span>(0)</span></label><div class='xr-section-inline-details'></div><div class='xr-section-details'><ul class='xr-var-list'></ul></div></li><li class='xr-section-item'><input id='section-1d0b7d84-29f1-45f6-9efc-c2bf219a2bdc' class='xr-section-summary-in' type='checkbox' disabled ><label for='section-1d0b7d84-29f1-45f6-9efc-c2bf219a2bdc' class='xr-section-summary'  title='Expand/collapse section'>Attributes: <span>(0)</span></label><div class='xr-section-inline-details'></div><div class='xr-section-details'><dl class='xr-attrs'></dl></div></li></ul></div></div>"
      ],
      "text/plain": [
       "<xarray.Dataset> Size: 16B\n",
       "Dimensions:        ()\n",
       "Data variables:\n",
       "    contact_rate   float64 8B 1.011\n",
       "    recovery_rate  float64 8B 1.006"
      ]
     },
     "execution_count": 76,
     "metadata": {},
     "output_type": "execute_result"
    }
   ],
   "source": [
    "az.rhat(idata_smc)"
   ]
  },
  {
   "cell_type": "code",
   "execution_count": 77,
   "metadata": {},
   "outputs": [
    {
     "data": {
      "text/plain": [
       "array([[<AxesSubplot: title={'center': 'contact_rate'}>,\n",
       "        <AxesSubplot: title={'center': 'contact_rate'}>],\n",
       "       [<AxesSubplot: title={'center': 'recovery_rate'}>,\n",
       "        <AxesSubplot: title={'center': 'recovery_rate'}>]], dtype=object)"
      ]
     },
     "execution_count": 77,
     "metadata": {},
     "output_type": "execute_result"
    },
    {
     "data": {
      "image/png": "[encoded data removed]",
      "text/plain": [
       "<Figure size 1200x400 with 4 Axes>"
      ]
     },
     "metadata": {},
     "output_type": "display_data"
    }
   ],
   "source": [
    "az.plot_trace(idata_smc)"
   ]
  },
  {
   "cell_type": "code",
   "execution_count": null,
   "metadata": {},
   "outputs": [],
   "source": [
    "#Storing the results for later analysis\n",
    "\n",
    "with open('./Results/Model_1/Multi_run_results_2.pkl', 'wb') as fp:\n",
    "    pickle.dump(all_results, fp)\n"
   ]
  },
  {
   "cell_type": "code",
   "execution_count": null,
   "metadata": {},
   "outputs": [],
   "source": [
    "len(results[results[\"Rhat_max\"] > 1.1])"
   ]
  },
  {
   "cell_type": "markdown",
   "metadata": {},
   "source": [
    "## Using arviz for trace visualization"
   ]
  },
  {
   "cell_type": "code",
   "execution_count": null,
   "metadata": {},
   "outputs": [],
   "source": [
    "for idata, Run, draws, tune in zip(res.Trace, res.Run, res.Draws, res.Tune):\n",
    "    subset = idata.sel(draw=slice(0, None), groups=\"posterior\")\n",
    "    print(\"Run = \",Run)\n",
    "    az.plot_trace(subset, figsize=(16,3.2*len(subset.posterior)),compact=False)#, lines=[(\"m\", {}, mtrue), (\"c\", {}, ctrue)]);\n",
    "    plt.show()\n",
    "\n"
   ]
  },
  {
   "cell_type": "code",
   "execution_count": null,
   "metadata": {},
   "outputs": [],
   "source": [
    "#idata[\"sample_stats\"]"
   ]
  },
  {
   "cell_type": "code",
   "execution_count": null,
   "metadata": {},
   "outputs": [],
   "source": [
    "from estival.sampling.tools import likelihood_extras_for_idata\n",
    "from estival.sampling import tools as esamptools"
   ]
  },
  {
   "cell_type": "markdown",
   "metadata": {},
   "source": [
    "## Computing the likelihood function for each sampler"
   ]
  },
  {
   "cell_type": "code",
   "execution_count": null,
   "metadata": {},
   "outputs": [],
   "source": [
    "from estival.model.base import ResultsData"
   ]
  },
  {
   "cell_type": "code",
   "execution_count": null,
   "metadata": {},
   "outputs": [],
   "source": [
    "map_res : List[ResultsData]\n",
    "targets_datas = pd.DataFrame(targets_data)\n",
    "\n",
    "targets_datas.values"
   ]
  },
  {
   "cell_type": "code",
   "execution_count": null,
   "metadata": {},
   "outputs": [],
   "source": [
    "#i=0 \n",
    "#pd.options.plotting.backend = \"matplotlib\"\n",
    "#map_res = np.zeros(8, dtype=ResultsData) #To specify the type of the elements in the list, default is tuple\n",
    "map_res : List[ResultsData]\n",
    "map_params = []\n",
    "for idata, sampler ,run in zip(results_df.Trace, results_df.Sampler, results_df.Run):\n",
    "    if (sampler == \"metropolis\"): #Because pm.metropolis is not compatible directly with the likelihood function from est.samp.tools\n",
    "        # print(sampler)\n",
    "       likelihood_df = esamptools.likelihood_extras_for_samples(idata.posterior, bcm_model_1)\n",
    "\n",
    "    else :\n",
    "        likelihood_df = likelihood_extras_for_idata(idata, bcm_model_1)\n",
    "    ldf_sorted = likelihood_df.sort_values(by=\"logposterior\",ascending=False)\n",
    "    map_parameter = idata.posterior.to_dataframe().loc[ldf_sorted.index[0]].to_dict()\n",
    "    print(idata.posterior.to_dataframe().loc[ldf_sorted.index[0]])\n",
    "\n",
    "    map_params.append(map_parameter)\n",
    "    map_res.append(bcm_model_1.run(map_parameter))\n",
    "    # res = bcm_model_1.run(map_parameter)\n",
    "    # output = res.derived_outputs[\"active_cases\"]\n",
    "\n",
    "    # ax = pd.DataFrame(\n",
    "    #     {\n",
    "    #         f\"{run}\": output,\n",
    "    #         \"Observed\" : targets_datas,\n",
    "    #     }\n",
    "    # ).plot(kind=\"scatter\", x=targets_datas.index, y=targets_datas.values, labels=output_labels)\n",
    "    # plt.show()\n",
    "    #map_res[i] = bcm_model_1.run(map_parameter)\n",
    "    #i+=1\n",
    "        \n",
    "\n"
   ]
  },
  {
   "cell_type": "code",
   "execution_count": null,
   "metadata": {},
   "outputs": [],
   "source": [
    "for res in zip (map_res):\n",
    "    res\n",
    "\n",
    "res[0].derived_outputs[\"active_cases\"]"
   ]
  },
  {
   "cell_type": "code",
   "execution_count": null,
   "metadata": {},
   "outputs": [],
   "source": [
    "dfs = []\n",
    "\n",
    "for sampler, res, draws in zip(results_df.Sampler, map_res, results_df.Draws):\n",
    "    res = res[0]\n",
    "    ax = pd.DataFrame(\n",
    "        {\n",
    "            f\"{sampler}, draws = {draws}\": res.derived_outputs[\"active_cases\"],\n",
    "            \"Observed\" : targets_data,\n",
    "        }\n",
    "    ).plot(kind=\"scatter\", labels=output_labels)\n",
    "   \n",
    "    \n",
    "    plt.show()\n",
    "\n",
    "#    comb_df = pd.concat(dfs, axis=1)\n",
    "\n",
    "#    comb_df.plot(kind=\"scatter\", labels=output_labels)\n",
    "# comb_df"
   ]
  },
  {
   "cell_type": "code",
   "execution_count": null,
   "metadata": {},
   "outputs": [],
   "source": [
    "# model_1.run(map_params)\n",
    "\"\"\"\n",
    "pd.DataFrame(\n",
    "    {\n",
    "        \"DEMetropolisZ\": map_res[0].derived_outputs[\"active_cases\"],\n",
    "        \"DEMetropolis\": map_res[1].derived_outputs[\"active_cases\"],\n",
    "        \"Metropolis\": map_res[2].derived_outputs[\"active_cases\"],\n",
    "        f\"Metropolis, draws\": map_res[3].derived_outputs[\"active_cases\"],\n",
    "\n",
    "\n",
    "        \"observed\": targets_data,\n",
    "    }\n",
    ").plot(kind=\"scatter\", labels=output_labels)\n",
    "\"\"\"\n"
   ]
  },
  {
   "cell_type": "markdown",
   "metadata": {},
   "source": [
    "## Uncertainty sampling"
   ]
  },
  {
   "cell_type": "code",
   "execution_count": null,
   "metadata": {},
   "outputs": [],
   "source": [
    "# Use the arviz extract method to obtain some samples, then convert to a DataFrame\n",
    "sample_idata = az.extract(idata, num_samples=4000)\n",
    "samples_df = sample_idata.to_dataframe().drop(columns=[\"chain\",\"draw\"])\n"
   ]
  },
  {
   "cell_type": "code",
   "execution_count": null,
   "metadata": {},
   "outputs": [],
   "source": [
    "# Wrapper function captures our bcm from the main namespace to pass into map_parallel\n",
    "# Using this idiom in closures/factory functions is typical\n",
    "def run_sample(idx_sample):\n",
    "    idx, params = idx_sample\n",
    "    return idx, bcm_model_1.run(params)\n",
    "\n",
    "# Run the samples through our BCM using the above function\n",
    "# map_parallel takes a function and an iterable as input\n",
    "\n",
    "# We use 4 workers here, default is cpu_count/2 (assumes hyperthreading)\n",
    "sample_res = map_parallel(run_sample, samples_df.iterrows(), n_workers=4)\n"
   ]
  },
  {
   "cell_type": "code",
   "execution_count": null,
   "metadata": {},
   "outputs": [],
   "source": [
    "sample_res"
   ]
  },
  {
   "cell_type": "code",
   "execution_count": null,
   "metadata": {},
   "outputs": [],
   "source": [
    "# We'll use xarray for this step; aside from computing things very quickly, it's useful\n",
    "# to persist the run results to netcdf/zarr etc\n",
    "\n",
    "import xarray as xr"
   ]
  },
  {
   "cell_type": "code",
   "execution_count": null,
   "metadata": {},
   "outputs": [],
   "source": [
    "# Build a DataArray out of our results, then assign coords for indexing\n",
    "xres = xr.DataArray(np.stack([r.derived_outputs for idx, r in sample_res]), \n",
    "                    dims=[\"sample\",\"time\",\"variable\"])\n",
    "xres = xres.assign_coords(sample=sample_idata.coords[\"sample\"], \n",
    "                          time=map_res[-1].derived_outputs.index, variable=map_res[-1].derived_outputs.columns)"
   ]
  },
  {
   "cell_type": "code",
   "execution_count": null,
   "metadata": {},
   "outputs": [],
   "source": [
    "# Set some quantiles to calculate\n",
    "quantiles = (0.25,0.5,0.75,0.80,0.95)\n",
    "\n",
    "# Generate a new DataArray containing the quantiles\n",
    "xquantiles = xres.quantile(quantiles,dim=[\"sample\"])"
   ]
  },
  {
   "cell_type": "code",
   "execution_count": null,
   "metadata": {},
   "outputs": [],
   "source": [
    "# Extract these values to a pandas DataFrame for ease of plotting\n",
    "\n",
    "uncertainty_df = xquantiles.to_dataframe(name=\"value\").reset_index().set_index(\"time\").pivot(columns=(\"variable\",\"quantile\"))[\"value\"]"
   ]
  },
  {
   "cell_type": "code",
   "execution_count": null,
   "metadata": {},
   "outputs": [],
   "source": [
    "variable = \"active_cases\"\n",
    "\n",
    "fig = uncertainty_df[variable].plot(title=variable,alpha=0.7)\n",
    "pd.Series(map_res[-1].derived_outputs[variable]).plot(style='--')\n",
    "bcm_model_1.targets[variable].data.plot(style='.',color=\"black\", ms=5, alpha=0.8)"
   ]
  },
  {
   "cell_type": "markdown",
   "metadata": {},
   "source": [
    "## Analysing the posterior likelihood landscape analysis using ELA"
   ]
  },
  {
   "cell_type": "code",
   "execution_count": null,
   "metadata": {},
   "outputs": [],
   "source": [
    "# !pip install pflacco\n",
    "from pflacco.classical_ela_features import *\n",
    "from pflacco.local_optima_network_features import compute_local_optima_network, calculate_lon_features\n",
    "#__To___create_a_initial____sample\n",
    "from pflacco.sampling import create_initial_sample"
   ]
  },
  {
   "cell_type": "markdown",
   "metadata": {},
   "source": [
    "# Application 2: The SEIR age-stratified model"
   ]
  },
  {
   "cell_type": "markdown",
   "metadata": {},
   "source": [
    "## Data for fitting\n"
   ]
  },
  {
   "cell_type": "code",
   "execution_count": null,
   "metadata": {},
   "outputs": [],
   "source": [
    "pd.options.plotting.backend = \"plotly\" #To allow plotly graphic. Swich to \"matplotlib\" if facing some troubles while ploting\n",
    "\n",
    "df = pd.read_csv(\"./data/44000_incidence.csv\")\n",
    "# Convert date column to datetime\n",
    "df['date'] = pd.to_datetime(df['date'].str.split(' - ').str[0])\n",
    "df.index=df.date\n",
    "targets_data = df.drop(columns='date')\n",
    "#pivot_df = df.pivot(index='date', columns='incidence', values='incidence')\n",
    "#pivot_df[\"total_cases\"]=pivot_df.sum(1)\n",
    "\n"
   ]
  },
  {
   "cell_type": "code",
   "execution_count": null,
   "metadata": {},
   "outputs": [],
   "source": [
    "#Truncate the data after 01/Febrary to only select Wuhan incident cases\n",
    "targets_data_trunc = targets_data.loc[:'2020-01-31']"
   ]
  },
  {
   "cell_type": "code",
   "execution_count": null,
   "metadata": {},
   "outputs": [],
   "source": [
    "parameters = {\n",
    "    'incubation_period': 5.0,\n",
    "    'infectious_period': 6.1,\n",
    "    'age_transmission_rate_0': 0.3,\n",
    "    'age_transmission_rate_15': 0.4,\n",
    "    'age_transmission_rate_45': 0.8,\n",
    "    'age_transmission_rate_65': 0.75\n",
    "\n",
    "}"
   ]
  },
  {
   "cell_type": "code",
   "execution_count": null,
   "metadata": {},
   "outputs": [],
   "source": [
    "#Names of parameters and their ranges\n",
    "import estival.targets as est\n",
    "import estival.priors as esp\n",
    "\n",
    "params_range = [(0.0,1.0), (0.0,1.0),(0.0,1.0),(0.0,1.0) ]\n",
    "params = {param: param_range for param,param_range in zip(parameters.keys(), params_range)}\n",
    "priors = []\n",
    "    \n",
    "targets = [est.NormalTarget(\"incidence\", targets_data_trunc['incidence'],\n",
    "        esp.UniformPrior(\"incidence_dispersion\",(0.1, targets_data_trunc[\"incidence\"].max()*0.1)))] #Calibration de l'ecart type\n",
    "       # 2000.0)] #Utiliser un nombre fixe pour ne pas l'inclure dans la calibration\n",
    "normal_priors = [ \n",
    "       esp.TruncNormalPrior(\"incubation_period\",5.4, 3.0, (1,15)),\n",
    "       esp.TruncNormalPrior(\"infectious_period\",7.3, 2.0, (1,15)),\n",
    "      ]\n",
    "uniform_priors = [\n",
    "    esp.UniformPrior(transm_rates, (0.0,1.0)) for transm_rates in [\"age_transmission_rate_0\",\"age_transmission_rate_15\",\"age_transmission_rate_45\",\"age_transmission_rate_65\"] \n",
    "]\n",
    "priors = normal_priors + uniform_priors"
   ]
  },
  {
   "cell_type": "markdown",
   "metadata": {},
   "source": [
    "## Model Definition\n"
   ]
  },
  {
   "cell_type": "code",
   "execution_count": null,
   "metadata": {},
   "outputs": [],
   "source": [
    "model_2 = model2()"
   ]
  },
  {
   "cell_type": "markdown",
   "metadata": {},
   "source": [
    "## Trial run"
   ]
  },
  {
   "cell_type": "code",
   "execution_count": null,
   "metadata": {},
   "outputs": [],
   "source": [
    "model_2.run(parameters)\n",
    "\n",
    "plot_start_date = datetime(2019, 12, 1)\n",
    "analysis_end_date = datetime(2020, 3, 11)\n",
    "\n",
    "plot = model_2.get_outputs_df().plot()\n",
    "plot.update_xaxes(range=(plot_start_date, analysis_end_date))\n",
    "plot.add_trace(go.Scatter(x=targets_data.index, y=targets_data_trunc[\"incidence\"], mode='markers', name='data'))\n",
    "#pd.options.plotting.backend = \"plotly\" #To allow plotly graphic. Swich to \"matplotlib\" if facing some troubles while ploting\n",
    "#pivot_df[\"total_cases\"].plot.area()"
   ]
  },
  {
   "cell_type": "markdown",
   "metadata": {},
   "source": [
    "## Calibration"
   ]
  },
  {
   "cell_type": "code",
   "execution_count": null,
   "metadata": {},
   "outputs": [],
   "source": [
    "#Defining  a Bayesian Compartmental Model\n",
    "\n",
    "bcm_model_2 = BayesianCompartmentalModel(model_2, parameters, priors, targets)\n",
    "T = bcm_model_2.targets['incidence']\n",
    "T.stdev"
   ]
  },
  {
   "cell_type": "code",
   "execution_count": null,
   "metadata": {},
   "outputs": [],
   "source": [
    "##____Uniform Initialisation for each chain_________\n",
    "chains = 8\n",
    "init_vals = []\n",
    "for c in range(chains):\n",
    "    init_vals.append({param: np.random.uniform(0.0,1.0) for param in parameters.keys()})"
   ]
  },
  {
   "cell_type": "code",
   "execution_count": null,
   "metadata": {},
   "outputs": [],
   "source": [
    "init_vals\n",
    "pm.sample_smc"
   ]
  },
  {
   "cell_type": "code",
   "execution_count": null,
   "metadata": {},
   "outputs": [],
   "source": [
    "res = cal.multirun(sampler = pm.DEMetropolisZ, \n",
    "            draws = 8000,\n",
    "            tune = 1000,\n",
    "            chains = 8,\n",
    "            cores=chains,\n",
    "            bcm_model = bcm_model_2,\n",
    "            n_iterations = 1,\n",
    "            n_jobs = 1,\n",
    "            initial_params = None)"
   ]
  },
  {
   "cell_type": "code",
   "execution_count": null,
   "metadata": {},
   "outputs": [],
   "source": [
    "idata = res[\"Trace\"]\n",
    "idata = idata[0]\n",
    "az.rhat(idata)"
   ]
  },
  {
   "cell_type": "code",
   "execution_count": null,
   "metadata": {},
   "outputs": [],
   "source": [
    "az.plot_trace(idata, figsize=(12,2.5*len(idata.posterior)),compact=False, legend=True)\n",
    "plt.tight_layout(pad = 0.005)\n"
   ]
  },
  {
   "cell_type": "code",
   "execution_count": null,
   "metadata": {},
   "outputs": [],
   "source": [
    "az.plot_posterior(idata)"
   ]
  },
  {
   "cell_type": "code",
   "execution_count": null,
   "metadata": {},
   "outputs": [],
   "source": [
    "def fitting_test(idata, bcm):\n",
    "    likelihood_df = likelihood_extras_for_samples(idata.posterior, bcm)\n",
    "    # likelihood_df = likelihood_extras_for_idata(idata, bcm)\n",
    "    ldf_sorted = likelihood_df.sort_values(by=\"logposterior\",ascending=False)\n",
    "\n",
    "    # Extract the parameters from the calibration samples\n",
    "    map_params = idata.posterior.to_dataframe().loc[ldf_sorted.index[0]].to_dict()\n",
    "    bcm.loglikelihood(**map_params), ldf_sorted.iloc[0][\"loglikelihood\"]\n",
    "    # Run the model with these parameters\n",
    "    map_res = bcm.run(map_params)\n",
    "    # ...and plot some results\n",
    "    \n",
    "    return map_res"
   ]
  },
  {
   "cell_type": "code",
   "execution_count": null,
   "metadata": {},
   "outputs": [],
   "source": [
    "map_res = fitting_test(idata, bcm_model_2)"
   ]
  },
  {
   "cell_type": "code",
   "execution_count": null,
   "metadata": {},
   "outputs": [],
   "source": [
    "plot_start_date = datetime(2019, 12, 1)\n",
    "analysis_end_date = datetime(2020, 3, 11)\n",
    "\n",
    "plot = pd.DataFrame(map_res.derived_outputs[\"incidence\"]).plot()\n",
    "plot.update_xaxes(range=(plot_start_date, analysis_end_date))\n",
    "plot.add_trace(go.Scatter(x=targets_data.index, y=targets_data_trunc[\"incidence\"], mode='markers', name='data'))"
   ]
  },
  {
   "cell_type": "code",
   "execution_count": null,
   "metadata": {},
   "outputs": [],
   "source": [
    "variable = \"incidence\"\n",
    "\n",
    "pd.options.plotting.backend = \"plotly\"\n",
    "pd.DataFrame(map_res.derived_outputs[\"incidence\"]).plot(title = f\"{variable} (MLE)\")\n",
    "pd.DataFrame(bcm_model_2.targets[variable].data).plot(style='.')"
   ]
  }
 ],
 "metadata": {
  "kernelspec": {
   "display_name": "emulearn",
   "language": "python",
   "name": "python3"
  },
  "language_info": {
   "codemirror_mode": {
    "name": "ipython",
    "version": 3
   },
   "file_extension": ".py",
   "mimetype": "text/x-python",
   "name": "python",
   "nbconvert_exporter": "python",
   "pygments_lexer": "ipython3",
   "version": "3.10.14"
  }
 },
 "nbformat": 4,
 "nbformat_minor": 2
}
