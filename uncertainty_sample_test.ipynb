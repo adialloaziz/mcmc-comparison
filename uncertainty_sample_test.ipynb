{
 "cells": [
  {
   "cell_type": "code",
   "execution_count": null,
   "metadata": {},
   "outputs": [],
   "source": [
    "import multiprocess as mp\n",
    "import platform\n",
    "\n",
    "import Calibrate as cal #Runing the calibration process and gathering results\n",
    "from calibs_utilities import get_all_priors, get_targets, load_data\n",
    "from models.models import model1, model2 #All the models we design for the test\n",
    "from Calibrate import plot_comparison_bars\n",
    "\n",
    "# Combining tagets and prior with our summer2 model in a BayesianCompartmentalModel (bcm_model_1)\n",
    "from estival.model import BayesianCompartmentalModel\n",
    "\n",
    "\n",
    "import pandas as pd\n",
    "import numpy as np\n",
    "# import plotly.express as px\n",
    "import matplotlib.pyplot as plt\n",
    "from typing import List\n",
    "\n",
    "import pymc as pm\n",
    "\n",
    "# We use estivals parallel tools to run the model evaluations\n",
    "from estival.utils.parallel import map_parallel\n",
    "\n",
    "# import numpyro\n",
    "# from numpyro import distributions as dist\n",
    "from numpyro import infer\n",
    "import arviz as az\n",
    "import pickle\n",
    "from datetime import datetime\n",
    "from plotly import graph_objects as go\n",
    "# import jax\n",
    "from jax import numpy as jnp\n",
    "pd.options.plotting.backend = \"plotly\" #To allow plotly graphic. Swich to \"matplotlib\" if facing some troubles while ploting\n",
    "\n",
    "\n",
    "if platform.system() != \"Windows\":\n",
    "    \n",
    "    mp.set_start_method('forkserver')"
   ]
  },
  {
   "cell_type": "markdown",
   "metadata": {},
   "source": [
    "## Target data"
   ]
  },
  {
   "cell_type": "code",
   "execution_count": null,
   "metadata": {},
   "outputs": [],
   "source": [
    "targets_yml = './data/target_yml.yml'\n",
    "targets = load_data(targets_yml)\n",
    "targets_data = targets['active_cases']\n",
    "\n",
    "params = {\n",
    "    \"contact_rate\": (0.0,1.0),\n",
    "    \"recovery_rate\": (0.0,1.0)\n",
    "\n",
    "}\n",
    "targets = get_targets(targets_yml)\n",
    "priors = get_all_priors(params)"
   ]
  },
  {
   "cell_type": "markdown",
   "metadata": {},
   "source": [
    "## Model definition"
   ]
  },
  {
   "cell_type": "code",
   "execution_count": null,
   "metadata": {},
   "outputs": [],
   "source": [
    "model_1 = model1() "
   ]
  },
  {
   "cell_type": "code",
   "execution_count": null,
   "metadata": {},
   "outputs": [],
   "source": [
    "parameters = {\n",
    "    \"contact_rate\": 0.2,\n",
    "    \"recovery_rate\": 0.1,\n",
    "    #\"active_cases_dispersion\": 0.5,\n",
    "}\n",
    "\n",
    "model_1.run(parameters)"
   ]
  },
  {
   "cell_type": "code",
   "execution_count": null,
   "metadata": {},
   "outputs": [],
   "source": [
    "df = pd.DataFrame(\n",
    "    {\n",
    "        \"modelled\": model_1.get_outputs_df()[\"I\"],\n",
    "        \"observed\": targets_data,\n",
    "    }\n",
    ")\n",
    "df.plot(kind=\"scatter\")#, labels=output_labels)"
   ]
  },
  {
   "cell_type": "code",
   "execution_count": null,
   "metadata": {},
   "outputs": [],
   "source": [
    "bcm_model_1 = BayesianCompartmentalModel(model_1, parameters, priors, targets)\n"
   ]
  },
  {
   "cell_type": "code",
   "execution_count": null,
   "metadata": {},
   "outputs": [],
   "source": [
    "## Explicite initialisation\n",
    "init_vals_nuts = {param: jnp.array(np.random.uniform(0.0,1.0, 4)) for param in parameters.keys()}\n",
    "\n",
    "init_vals = []\n",
    "for c in range(4):\n",
    "    init_vals.append({param: np.random.uniform(0.0,1.0) for param in parameters.keys()})\n"
   ]
  },
  {
   "cell_type": "code",
   "execution_count": null,
   "metadata": {},
   "outputs": [],
   "source": [
    "res = cal.Single_analysis(sampler = pm.DEMetropolisZ, \n",
    "            draws = 2000,\n",
    "            tune = 1000,\n",
    "            bcm_model = bcm_model_1,\n",
    "            chains = 4,\n",
    "            cores = 4,\n",
    ")"
   ]
  },
  {
   "cell_type": "markdown",
   "metadata": {},
   "source": [
    "## Computing likelihood from the trace "
   ]
  },
  {
   "cell_type": "code",
   "execution_count": null,
   "metadata": {},
   "outputs": [],
   "source": [
    "from estival.sampling.tools import likelihood_extras_for_idata\n",
    "from estival.sampling import tools as esamptools\n",
    "\n",
    "idata = res[\"Trace\"]\n"
   ]
  },
  {
   "cell_type": "code",
   "execution_count": null,
   "metadata": {},
   "outputs": [],
   "source": [
    "res"
   ]
  },
  {
   "cell_type": "code",
   "execution_count": null,
   "metadata": {},
   "outputs": [],
   "source": [
    "idata = idata[0]"
   ]
  },
  {
   "cell_type": "code",
   "execution_count": null,
   "metadata": {},
   "outputs": [],
   "source": [
    "likelihood_df = esamptools.likelihood_extras_for_samples(idata.posterior, bcm_model_1)\n"
   ]
  },
  {
   "cell_type": "markdown",
   "metadata": {},
   "source": [
    "### Or"
   ]
  },
  {
   "cell_type": "code",
   "execution_count": null,
   "metadata": {},
   "outputs": [],
   "source": [
    "likelihood_df = likelihood_extras_for_idata(idata, bcm_model_1)\n"
   ]
  },
  {
   "cell_type": "code",
   "execution_count": null,
   "metadata": {},
   "outputs": [],
   "source": [
    "sample_idata = az.extract(idata, num_samples=4000)\n",
    "samples_df = sample_idata.to_dataframe().drop(columns=[\"chain\",\"draw\"])\n"
   ]
  },
  {
   "cell_type": "code",
   "execution_count": null,
   "metadata": {},
   "outputs": [],
   "source": [
    "# Wrapper function captures our bcm from the main namespace to pass into map_parallel\n",
    "# Using this idiom in closures/factory functions is typical\n",
    "def run_sample(idx_sample):\n",
    "    idx, params = idx_sample\n",
    "    return idx, bcm_model_1.run(params)\n",
    "\n",
    "# Run the samples through our BCM using the above function\n",
    "# map_parallel takes a function and an iterable as input\n",
    "\n",
    "# We use 4 workers here, default is cpu_count/2 (assumes hyperthreading)\n",
    "sample_res = map_parallel(run_sample, samples_df.iterrows(), n_workers=4)\n"
   ]
  },
  {
   "cell_type": "code",
   "execution_count": null,
   "metadata": {},
   "outputs": [],
   "source": [
    "ldf_sorted = likelihood_df.sort_values(by=\"logposterior\",ascending=False)\n",
    "map_parameter = idata.posterior.to_dataframe().loc[ldf_sorted.index[0]].to_dict()"
   ]
  },
  {
   "cell_type": "code",
   "execution_count": null,
   "metadata": {},
   "outputs": [],
   "source": [
    "map_res = bcm_model_1.run(map_parameter)\n"
   ]
  },
  {
   "cell_type": "code",
   "execution_count": null,
   "metadata": {},
   "outputs": [],
   "source": [
    "import xarray as xr\n",
    "# Build a DataArray out of our results, then assign coords for indexing\n",
    "xres = xr.DataArray(np.stack([r.derived_outputs for idx, r in sample_res]), \n",
    "                    dims=[\"sample\",\"time\",\"variable\"])\n",
    "xres = xres.assign_coords(sample=sample_idata.coords[\"sample\"], \n",
    "                          time=map_res.derived_outputs.index, variable=map_res.derived_outputs.columns)"
   ]
  },
  {
   "cell_type": "code",
   "execution_count": null,
   "metadata": {},
   "outputs": [],
   "source": [
    "# Set some quantiles to calculate\n",
    "quantiles = (0.25,0.5,0.75,0.95)\n",
    "\n",
    "# Generate a new DataArray containing the quantiles\n",
    "xquantiles = xres.quantile(quantiles,dim=[\"sample\"])"
   ]
  },
  {
   "cell_type": "code",
   "execution_count": null,
   "metadata": {},
   "outputs": [],
   "source": [
    "# Extract these values to a pandas DataFrame for ease of plotting\n",
    "\n",
    "uncertainty_df = xquantiles.to_dataframe(name=\"value\").reset_index().set_index(\"time\").pivot(columns=(\"variable\",\"quantile\"))[\"value\"]"
   ]
  },
  {
   "cell_type": "code",
   "execution_count": null,
   "metadata": {},
   "outputs": [],
   "source": [
    "variable = \"active_cases\"\n",
    "pd.options.plotting.backend = \"matplotlib\" #To allow plotly graphic. Swich to \"matplotlib\" if facing some troubles while ploting\n",
    "\n",
    "fig = uncertainty_df[variable].plot.area(title=variable,alpha=0.7)\n",
    "pd.Series(map_res.derived_outputs[variable]).plot(label = \"modelled\",style='--')\n",
    "bcm_model_1.targets[variable].data.plot(label = \"observed\",style='.',color=\"black\", ms=5, alpha=0.5)\n",
    "plt.legend()"
   ]
  },
  {
   "cell_type": "code",
   "execution_count": null,
   "metadata": {},
   "outputs": [],
   "source": []
  }
 ],
 "metadata": {
  "kernelspec": {
   "display_name": "emulearn",
   "language": "python",
   "name": "python3"
  },
  "language_info": {
   "codemirror_mode": {
    "name": "ipython",
    "version": 3
   },
   "file_extension": ".py",
   "mimetype": "text/x-python",
   "name": "python",
   "nbconvert_exporter": "python",
   "pygments_lexer": "ipython3",
   "version": "3.10.14"
  }
 },
 "nbformat": 4,
 "nbformat_minor": 2
}
