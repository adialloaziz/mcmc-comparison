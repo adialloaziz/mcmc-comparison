{
 "cells": [
  {
   "cell_type": "markdown",
   "metadata": {},
   "source": [
    "# MCMC CALIBRATION TECHNICS FOR DETERMINISTIC ODE-BASED INFECTIOUS DISEASE MODELS"
   ]
  },
  {
   "cell_type": "markdown",
   "metadata": {},
   "source": [
    "# Application 2: The SEIR age-stratified model"
   ]
  },
  {
   "cell_type": "markdown",
   "metadata": {},
   "source": [
    "## Prerequies"
   ]
  },
  {
   "cell_type": "code",
   "execution_count": null,
   "metadata": {},
   "outputs": [],
   "source": [
    "import multiprocess as mp\n",
    "import platform\n",
    "if platform.system() != \"Windows\":\n",
    "    \n",
    "    mp.set_start_method('forkserver')\n"
   ]
  },
  {
   "cell_type": "code",
   "execution_count": null,
   "metadata": {},
   "outputs": [],
   "source": [
    "import Calibrate as cal #Runing the calibration process and gathering results\n",
    "from calibs_utilities import get_all_priors, get_targets, load_data\n",
    "from models.models import model1, model2, bcm_seir_age_strat, bcm_sir #All the models we design for the test\n",
    "from Calibrate import plot_comparison_bars\n",
    "\n",
    "# Combining tagets and prior with our summer2 model in a BayesianCompartmentalModel (bcm_model_1)\n",
    "from estival.model import BayesianCompartmentalModel\n",
    "from estival.sampling.tools import likelihood_extras_for_idata\n",
    "from estival.sampling.tools import likelihood_extras_for_samples\n",
    "\n",
    "\n",
    "import pandas as pd\n",
    "import numpy as np\n",
    "# import plotly.express as px\n",
    "import matplotlib.pyplot as plt\n",
    "from typing import List\n",
    "\n",
    "import pymc as pm\n",
    "\n",
    "# We use estivals parallel tools to run the model evaluations\n",
    "from estival.utils.parallel import map_parallel\n",
    "\n",
    "import numpyro\n",
    "from numpyro import distributions as dist\n",
    "from numpyro import infer\n",
    "import arviz as az\n",
    "import pickle\n",
    "from datetime import datetime\n",
    "from plotly import graph_objects as go\n",
    "# import jax\n",
    "from jax import numpy as jnp\n",
    "pd.options.plotting.backend = \"plotly\" #To allow plotly graphic. Swich to \"matplotlib\" if facing some troubles while ploting\n",
    "# pd.options.plotting.backend = \"matplotlib\"\n",
    "import pytensor"
   ]
  },
  {
   "cell_type": "markdown",
   "metadata": {},
   "source": [
    "## Data for fitting\n",
    "Here we will define a target for each age category"
   ]
  },
  {
   "cell_type": "code",
   "execution_count": null,
   "metadata": {},
   "outputs": [],
   "source": [
    "pd.options.plotting.backend = \"plotly\" #To allow plotly graphic. Swich to \"matplotlib\" if facing some troubles while ploting\n",
    "\n",
    "df = pd.DataFrame()\n",
    "df = pd.read_csv(\"./data/new_cases_England_2020.csv\")\n",
    "df[\"date\"] = pd.to_datetime(df.date)\n",
    "Tot = df.copy()\n",
    "Tot.set_index([\"date\"], inplace=True)\n",
    "df.set_index([\"age\",\"date\"], inplace=True)\n"
   ]
  },
  {
   "cell_type": "code",
   "execution_count": null,
   "metadata": {},
   "outputs": [],
   "source": [
    "Tot = Tot[\"Aug 2020\":\"Nov 2020\"].groupby(\"age\").sum()\n",
    "Tot.plot(kind='bar')"
   ]
  },
  {
   "cell_type": "code",
   "execution_count": null,
   "metadata": {},
   "outputs": [],
   "source": [
    "#If you want to plat the curve for one specific age groupe. Here the group 60 and above.\n",
    "#We apply a fortnightly rolling to the data to discard fluctuations. We only plot cases by week.\n",
    "\n",
    "df.loc[\"60+\"][\"Aug 2020\":\"6 Dec 2020\"].rolling(14).mean().iloc[14:][\"cases\"][::7].plot(kind=\"scatter\")"
   ]
  },
  {
   "cell_type": "code",
   "execution_count": null,
   "metadata": {},
   "outputs": [],
   "source": [
    "total_cases = df.groupby(\"date\").sum()\n",
    "#Rolling by 14 days to discard fluctuations\n",
    "total_cases = total_cases.rolling(14).mean().iloc[14:]\n",
    "# D = total_cases[\"Jun 2020\":\"Nov 2020\"].iloc[::5]"
   ]
  },
  {
   "cell_type": "markdown",
   "metadata": {},
   "source": [
    "## Model Definition\n"
   ]
  },
  {
   "cell_type": "code",
   "execution_count": null,
   "metadata": {},
   "outputs": [],
   "source": [
    "model_config = {\"compartments\": (\"S\", \"E\",\"I\",\"R\"), \n",
    "        \"population\": 56490045, #England population size 2021\n",
    "        \"start_time\": datetime(2020, 7, 25),\n",
    "        \"end_time\": datetime(2020, 12, 1)\n",
    "}\n",
    "bcm_model_2 = bcm_seir_age_strat(model_config)\n",
    "model_2 = model2(model_config)"
   ]
  },
  {
   "cell_type": "code",
   "execution_count": null,
   "metadata": {},
   "outputs": [],
   "source": [
    "model_2.get_default_parameters()"
   ]
  },
  {
   "cell_type": "markdown",
   "metadata": {},
   "source": [
    "## Trial run"
   ]
  },
  {
   "cell_type": "code",
   "execution_count": null,
   "metadata": {},
   "outputs": [],
   "source": [
    "disp_params = {k:v.ppf(0.5) for k,v in bcm_model_2.priors.items() if \"_disp\" in k} #Mandatory if you tempt to calibrate your target dispersion\n",
    "\n",
    "res = bcm_model_2.run(bcm_model_2.parameters | disp_params).derived_outputs\n",
    "\n",
    "# res = model_2.get_outputs_df()\n",
    "Infec = [f\"InciXage_{i}\" for i in range(0,65,5)] #Selecting the Infectious compartments\n",
    "#Summing over the infectious compartments \n",
    "total_cases_pred = pd.DataFrame(res[Infec].sum(axis=1))"
   ]
  },
  {
   "cell_type": "code",
   "execution_count": null,
   "metadata": {},
   "outputs": [],
   "source": [
    "plot_start_date = datetime(2020, 8, 1)\n",
    "analysis_end_date = datetime(2020, 11, 30)\n",
    "\n",
    "# plot = model_2.get_outputs_df()[\"IXage_60\"].plot()\n",
    "plot = pd.DataFrame(total_cases_pred).plot()\n",
    "plot.update_xaxes(range=(plot_start_date, analysis_end_date))\n",
    "plot.add_trace(go.Scatter(x=total_cases.index, y=total_cases[\"cases\"], mode='markers', name='total_cases'))\n",
    "#pd.options.plotting.backend = \"plotly\" #To allow plotly graphic. Swich to \"matplotlib\" if facing some troubles while ploting\n",
    "#pivot_df[\"total_cases\"].plot.area()"
   ]
  },
  {
   "cell_type": "markdown",
   "metadata": {},
   "source": [
    "## Testing by optimization"
   ]
  },
  {
   "cell_type": "code",
   "execution_count": null,
   "metadata": {},
   "outputs": [],
   "source": [
    "import nevergrad as ng\n",
    "import pandas as pd \n",
    "import numpy as np\n",
    "# Import our convenience wrapper\n",
    "from estival.wrappers.nevergrad import optimize_model"
   ]
  },
  {
   "cell_type": "markdown",
   "metadata": {},
   "source": [
    "#### Running several optimization process to have an idea about the range of our parameters  "
   ]
  },
  {
   "cell_type": "code",
   "execution_count": null,
   "metadata": {},
   "outputs": [],
   "source": [
    "# TwoPointsDE is a good suggested default for some of our typical use cases\n",
    "opt_class = ng.optimizers.TwoPointsDE\n",
    "orunner = optimize_model(bcm_model_2, opt_class=opt_class)\n",
    "# Here we run the optimizer in a loop, inspecting the current best point at each iteration\n",
    "# Using the loss information at each step can provide the basis for stopping conditions\n",
    "mle_params = []\n",
    "for i in range(8):\n",
    "    # Run the minimizer for a specified 'budget' (ie number of evaluations)\n",
    "    rec = orunner.minimize(30000)\n",
    "    # Print the loss (objective function value) of the current recommended parameters\n",
    "    print(rec.loss)\n",
    "    mle_params.append(rec.value[1])\n",
    "\n",
    "\n",
    "# mle_params = rec.value[1]\n",
    "\n"
   ]
  },
  {
   "cell_type": "markdown",
   "metadata": {},
   "source": [
    "### We can refine our priors using the optimization results"
   ]
  },
  {
   "cell_type": "code",
   "execution_count": null,
   "metadata": {},
   "outputs": [],
   "source": [
    "from estival import priors as esp\n",
    "\n",
    "L = list(pd.DataFrame(mle_params).max().keys())\n",
    "T = {param : esp.UniformPrior(param,(0.0, val_max)) for param, val_max in zip(L,pd.DataFrame(mle_params).max().round(7)) if param not in [\"S_0\",\"seed\",\"detect_prop\"]}"
   ]
  },
  {
   "cell_type": "code",
   "execution_count": null,
   "metadata": {},
   "outputs": [],
   "source": [
    "T[\"S_0\"] = esp.UniformPrior(\"S_0\",(1000000,3e6))\n",
    "T[\"seed\"] = esp.UniformPrior(\"seed\",(1,1600))\n",
    "T[\"detect_prop\"] = esp.UniformPrior(\"detect_prop\",(0.0,1.0))"
   ]
  },
  {
   "cell_type": "code",
   "execution_count": null,
   "metadata": {},
   "outputs": [],
   "source": [
    "bcm_model_2.priors  = T"
   ]
  },
  {
   "cell_type": "code",
   "execution_count": null,
   "metadata": {},
   "outputs": [],
   "source": [
    "#Reacting the other transmission rate value by the one in mle_param\n",
    "# for param in bcm_model_2.parameters :\n",
    "#     if param not in [\"S_0\",\"seed\",\"age_transmission_rate_0\", \"incubation_period\", \"infectious_period\", \"detect_prop\"]:\n",
    "#         mle_params[param] = mle_params[\"age_transmission_rate_0\"]\n",
    "\n",
    "\n",
    "#print(mle_params[-1])\n",
    "\n",
    "res_opt = bcm_model_2.run(mle_params[-1])"
   ]
  },
  {
   "cell_type": "code",
   "execution_count": null,
   "metadata": {},
   "outputs": [],
   "source": [
    "total_cases_pred_opt = pd.DataFrame(res_opt.derived_outputs[Infec].sum(axis=1))\n",
    "\n",
    "# total_cases_pred_opt_0 = pd.DataFrame(res_opt.derived_outputs['InciXage_0'])"
   ]
  },
  {
   "cell_type": "code",
   "execution_count": null,
   "metadata": {},
   "outputs": [],
   "source": [
    "D = total_cases[\"Aug 2020\":\"Dec 2020\"][::7]\n",
    "# D = cases_0[\"Aug 2020\":\"nov 2020\"]"
   ]
  },
  {
   "cell_type": "code",
   "execution_count": null,
   "metadata": {},
   "outputs": [],
   "source": [
    "plot_start_date = datetime(2020, 7, 1)\n",
    "analysis_end_date = datetime(2020, 12, 7)\n",
    "\n",
    "# plot = model_2.get_outputs_df()[\"IXage_60\"].plot()\n",
    "plot = pd.DataFrame(total_cases_pred_opt).plot()\n",
    "plot.update_xaxes(range=(plot_start_date, analysis_end_date))\n",
    "plot.add_trace(go.Scatter(x=D.index, y=D[\"cases\"], mode='markers', name='total_cases'))"
   ]
  },
  {
   "cell_type": "markdown",
   "metadata": {},
   "source": [
    "## Calibration"
   ]
  },
  {
   "cell_type": "code",
   "execution_count": null,
   "metadata": {},
   "outputs": [],
   "source": [
    "# ##____Uniform Initialisation for each chain_________\n",
    "# chains = 4\n",
    "# init_vals = []\n",
    "# for c in range(chains):\n",
    "#     temp = {param: np.random.uniform(0.0,1.0) for param in list(bcm_model_2.parameters.keys())[:-3]}\n",
    "#     temp[\"seed\"] = np.random.uniform(1,1200)\n",
    "#     # temp[\"incubation_period\"] = np.random.uniform(1.,15.) \n",
    "#     # temp[\"infectious_period\"] = np.random.uniform(1.,15.)\n",
    "#     init_vals.append(temp)\n",
    "\n",
    "\n",
    "# init_vals_nuts = {param: jnp.array(np.random.uniform(0.0,1.0, 4)) for param in list(bcm_model_2.parameters)[:-3]}\n",
    "# init_vals_nuts[\"seed\"] = jnp.array(np.random.uniform(1.,1200, 4))\n",
    "# # init_vals_nuts[\"infectious_period\"] = jnp.array(np.random.uniform(1.,15.0, 4))"
   ]
  },
  {
   "cell_type": "code",
   "execution_count": null,
   "metadata": {},
   "outputs": [],
   "source": [
    "def nmodel_2():\n",
    "    unif_priors = list(bcm_model_2.parameters)[:-5]\n",
    "    sampled = {k:numpyro.sample(k, dist.Uniform(0.0,0.8)) for k in unif_priors}\n",
    "\n",
    "    sampled[\"S_0\"] = numpyro.sample(\"S_0\", dist.Uniform(1800000.0, 56490045.0))\n",
    "    sampled[\"seed\"] = numpyro.sample(\"seed\", dist.Uniform(1.0,2000))\n",
    "    sampled[\"detect_prop\"] = numpyro.sample(\"detect_prop\", dist.Uniform(0.0,1.0))\n",
    "\n",
    "    #Adding the normal priors for the incubation and infectious periods\n",
    "\n",
    "    # sampled[\"incubation_period\"] = numpyro.sample(\"incubation_period\", dist.TruncatedNormal(7.3, 2.0, low=1., high=14.))\n",
    "    # sampled[\"infectious_period\"] = numpyro.sample(\"infectious_period\", dist.TruncatedNormal(5.4, 3.0, low=1., high=14.))\n",
    "    # Log-likelihood\n",
    "    disp_params = {k:v.ppf(0.5) for k,v in bcm_model_2.priors.items() if \"_disp\" in k}\n",
    "\n",
    "    log_likelihood = bcm_model_2.loglikelihood(**sampled | disp_params)\n",
    "\n",
    "    numpyro.factor(\"ll\",log_likelihood)"
   ]
  },
  {
   "cell_type": "markdown",
   "metadata": {},
   "source": [
    "### Performing a Single run for each algorithm"
   ]
  },
  {
   "cell_type": "code",
   "execution_count": null,
   "metadata": {},
   "outputs": [],
   "source": [
    "\n",
    "samplers = [pm.sample_smc,pm.Metropolis,pm.DEMetropolisZ,pm.DEMetropolis] #, infer.NUTS]\n",
    "Draws = [40000]*4\n",
    "# Init = [init_vals_4]*4\n",
    "results_df = pd.DataFrame()\n",
    "\n",
    "for sampler, draws in zip(samplers, Draws):#, Init):\n",
    "    results = cal.Single_analysis(sampler = sampler, \n",
    "            draws = draws,\n",
    "            chains= 4,\n",
    "            cores = 4,\n",
    "            tune = 5000,\n",
    "            bcm_model = bcm_model_2,\n",
    "            )\n",
    "            \n",
    "    results_df = pd.concat([results_df,results])\n",
    "\n",
    "\n",
    "\n",
    "results_df = results_df.reset_index(drop=True)"
   ]
  },
  {
   "cell_type": "code",
   "execution_count": null,
   "metadata": {},
   "outputs": [],
   "source": [
    "#Storing results on a pickle file\n",
    "# with open('./Results/Model_2/Simple_run_results_3.pkl', 'wb') as fp:\n",
    "    # pickle.dump(results_df, fp)\n",
    "\n",
    "#Reading a stored results\n",
    "# results_df = pd.read_pickle(\"./Results/Model_2/Simple_run_results_3.pkl\")"
   ]
  },
  {
   "cell_type": "code",
   "execution_count": null,
   "metadata": {},
   "outputs": [],
   "source": [
    "summaries_mean, prcnt_succ = cal.group_summary(results_df)"
   ]
  },
  {
   "cell_type": "code",
   "execution_count": null,
   "metadata": {},
   "outputs": [],
   "source": [
    "prcnt_succ\n",
    "Trace = results_df[\"Trace\"]"
   ]
  },
  {
   "cell_type": "code",
   "execution_count": null,
   "metadata": {},
   "outputs": [],
   "source": [
    "idata = Trace[0]"
   ]
  },
  {
   "cell_type": "code",
   "execution_count": null,
   "metadata": {},
   "outputs": [],
   "source": [
    "summary_df = az.summary(idata, hdi_prob=0.94)\n"
   ]
  },
  {
   "cell_type": "code",
   "execution_count": null,
   "metadata": {},
   "outputs": [],
   "source": [
    "summary_df.reset_index()"
   ]
  },
  {
   "cell_type": "code",
   "execution_count": null,
   "metadata": {},
   "outputs": [],
   "source": [
    "import seaborn as sns\n",
    "# Extract the summary statistics for plotting\n",
    "summary_df = az.summary(idata, hdi_prob=0.94)\n",
    "\n",
    "# Prepare data for plotting\n",
    "plot_data = summary_df.reset_index()[1:]\n",
    "plot_data = plot_data.melt(id_vars='index', value_vars=['mean', 'hdi_3%', 'hdi_97%'], var_name='stat', value_name='value')\n",
    "plot_data['parameter'] = plot_data['index']\n",
    "\n",
    "# Create the box plot\n",
    "plt.figure(figsize=(10, 6))\n",
    "sns.boxplot(data=plot_data, x='parameter', y='value', hue='stat', palette='Set2')\n",
    "\n",
    "# Add plot labels and title\n",
    "plt.title('Box Plot of Parameter Estimates with HDI Intervals')\n",
    "plt.xlabel('Parameter')\n",
    "plt.ylabel('Value')\n",
    "plt.legend(title='Statistic', loc='best')\n",
    "\n",
    "# Show plot\n",
    "plt.xticks(rotation=45)\n",
    "plt.tight_layout()\n",
    "plt.show()\n"
   ]
  },
  {
   "cell_type": "code",
   "execution_count": 12,
   "metadata": {},
   "outputs": [],
   "source": [
    "#ADDING THE NUTS SAMPLER\n",
    "#Probabily the nuts will take a while to finish--We need to reduce the number of iterations and or warmup\n",
    "res_nuts = cal.Single_analysis(sampler = infer.NUTS, \n",
    "            draws = 20000,\n",
    "            tune = 2000,\n",
    "            chains = 4,\n",
    "            cores=4,\n",
    "            bcm_model = bcm_model_2,\n",
    "            nmodel=nmodel_2,\n",
    "            # initial_params = init_vals_nuts)\n",
    ")\n",
    "\n",
    "results_df = pd.concat([results_df,res_nuts]) \n",
    "results_df = results_df.reset_index(drop=True)\n",
    "results_df = results_df.drop(columns=\"index\")"
   ]
  },
  {
   "cell_type": "code",
   "execution_count": null,
   "metadata": {},
   "outputs": [],
   "source": [
    "#Storing results on a pickle file\n",
    "# with open('./Results/Model_2/Simple_run_results_3.pkl', 'wb') as fp:\n",
    "    # pickle.dump(results_df, fp)"
   ]
  },
  {
   "cell_type": "code",
   "execution_count": null,
   "metadata": {},
   "outputs": [],
   "source": [
    "def fitting_test(sampler,idata, bcm, model):\n",
    "    from estival.sampling.tools import likelihood_extras_for_samples,likelihood_extras_for_idata\n",
    "    if sampler in [\"DEMetropolis\", \"DEMetropolisZ\"]:\n",
    "        likelihood_df = likelihood_extras_for_idata(idata, bcm) #More faster\n",
    "    else :\n",
    "        likelihood_df = likelihood_extras_for_samples(idata.posterior, bcm)\n",
    "\n",
    "    ldf_sorted = likelihood_df.sort_values(by=\"logposterior\",ascending=False)\n",
    "\n",
    "    # Extract the parameters from the calibration samples\n",
    "    map_params = idata.posterior.to_dataframe().loc[ldf_sorted.index[0]].to_dict()\n",
    "    #Reafecting the other transmission rate value by the one in mle_param\n",
    "    # for param in bcm_model_2.parameters :\n",
    "    #     if param not in [\"S_0\",\"seed\",\"age_transmission_rate_0\", \"incubation_period\", \"infectious_period\",\"detect_prop\"]:\n",
    "    #         map_params[param] = map_params[\"age_transmission_rate_0\"]\n",
    "    # map_params['incubation_period']= 5.4\n",
    "    # map_params['infectious_period'] = 7.3\n",
    "    # print(map_params)\n",
    "    bcm.loglikelihood(**map_params), ldf_sorted.iloc[0][\"loglikelihood\"]\n",
    "    # Run the model with these parameters\n",
    "    model.run(map_params)\n",
    "    # ...and plot some results\n",
    "    return model.get_derived_outputs_df(),map_params"
   ]
  },
  {
   "cell_type": "code",
   "execution_count": null,
   "metadata": {},
   "outputs": [],
   "source": [
    "Map_res = dict()\n",
    "Map_params = dict()\n",
    "for row in results_df.index:\n",
    "    idata = results_df.Trace.loc[row]\n",
    "    sampler =  results_df.at[row, \"Sampler\"]\n",
    "    Map_res[sampler],Map_params[sampler] = fitting_test(sampler,idata, bcm_model_2,model_2)    "
   ]
  },
  {
   "cell_type": "code",
   "execution_count": null,
   "metadata": {},
   "outputs": [],
   "source": [
    "for sampler in Map_res.keys():\n",
    "    model_2.run(Map_params[sampler])\n",
    "    Map_res[sampler] = model_2.get_derived_outputs_df()"
   ]
  },
  {
   "cell_type": "code",
   "execution_count": null,
   "metadata": {},
   "outputs": [],
   "source": [
    "# Extracting data for plotting\n",
    "    \n",
    "fig, ax = plt.subplots(figsize=(10, 7))\n",
    "for sampler in Map_params.keys():\n",
    "    parameters = [k for k in Map_params[sampler].keys() if k not in [\"S_0\",\"detect_prop\",\"seed\", \"incubation_period\",\"infectious_period\"]]\n",
    "    values = [val for val, k in zip(Map_params[sampler].values(),Map_params[sampler].keys()) if k not in [\"S_0\",\"detect_prop\",\"seed\", \"incubation_period\",\"infectious_period\"]]\n",
    "    # Create the plot\n",
    "\n",
    "\n",
    "    # Create a scatter plot\n",
    "    ax.scatter(parameters, values, s=80,label= sampler)  # s: size of the points\n",
    "\n",
    "    # Add labels to each point\n",
    "    for param, value in zip(parameters, values):\n",
    "        ax.text(param, value, f'{value:.2f}', fontsize=9, ha='right', va='bottom')\n",
    "\n",
    "    # Rotate x-axis labels for better readability\n",
    "    plt.xticks(rotation=45, ha='right')\n",
    "\n",
    "    # Add titles and labels\n",
    "plt.title('Parameter Values')\n",
    "plt.xlabel('Parameters')\n",
    "plt.ylabel('Values')\n",
    "plt.legend()\n",
    "\n",
    "# Display the plot\n",
    "plt.tight_layout()\n",
    "plt.show()"
   ]
  },
  {
   "cell_type": "code",
   "execution_count": null,
   "metadata": {},
   "outputs": [],
   "source": [
    "fig, axes = plt.subplots(1,3,figsize=(18, 5))\n",
    "for i,paramet in  enumerate([\"seed\",\"detect_prop\",\"S_0\"]):\n",
    "    for sampler in Map_params.keys():\n",
    "        ax = axes[i]\n",
    "        parameters = [paramet]\n",
    "        values = [val for val, k in zip(Map_params[sampler].values(),Map_params[sampler].keys()) if k in [paramet]]\n",
    "        # Create the plot\n",
    "\n",
    "\n",
    "        # Create a scatter plot\n",
    "        ax.scatter(parameters, values, s=80,label= sampler)  # s: size of the points\n",
    "\n",
    "        # Add labels to each point\n",
    "        for param, value in zip(parameters, values):\n",
    "            ax.text(param, value, f'{value:.2f}', fontsize=9, ha='right', va='bottom')\n",
    "\n",
    "        # Rotate x-axis labels for better readability\n",
    "       # Rotate x-axis labels for better readability\n",
    "    ax.tick_params(axis='x', rotation=45)\n",
    "    \n",
    "    # Set titles and labels\n",
    "    ax.set_title(f'Parameters for {sampler}')\n",
    "    ax.set_xlabel('Parameters')\n",
    "    ax.set_ylabel('Values')\n",
    "    ax.legend()\n",
    "    # Display the plot\n",
    "    plt.tight_layout()\n",
    "plt.show()"
   ]
  },
  {
   "cell_type": "code",
   "execution_count": null,
   "metadata": {},
   "outputs": [],
   "source": [
    "model_2.run(Map_params[\"sample_smc\"])\n"
   ]
  },
  {
   "cell_type": "code",
   "execution_count": null,
   "metadata": {},
   "outputs": [],
   "source": [
    "Infec = [f\"InciXage_{i}\" for i in range(0,65,5)]\n"
   ]
  },
  {
   "cell_type": "code",
   "execution_count": null,
   "metadata": {},
   "outputs": [],
   "source": [
    "map_res = model_2.get_derived_outputs_df()"
   ]
  },
  {
   "cell_type": "code",
   "execution_count": null,
   "metadata": {},
   "outputs": [],
   "source": [
    "# total_cases_pred_DEM = map_res_smc[Infec].sum(axis=1)\n",
    "# map_res = model_2.get_outputs_df() # Map_res[\"sample_smc\"]\n",
    "total_cases_pred_SMC = map_res[Infec].sum(axis=1)"
   ]
  },
  {
   "cell_type": "code",
   "execution_count": null,
   "metadata": {},
   "outputs": [],
   "source": [
    "total_cases = total_cases[\"Aug 2020\":\"Nov 2020\"].iloc[::14]"
   ]
  },
  {
   "cell_type": "code",
   "execution_count": null,
   "metadata": {},
   "outputs": [],
   "source": [
    "Tot_cases_sampler = dict()\n",
    "for sampler in Map_res.keys():\n",
    "    data = {'Inci_per_age': [str(lab) for lab in Infec], 'Tot_cases': [Map_res[sampler][str(lab)].sum() for lab in Infec]}\n",
    "    df = pd.DataFrame(data)\n",
    "    df = df.set_index('Inci_per_age')\n",
    "    Tot_cases_sampler[sampler] = df"
   ]
  },
  {
   "cell_type": "code",
   "execution_count": null,
   "metadata": {},
   "outputs": [],
   "source": [
    "plot_start_date = datetime(2020, 8, 1)\n",
    "analysis_end_date = datetime(2020, 11, 30)\n",
    "output_labels = {\"name\": \"Sampler\",\"index\": \"Time\", \"value\": \"Incidence\"}\n",
    "\n",
    "#plot= map_res[\"IXage_5\"].plot()\n",
    "plot = pd.DataFrame({\"SMC\":Map_res[\"sample_smc\"][Infec].sum(axis = 1),\n",
    "                     \"NUTS\": Map_res[\"NUTS\"][Infec].sum(axis=1),\n",
    "                     \"DEMZ\": Map_res[\"DEMetropolisZ\"][Infec].sum(axis=1),\n",
    "                     \"DEM\": Map_res[\"DEMetropolis\"][Infec].sum(axis=1),\n",
    "                     \"MH\": Map_res[\"Metropolis\"][Infec].sum(axis=1)\n",
    "}).plot(labels=output_labels)\n",
    "plot.update_xaxes(range=(plot_start_date, analysis_end_date))\n",
    "# plot.add_trace(go.Scatter(x=df.loc[\"05_09\"].index, y=df.loc[\"05_09\"][\"cases\"], mode='markers', name='observed'))\n",
    "plot.add_trace(go.Scatter(x=total_cases.index, y=total_cases[\"cases\"], mode='markers', name='Tot obs cases'))\n",
    "plot.update_layout(\n",
    "    legend_title_text='Sampler'\n",
    ")\n",
    "# plot.add_trace(go.Scatter(x=total_cases.index, y=total_cases_pred_DEM, name='DEM'))\n",
    "\n"
   ]
  },
  {
   "cell_type": "code",
   "execution_count": null,
   "metadata": {},
   "outputs": [],
   "source": [
    "results_df[\"Rel_Ess\"] = results_df['Min_Ess'].astype(float)/(results_df[\"Draws\"].astype(float)*results_df['Chains'].astype(float))\n"
   ]
  },
  {
   "cell_type": "code",
   "execution_count": null,
   "metadata": {},
   "outputs": [],
   "source": [
    "plot_comparison_bars(results_df.round(4))"
   ]
  }
 ],
 "metadata": {
  "kernelspec": {
   "display_name": "emulearn",
   "language": "python",
   "name": "python3"
  },
  "language_info": {
   "codemirror_mode": {
    "name": "ipython",
    "version": 3
   },
   "file_extension": ".py",
   "mimetype": "text/x-python",
   "name": "python",
   "nbconvert_exporter": "python",
   "pygments_lexer": "ipython3",
   "version": "3.10.14"
  }
 },
 "nbformat": 4,
 "nbformat_minor": 2
}
