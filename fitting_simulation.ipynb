{
 "cells": [
  {
   "cell_type": "code",
   "execution_count": null,
   "metadata": {},
   "outputs": [],
   "source": [
    "from summer2 import CompartmentalModel\n",
    "from summer2.parameters import Parameter\n"
   ]
  },
  {
   "cell_type": "code",
   "execution_count": null,
   "metadata": {},
   "outputs": [],
   "source": [
    "def build_model():\n",
    "\n",
    "    sir_model = CompartmentalModel([0.0,100.0],[\"S\",\"I\",\"R\"],[\"I\"])\n",
    "    sir_model.set_initial_population({\"S\": 999.0, \"I\": 1.0})\n",
    "    sir_model.add_infection_frequency_flow(\"infection\",Parameter(\"contact_rate\"),\"S\",\"I\")\n",
    "    sir_model.add_transition_flow(\"recovery\",Parameter(\"recovery_rate\"),\"I\",\"R\")\n",
    "\n",
    "    sir_model.request_output_for_flow(\"incidence\", \"infection\")\n",
    "    \n",
    "    return sir_model\n",
    "\n",
    "sir_model = build_model()"
   ]
  },
  {
   "cell_type": "code",
   "execution_count": null,
   "metadata": {},
   "outputs": [],
   "source": [
    "parameters = {\n",
    "    \"contact_rate\": 0.3,\n",
    "    \"recovery_rate\": 0.1\n",
    "}\n",
    "sir_model.run(parameters)\n",
    "res = sir_model.get_derived_outputs_df()\n",
    "res['incidence'].plot()"
   ]
  },
  {
   "cell_type": "markdown",
   "metadata": {},
   "source": [
    "# Sample from a known distribution"
   ]
  },
  {
   "cell_type": "code",
   "execution_count": null,
   "metadata": {},
   "outputs": [],
   "source": [
    "import numpy as np\n",
    "import pandas as pd\n",
    "from scipy.stats import truncnorm\n",
    "\n",
    "def sample_from_truncnorm(mean, std_dev, lower_bound, upper_bound, sample_size, name):\n",
    "    a = (lower_bound - mean) / std_dev\n",
    "    b = (upper_bound - mean) / std_dev\n",
    "    samples = truncnorm.rvs(a, b, loc=mean, scale=std_dev, size=sample_size)\n",
    "\n",
    "    return pd.DataFrame(samples, columns=[name])\n",
    "\n",
    "samples = {\n",
    "    \"contact_rate\":  pd.concat(\n",
    "        [\n",
    "            sample_from_truncnorm(0.225, 0.005, 0.2, 0.25, 10000, \"contact_rate\"),\n",
    "            sample_from_truncnorm(0.3, 0.005, 0.25, 0.35, 10000, \"contact_rate\"),\n",
    "        ],       \n",
    "        ignore_index=True\n",
    "    )\n",
    "}"
   ]
  },
  {
   "cell_type": "code",
   "execution_count": null,
   "metadata": {},
   "outputs": [],
   "source": [
    "import seaborn as sns\n",
    "sns.kdeplot(samples[\"contact_rate\"], fill=True)"
   ]
  },
  {
   "cell_type": "markdown",
   "metadata": {},
   "source": [
    "# Run model forward (i.e. feed the samples to the model)"
   ]
  },
  {
   "cell_type": "code",
   "execution_count": null,
   "metadata": {},
   "outputs": [],
   "source": [
    "from estival.model import BayesianCompartmentalModel\n",
    "import estival.priors as esp\n",
    "import estival.targets as est\n",
    "from estival.sampling import tools as esamp\n",
    "\n",
    "\n",
    "priors = [\n",
    "    esp.UniformPrior(\"contact_rate\", [0, 1]),\n",
    "]\n",
    "targets = []\n",
    "bcm = BayesianCompartmentalModel(model=sir_model,priors=priors, targets=targets,parameters=parameters)\n",
    "samples_for_estival = [{\"contact_rate\": samples[\"contact_rate\"].iloc[i]} for i in range(len(samples[\"contact_rate\"]))]\n",
    "\n",
    "\n",
    "model_runs = esamp.model_results_for_samples(samples_for_estival, bcm)"
   ]
  },
  {
   "cell_type": "code",
   "execution_count": null,
   "metadata": {},
   "outputs": [],
   "source": [
    "model_runs.results['incidence'].plot(legend=False)"
   ]
  },
  {
   "cell_type": "markdown",
   "metadata": {},
   "source": [
    "## Collect the synthetic data and generate likelihood components"
   ]
  },
  {
   "cell_type": "code",
   "execution_count": null,
   "metadata": {},
   "outputs": [],
   "source": [
    "data_times = list(range(20, 81, 10))\n",
    "len(data_times)"
   ]
  },
  {
   "cell_type": "code",
   "execution_count": null,
   "metadata": {},
   "outputs": [],
   "source": [
    "from jax.scipy.stats import gaussian_kde\n",
    "import jax.numpy as jnp\n",
    "\n",
    "likelihood_comps = {t: gaussian_kde(jnp.array(model_runs.results['incidence'].loc[t]), bw_method=0.01) for t in data_times}"
   ]
  },
  {
   "cell_type": "code",
   "execution_count": null,
   "metadata": {},
   "outputs": [],
   "source": [
    "# Check one likelihood component\n",
    "import numpy as np\n",
    "import matplotlib.pyplot as plt\n",
    "\n",
    "for t in data_times:\n",
    "    kde = likelihood_comps[t]\n",
    "    x_values = np.linspace(0, 50, 1000)\n",
    "    pdf_values = kde(x_values)\n",
    "    plt.plot(x_values, pdf_values)\n",
    "\n",
    "    model_runs.results['incidence'].loc[t].plot.hist(density=True, bins=50)\n",
    "    plt.show()"
   ]
  },
  {
   "cell_type": "markdown",
   "metadata": {},
   "source": [
    "# Refit the model using the likelihood components derived from synthetic data"
   ]
  },
  {
   "cell_type": "code",
   "execution_count": null,
   "metadata": {},
   "outputs": [],
   "source": [
    "from jax import lax\n",
    "\n",
    "# Flat prior\n",
    "priors = [\n",
    "    esp.UniformPrior(\"contact_rate\", [0.1, 0.5]),\n",
    "]\n",
    "n_data_points = len(data_times)\n",
    "# Define a custom target using the likelihood components\n",
    "def make_eval_func(t):\n",
    "    def eval_func(modelled, obs, parameters, time_weights):\n",
    "        likelihood_comp = likelihood_comps[t](modelled) \n",
    "        likelihood_comp = jnp.max(jnp.array([likelihood_comp, jnp.array([1.e-300])]))  # to avoid zero values.\n",
    "        return jnp.log(likelihood_comp) / n_data_points\n",
    "\n",
    "    return eval_func\n",
    "\n",
    "targets = [est.CustomTarget(f\"likelihood_comp_{t}\", pd.Series([0.], index=[t]), make_eval_func(t), model_key='incidence') for t in data_times]\n",
    "\n",
    "refit_bcm = BayesianCompartmentalModel(model=sir_model,priors=priors, targets=targets,parameters=parameters)"
   ]
  },
  {
   "cell_type": "markdown",
   "metadata": {},
   "source": [
    "### Pymc sampler"
   ]
  },
  {
   "cell_type": "code",
   "execution_count": null,
   "metadata": {},
   "outputs": [],
   "source": [
    "import pymc as pm\n",
    "from estival.wrappers import pymc as epm"
   ]
  },
  {
   "cell_type": "code",
   "execution_count": null,
   "metadata": {},
   "outputs": [],
   "source": [
    "chains = 4\n",
    "Tab = np.zeros(4)\n",
    "init_vals = []\n",
    "for c in range(chains):\n",
    "    init_vals.append({\"contact_rate\": np.random.uniform(0.20,0.4) })\n",
    "    Tab[c] =  np.random.uniform(0.20,0.4)"
   ]
  },
  {
   "cell_type": "code",
   "execution_count": null,
   "metadata": {},
   "outputs": [],
   "source": [
    "init_vals"
   ]
  },
  {
   "cell_type": "code",
   "execution_count": null,
   "metadata": {},
   "outputs": [],
   "source": [
    "T = [{'contact_rate': 0.34},\n",
    " {'contact_rate': 0.20},\n",
    " {'contact_rate': 0.24},\n",
    " {'contact_rate': 0.4}]\n"
   ]
  },
  {
   "cell_type": "code",
   "execution_count": null,
   "metadata": {},
   "outputs": [],
   "source": [
    "IDATA = dict()\n",
    "for sampler in [pm.Metropolis, pm.DEMetropolis, pm.DEMetropolisZ]:\n",
    "    with pm.Model() as model:    \n",
    "        variables = epm.use_model(refit_bcm)\n",
    "        IDATA[sampler.__name__] = pm.sample(step=[sampler(variables)], initvals = init_vals , draws=20000, tune=1000,cores=4,chains=4)  #, initvals = [{'contact_rate': x} for x in [0.1, 0.4 ,0.6 ,0.8]])\n"
   ]
  },
  {
   "cell_type": "markdown",
   "metadata": {},
   "source": [
    "#### Sequential Monte Carlo"
   ]
  },
  {
   "cell_type": "code",
   "execution_count": null,
   "metadata": {},
   "outputs": [],
   "source": [
    "draws = 1000\n",
    "#The starting points are drawn from the prior.\n",
    "#For now the manual initialisation is not working\n",
    "sampler = pm.sample_smc\n",
    "with pm.Model() as model:\n",
    "    variables = epm.use_model(refit_bcm)\n",
    "    IDATA[sampler.__name__] = pm.sample_smc(kernel=pm.smc.IMH, start = None, draws=draws,chains=4, threshold = 0.1,correlation_threshold=0.5)"
   ]
  },
  {
   "cell_type": "markdown",
   "metadata": {},
   "source": [
    "### NUTS sampling (Numpyro)"
   ]
  },
  {
   "cell_type": "code",
   "execution_count": null,
   "metadata": {},
   "outputs": [],
   "source": [
    "import numpyro\n",
    "from numpyro import infer\n",
    "from numpyro import distributions as dist\n",
    "from jax import random\n",
    "\n",
    "\n",
    "\n",
    "def nmodel():\n",
    "    sampled = {\"contact_rate\":numpyro.sample(\"contact_rate\", dist.Uniform(0.0,1.0))}# for k in refit_bcm.parameters}\n",
    "    ll = numpyro.factor(\"ll\", refit_bcm.loglikelihood(**sampled))\n",
    "\n",
    "    "
   ]
  },
  {
   "cell_type": "code",
   "execution_count": null,
   "metadata": {},
   "outputs": [],
   "source": [
    "refit_bcm.parameters"
   ]
  },
  {
   "cell_type": "code",
   "execution_count": null,
   "metadata": {},
   "outputs": [],
   "source": [
    "init_vals_nuts = {\"contact_rate\": jnp.full(4, 0.26) }\n",
    "\n",
    "init_vals_nuts"
   ]
  },
  {
   "cell_type": "code",
   "execution_count": null,
   "metadata": {},
   "outputs": [],
   "source": [
    "kernel = infer.NUTS(nmodel)\n",
    "mcmc = infer.MCMC(kernel, num_warmup=1000, num_chains=4, num_samples=2000, progress_bar=True)\n",
    "\n",
    "mcmc.run(random.PRNGKey(0), init_params=init_vals_nuts)#{'contact_rate': np.array([0.26,0.26,0.26,0.26])})"
   ]
  },
  {
   "cell_type": "code",
   "execution_count": null,
   "metadata": {},
   "outputs": [],
   "source": [
    "import arviz as az"
   ]
  },
  {
   "cell_type": "code",
   "execution_count": null,
   "metadata": {},
   "outputs": [],
   "source": [
    "IDATA[\"NUTS\"] = az.from_numpyro(mcmc)"
   ]
  },
  {
   "cell_type": "code",
   "execution_count": null,
   "metadata": {},
   "outputs": [],
   "source": [
    "az.rhat(IDATA[\"sample_smc\"])"
   ]
  },
  {
   "cell_type": "code",
   "execution_count": null,
   "metadata": {},
   "outputs": [],
   "source": [
    "for sampler , idata in IDATA.items():\n",
    "    print(sampler)\n",
    "    az.plot_trace(idata)\n",
    "    plt.show()"
   ]
  },
  {
   "cell_type": "code",
   "execution_count": null,
   "metadata": {},
   "outputs": [],
   "source": [
    "fig, axes = plt.subplots(1, 3, figsize=(18, 3))\n",
    "i = 0\n",
    "for sampler , idata in IDATA.items():\n",
    "    ax = axes[i]\n",
    "    posterior_sample = idata.posterior.to_dataframe()['contact_rate'].to_list()\n",
    "    # plt.hist(samples[\"contact_rate\"],histtype='step', bins=50, density=True, label=\"true sample\")\n",
    "    # plt.hist(posterior_sample, bins=50, histtype='step',density=True, label=\"posterior by \"+ sampler)\n",
    "    sns.kdeplot(samples[\"contact_rate\"],ax = ax, fill=True, label=\"true sample\")\n",
    "    sns.kdeplot(posterior_sample,ax = ax, fill=True, label= sampler)\n",
    "    ax.legend(loc = \"upper center\")\n",
    "    i = i+1\n",
    "    # ax.set_xlabel(\"\")\n",
    "\n",
    "plt.suptitle(f\"Posterior by different MCMC samplers\", fontsize=12)\n",
    "plt.tight_layout()\n"
   ]
  },
  {
   "cell_type": "code",
   "execution_count": null,
   "metadata": {},
   "outputs": [],
   "source": [
    "lls = esamp.likelihood_extras_for_idata(idata, refit_bcm)"
   ]
  },
  {
   "cell_type": "code",
   "execution_count": null,
   "metadata": {},
   "outputs": [],
   "source": [
    "lls['logposterior'].min()"
   ]
  },
  {
   "cell_type": "code",
   "execution_count": null,
   "metadata": {},
   "outputs": [],
   "source": [
    "lls['logposterior'].plot.hist()"
   ]
  },
  {
   "cell_type": "code",
   "execution_count": null,
   "metadata": {},
   "outputs": [],
   "source": [
    "posterior_model_runs = esamp.model_results_for_samples(idata, refit_bcm)"
   ]
  },
  {
   "cell_type": "code",
   "execution_count": null,
   "metadata": {},
   "outputs": [],
   "source": [
    "posterior_model_runs.results['incidence'].plot(legend=False)"
   ]
  },
  {
   "cell_type": "code",
   "execution_count": null,
   "metadata": {},
   "outputs": [],
   "source": [
    "model_runs.results['incidence'].plot(legend=False)"
   ]
  }
 ],
 "metadata": {
  "kernelspec": {
   "display_name": "summer2",
   "language": "python",
   "name": "python3"
  },
  "language_info": {
   "codemirror_mode": {
    "name": "ipython",
    "version": 3
   },
   "file_extension": ".py",
   "mimetype": "text/x-python",
   "name": "python",
   "nbconvert_exporter": "python",
   "pygments_lexer": "ipython3",
   "version": "3.10.14"
  }
 },
 "nbformat": 4,
 "nbformat_minor": 2
}
