{
 "cells": [
  {
   "cell_type": "code",
   "execution_count": 1,
   "metadata": {},
   "outputs": [],
   "source": [
    "import multiprocess as mp\n",
    "import platform\n",
    "\n",
    "# This is required for pymc parallel evaluation in notebooks \n",
    "# But has to be change while using a python script \n",
    "# Use this following instruction instead\n",
    "# if __name__ == \"__main__\":\n",
    "#     if platform.system() != \"Windows\":\n",
    "#         mp.set_start_method('spawn')\n",
    "    \n",
    "    # rest of your code body here inside the if __name__\n",
    "if platform.system() != \"Windows\":\n",
    "    \n",
    "    mp.set_start_method('forkserver')"
   ]
  },
  {
   "cell_type": "code",
   "execution_count": 2,
   "metadata": {},
   "outputs": [
    {
     "name": "stderr",
     "output_type": "stream",
     "text": [
      "WARNING (pytensor.tensor.blas): Using NumPy C-API based implementation for BLAS functions.\n"
     ]
    }
   ],
   "source": [
    "import Calibrate as cal #Runing the calibration process and gathering results\n",
    "from calibs_utilities import get_all_priors, get_targets, load_data\n",
    "from models.models import model1, model2, bcm_seir_age_strat, bcm_sir #All the models we design for the test\n",
    "from Calibrate import plot_comparison_bars\n",
    "\n",
    "# Combining tagets and prior with our summer2 model in a BayesianCompartmentalModel (bcm_model_1)\n",
    "from estival.model import BayesianCompartmentalModel\n",
    "from estival.sampling.tools import likelihood_extras_for_idata\n",
    "from estival.sampling.tools import likelihood_extras_for_samples\n",
    "\n",
    "\n",
    "import pandas as pd\n",
    "import numpy as np\n",
    "# import plotly.express as px\n",
    "import matplotlib.pyplot as plt\n",
    "from typing import List\n",
    "\n",
    "import pymc as pm\n",
    "\n",
    "# We use estivals parallel tools to run the model evaluations\n",
    "from estival.utils.parallel import map_parallel\n",
    "\n",
    "import numpyro\n",
    "from numpyro import distributions as dist\n",
    "from numpyro import infer\n",
    "import arviz as az\n",
    "import pickle\n",
    "from datetime import datetime\n",
    "# import jax\n",
    "from jax import numpy as jnp\n",
    "pd.options.plotting.backend = \"plotly\" #To allow plotly graphic. Swich to \"matplotlib\" if facing some troubles while ploting\n",
    "# pd.options.plotting.backend = \"matplotlib\"\n",
    "\n"
   ]
  },
  {
   "cell_type": "code",
   "execution_count": 6,
   "metadata": {},
   "outputs": [],
   "source": [
    "model_config = {\"compartments\": (\"S\", \"E\",\"I\",\"R\"), # \"Ip\",\"Ic\", \"Is\", \"R\"),\n",
    "        \"population\": 56490045, #England population size 2021\n",
    "        \"seed\": 50.0,\n",
    "        \"start\": datetime(2020, 8, 1),\n",
    "        \"end_time\": datetime(2020, 11, 14)\n",
    "}\n",
    "\n"
   ]
  },
  {
   "cell_type": "code",
   "execution_count": 3,
   "metadata": {},
   "outputs": [],
   "source": [
    "from pathlib import Path\n",
    "from calibs_utilities import get_all_priors, get_targets\n",
    "import estival.targets as est\n",
    "import estival.priors as esp"
   ]
  },
  {
   "cell_type": "code",
   "execution_count": 12,
   "metadata": {},
   "outputs": [],
   "source": [
    "#------DATA-MANAGEMENT------------------------\"\n",
    "df = pd.read_csv(\"./data/new_cases_England_2020.csv\")\n",
    "df[\"date\"] = pd.to_datetime(df.date)\n",
    "df.set_index([\"age\",\"date\"], inplace=True)\n",
    "\n",
    "# ages_labels = [f\"{i:02}_{i+4:02}\" for i in range(0,60, 5)] + [\"60+\"]\n",
    "# targets_data = dict()\n",
    "# for age in ages_labels:\n",
    "#     targets_data[age] = df.loc[age]\n",
    "\n",
    "ages_labels = [f\"{i:02}_{i+4:02}\" for i in range(0,60, 5)] + [\"60+\"]\n",
    "age_strat = [f\"{i}\" for i in range(0,65,5)]\n",
    "\n",
    "#Default parameters\n",
    "parameters = {\n",
    "'age_transmission_rate_'+ str(age) : 0.25 for age in age_strat\n",
    "}\n",
    "parameters['incubation_period']= 6\n",
    "parameters['infectious_period'] = 7.3\n",
    "\n",
    "\n",
    "#The fitted period is Aug 2020 to Nov 2020\n",
    "# We define a normal target with fixed std for each age catergory\n",
    "# We rolle the data for 14 day to discard fluctuations\n",
    "# esp.UniformPrior(\"IXage_\"+str(age)+\"_disp\",(0.1, 2000))\n",
    "targets = [\n",
    "    est.TruncatedNormalTarget(\"IXage_\"+str(age), df.loc[age_cat][\"Aug 2020\":\"Nov 19 2020\"].rolling(14).mean().iloc[14:][\"cases\"],\n",
    "                            (0.0,np.inf),\n",
    "                    esp.UniformPrior(\"IXage_\"+str(age)+\"_disp\",(0.1, 2000))) for age_cat, age in zip(ages_labels, age_strat)\n",
    "]\n",
    "# A uniform prior is defined for all the transmission rate\n",
    "params = {param: (0.0,1.0) for param in (parameters.keys())}\n",
    "priors = []\n",
    "# A normal prior for the incubation and infectious periods\n",
    "normal_priors = [ \n",
    "esp.TruncNormalPrior(\"incubation_period\",5.4, 3.0, (1,15)),\n",
    "esp.TruncNormalPrior(\"infectious_period\",7.3, 2.0, (1,15)),\n",
    "]\n",
    "uniform_priors = get_all_priors(params)\n",
    "priors = normal_priors + uniform_priors[:-2]\n",
    "\n",
    "model_2 = model2(model_config)\n",
    "#Defining  a Bayesian Compartmental Model\n",
    "\n",
    "bcm_model_2 = BayesianCompartmentalModel(model_2, parameters, priors,targets, extra_ll=False)"
   ]
  },
  {
   "cell_type": "markdown",
   "metadata": {},
   "source": [
    "Cannot acces the likelihood for the bcm while tempting to calibrate the targets dispersion.\n",
    "\n",
    "Therefore, imposible to use NUTS from numpyro to call the likelihood"
   ]
  },
  {
   "cell_type": "code",
   "execution_count": null,
   "metadata": {},
   "outputs": [],
   "source": [
    "bcm_model_2.run(parameters)"
   ]
  },
  {
   "cell_type": "code",
   "execution_count": 18,
   "metadata": {},
   "outputs": [],
   "source": [
    "disp_params = {k:v.ppf(0.5) for k,v in bcm_model_2.priors.items() if \"_disp\" in k}\n"
   ]
  },
  {
   "cell_type": "code",
   "execution_count": 19,
   "metadata": {},
   "outputs": [
    {
     "data": {
      "text/plain": [
       "{'IXage_0_disp': 1000.0500000000001,\n",
       " 'IXage_5_disp': 1000.0500000000001,\n",
       " 'IXage_10_disp': 1000.0500000000001,\n",
       " 'IXage_15_disp': 1000.0500000000001,\n",
       " 'IXage_20_disp': 1000.0500000000001,\n",
       " 'IXage_25_disp': 1000.0500000000001,\n",
       " 'IXage_30_disp': 1000.0500000000001,\n",
       " 'IXage_35_disp': 1000.0500000000001,\n",
       " 'IXage_40_disp': 1000.0500000000001,\n",
       " 'IXage_45_disp': 1000.0500000000001,\n",
       " 'IXage_50_disp': 1000.0500000000001,\n",
       " 'IXage_55_disp': 1000.0500000000001,\n",
       " 'IXage_60_disp': 1000.0500000000001}"
      ]
     },
     "execution_count": 19,
     "metadata": {},
     "output_type": "execute_result"
    }
   ],
   "source": [
    "disp_params"
   ]
  },
  {
   "cell_type": "code",
   "execution_count": 20,
   "metadata": {},
   "outputs": [],
   "source": [
    "def nmodel_2():\n",
    "    unif_priors = list(bcm_model_2.parameters)[:-2]\n",
    "    sampled = {k:numpyro.sample(k, dist.Uniform(0.0,1.0)) for k in unif_priors}\n",
    "    #Adding the normal priors for the incubation and infectious periods\n",
    "    sampled[\"incubation_period\"] = numpyro.sample(\"incubation_period\", dist.TruncatedNormal(7.3, 2.0, low=1., high=14.))\n",
    "    sampled[\"infectious_period\"] = numpyro.sample(\"infectious_period\", dist.TruncatedNormal(5.4, 3.0, low=1., high=14.))\n",
    "    # Log-likelihood\n",
    "    disp_params = {k:v.ppf(0.5) for k,v in bcm_model_2.priors.items() if \"_disp\" in k}\n",
    "\n",
    "    log_likelihood = bcm_model_2.loglikelihood(**sampled |disp_params)\n",
    "\n",
    "    numpyro.factor(\"ll\",log_likelihood)"
   ]
  },
  {
   "cell_type": "code",
   "execution_count": 21,
   "metadata": {},
   "outputs": [],
   "source": [
    "from jax import random\n",
    "from numpyro.infer import init_to_feasible, init_to_mean, init_to_sample, init_to_median,init_to_value, init_to_uniform"
   ]
  },
  {
   "cell_type": "code",
   "execution_count": 22,
   "metadata": {},
   "outputs": [
    {
     "data": {
      "application/vnd.jupyter.widget-view+json": {
       "model_id": "707a50a6746f43dd8b5ab96be0be16fa",
       "version_major": 2,
       "version_minor": 0
      },
      "text/plain": [
       "  0%|          | 0/110 [00:00<?, ?it/s]"
      ]
     },
     "metadata": {},
     "output_type": "display_data"
    },
    {
     "data": {
      "application/vnd.jupyter.widget-view+json": {
       "model_id": "df657e5e648f4fb7be65340428b257dd",
       "version_major": 2,
       "version_minor": 0
      },
      "text/plain": [
       "  0%|          | 0/110 [00:00<?, ?it/s]"
      ]
     },
     "metadata": {},
     "output_type": "display_data"
    },
    {
     "data": {
      "application/vnd.jupyter.widget-view+json": {
       "model_id": "db541cb87f1c433c99d55eda9d2a178c",
       "version_major": 2,
       "version_minor": 0
      },
      "text/plain": [
       "  0%|          | 0/110 [00:00<?, ?it/s]"
      ]
     },
     "metadata": {},
     "output_type": "display_data"
    },
    {
     "data": {
      "application/vnd.jupyter.widget-view+json": {
       "model_id": "18800b7b988c460eb345fa634bf27758",
       "version_major": 2,
       "version_minor": 0
      },
      "text/plain": [
       "  0%|          | 0/110 [00:00<?, ?it/s]"
      ]
     },
     "metadata": {},
     "output_type": "display_data"
    }
   ],
   "source": [
    "chains = 4\n",
    "kernel = infer.NUTS(nmodel_2, target_accept_prob=0.75, dense_mass=True, init_strategy=init_to_sample())\n",
    "mcmc = infer.MCMC(kernel, num_warmup=10, num_chains=chains, num_samples=100, progress_bar=True)\n",
    "\n",
    "mcmc.run(random.PRNGKey(0))\n",
    "idata1 = az.from_numpyro(mcmc)"
   ]
  }
 ],
 "metadata": {
  "kernelspec": {
   "display_name": "emulearn",
   "language": "python",
   "name": "python3"
  },
  "language_info": {
   "codemirror_mode": {
    "name": "ipython",
    "version": 3
   },
   "file_extension": ".py",
   "mimetype": "text/x-python",
   "name": "python",
   "nbconvert_exporter": "python",
   "pygments_lexer": "ipython3",
   "version": "3.10.14"
  }
 },
 "nbformat": 4,
 "nbformat_minor": 2
}
